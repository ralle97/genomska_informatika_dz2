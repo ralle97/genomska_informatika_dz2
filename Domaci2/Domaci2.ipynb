{
 "cells": [
  {
   "cell_type": "code",
   "execution_count": 2,
   "id": "f847677e",
   "metadata": {},
   "outputs": [],
   "source": [
    "import pysam"
   ]
  },
  {
   "cell_type": "code",
   "execution_count": 21,
   "id": "82fb8354",
   "metadata": {},
   "outputs": [
    {
     "name": "stdout",
     "output_type": "stream",
     "text": [
      "{'name': 'C0HVYACXX120402:7:1207:5722:57044', 'flag': '1187', 'ref_name': '21', 'ref_pos': '9483249', 'map_quality': '27', 'cigar': '76M', 'next_ref_name': '=', 'next_ref_pos': '9483382', 'length': '209', 'seq': 'TTTTCAAACAGTATCTATGCCTGCCAAATGTGAACATATAAAAAAAAACCAGAATGTGCCATTCTGATTTAAACTG', 'qual': '==<>@?@@>@D?>@C?>8JA5?>CC>?@???BB;H-:4A?D=DB8BDE?GBJCD@B8??E<A>CDJB@B>AA@@@C', 'tags': ['XA:Z:GL000217.1,-110754,76M,1;', 'BD:Z:NNNNNNNNNNNNNNNNNNNNNNNNNNNNNNNNNNNNNNNNNNNNNNNNNNNNNNNNNNNNNNNNNNNNNNNNNNNN', 'MD:Z:76', 'RG:Z:1', 'BI:Z:NNNNNNNNNNNNNNNNNNNNNNNNNNNNNNNNNNNNNNNNNNNNNNNNNNNNNNNNNNNNNNNNNNNNNNNNNNNN', 'NM:i:0', 'MQ:i:27', 'AS:i:76', 'XS:i:71']}\n",
      "\n",
      "\n",
      "1187\n"
     ]
    },
    {
     "name": "stderr",
     "output_type": "stream",
     "text": [
      "[E::idx_find_and_load] Could not retrieve index file for './data/merged-tumor.bam'\n"
     ]
    }
   ],
   "source": [
    "file = pysam.AlignmentFile(\"./data/merged-tumor.bam\", \"rb\")\n",
    "printFields = False\n",
    "\n",
    "for read in file:\n",
    "    if not printFields:\n",
    "        print(read.to_dict())\n",
    "        print(\"\\n\\n\" + str(read.flag))\n",
    "        printFields = True\n",
    "    else:\n",
    "        break\n",
    "\n",
    "file.close()"
   ]
  },
  {
   "cell_type": "markdown",
   "id": "ce88afa2",
   "metadata": {},
   "source": [
    "<b>Alignment Segment Fields:</b><br/>\n",
    "<b>NAME</b> &nbsp;&nbsp;&nbsp;(C0HVYACXX120402:7:1207:5722:57044)<br/>\n",
    "<b>FLAG</b> &nbsp;&nbsp;&nbsp;(1187)<br/>\n",
    "<b>REF_NAME</b> &nbsp;&nbsp;&nbsp;(21)<br/>\n",
    "<b>REF_POS</b> &nbsp;&nbsp;&nbsp;(9483249)<br/>\n",
    "<b>MAP_QUALITY</b> &nbsp;&nbsp;&nbsp;(27)<br/>\n",
    "<b>CIGAR</b> &nbsp;&nbsp;&nbsp;(76M)<br/>\n",
    "<b>NEXT_REF_NAME</b> &nbsp;&nbsp;&nbsp;(=)<br/>\n",
    "<b>NEXT_REF_POS</b> &nbsp;&nbsp;&nbsp;(9483382)<br/>\n",
    "<b>LENGTH</b> &nbsp;&nbsp;&nbsp;(209)<br/>\n",
    "<b>SEQ</b>  &nbsp;&nbsp;&nbsp;(TTTTCAAACAGTATCTATGCCTGCCAAATGTGAACATATAAAAAAAAACCAGAATGTGCCATTCTGATTTAAACTG)<br/>\n",
    "<b>QUAL</b> &nbsp;&nbsp;&nbsp;(==<>@?@@>@D?>@C?>8JA5?>CC>?@???BB;H-:4A?D=DB8BDE?GBJCD@B8??E\\<A\\>CDJB@B>AA@@@C)<br/>\n",
    "<b>TAGS:</b><br/>\n",
    "&nbsp;&nbsp;&nbsp;&nbsp;&nbsp;- XA:Z:GL000217.1,-110754,76M,1;<br/>\n",
    "&nbsp;&nbsp;&nbsp;&nbsp;&nbsp;- BD:Z:NNNNNNNNNNNNNNNNNNNNNNNNNNNNNNNNNNNNNNNNNNNNNNNNNNNNNNNNNNNNNNNNNNNNNNNNNNNN<br/>\n",
    "&nbsp;&nbsp;&nbsp;&nbsp;&nbsp;- MD:Z:76<br/>\n",
    "&nbsp;&nbsp;&nbsp;&nbsp;&nbsp;- RG:Z:1<br/>\n",
    "&nbsp;&nbsp;&nbsp;&nbsp;&nbsp;- BI:Z:NNNNNNNNNNNNNNNNNNNNNNNNNNNNNNNNNNNNNNNNNNNNNNNNNNNNNNNNNNNNNNNNNNNNNNNNNNNN<br/>\n",
    "&nbsp;&nbsp;&nbsp;&nbsp;&nbsp;- NM:i:0<br/>\n",
    "&nbsp;&nbsp;&nbsp;&nbsp;&nbsp;- MQ:i:27<br/>\n",
    "&nbsp;&nbsp;&nbsp;&nbsp;&nbsp;- AS:i:76<br/>\n",
    "&nbsp;&nbsp;&nbsp;&nbsp;&nbsp;- XS:i:71<br/>"
   ]
  },
  {
   "cell_type": "code",
   "execution_count": 22,
   "id": "6e90bfc9",
   "metadata": {},
   "outputs": [
    {
     "name": "stdout",
     "output_type": "stream",
     "text": [
      "1187\n",
      "163\n",
      "99\n",
      "99\n",
      "99\n",
      "163\n",
      "99\n",
      "1123\n",
      "99\n",
      "1123\n"
     ]
    },
    {
     "name": "stderr",
     "output_type": "stream",
     "text": [
      "[E::idx_find_and_load] Could not retrieve index file for './data/merged-tumor.bam'\n"
     ]
    }
   ],
   "source": [
    "file = pysam.AlignmentFile(\"./data/merged-tumor.bam\", \"rb\")\n",
    "n = 10\n",
    "\n",
    "for read in file:\n",
    "    if n > 0:\n",
    "        n -= 1\n",
    "        print(read.flag)\n",
    "    else:\n",
    "        break\n",
    "\n",
    "file.close()"
   ]
  },
  {
   "cell_type": "code",
   "execution_count": 32,
   "id": "f7ef9b8b",
   "metadata": {},
   "outputs": [
    {
     "name": "stderr",
     "output_type": "stream",
     "text": [
      "[E::idx_find_and_load] Could not retrieve index file for './data/merged-tumor.bam'\n"
     ]
    },
    {
     "name": "stdout",
     "output_type": "stream",
     "text": [
      "Total count of reads: 2921629\n",
      "Count of unmapped reads: 17765\n",
      "Count of reads with mapping quality of 0: 126628\n",
      "Average mapping quality count: 55.91379158681681\n",
      "Average mapping quality without zeros: 58.446975510921106\n"
     ]
    }
   ],
   "source": [
    "file = pysam.AlignmentFile(\"./data/merged-tumor.bam\", \"rb\")\n",
    "readCount = 0\n",
    "unmappedCount = 0\n",
    "zeroQualityCount = 0\n",
    "avgQuality = 0\n",
    "avgQualityWithoutZero = 0;\n",
    "\n",
    "for read in file:\n",
    "    readCount += 1\n",
    "    avgQuality += read.mapping_quality\n",
    "    \n",
    "    if read.flag & 4 > 0:\n",
    "        unmappedCount += 1\n",
    "        \n",
    "    if read.mapping_quality == 0:\n",
    "        zeroQualityCount += 1\n",
    "\n",
    "avgQualityWithoutZero = avgQuality / (readCount - zeroQualityCount)\n",
    "avgQuality /= readCount\n",
    "\n",
    "print(\"Total count of reads: \" + str(readCount))\n",
    "print(\"Count of unmapped reads: \" + str(unmappedCount))\n",
    "print(\"Count of reads with mapping quality of 0: \" + str(zeroQualityCount))\n",
    "print(\"Average mapping quality count: \" + str(avgQuality))\n",
    "print(\"Average mapping quality without zeros: \" + str(avgQualityWithoutZero))\n",
    "file.close()"
   ]
  },
  {
   "cell_type": "code",
   "execution_count": null,
   "id": "f8c1753c",
   "metadata": {},
   "outputs": [],
   "source": []
  }
 ],
 "metadata": {
  "kernelspec": {
   "display_name": "Python 3 (ipykernel)",
   "language": "python",
   "name": "python3"
  },
  "language_info": {
   "codemirror_mode": {
    "name": "ipython",
    "version": 3
   },
   "file_extension": ".py",
   "mimetype": "text/x-python",
   "name": "python",
   "nbconvert_exporter": "python",
   "pygments_lexer": "ipython3",
   "version": "3.9.7"
  }
 },
 "nbformat": 4,
 "nbformat_minor": 5
}
