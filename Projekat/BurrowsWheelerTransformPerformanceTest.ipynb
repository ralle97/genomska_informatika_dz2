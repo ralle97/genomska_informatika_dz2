{
 "cells": [
  {
   "cell_type": "code",
   "execution_count": 1,
   "id": "53164985",
   "metadata": {},
   "outputs": [],
   "source": [
    "import time\n",
    "import psutil\n",
    "import os\n",
    "from Bio import SeqIO"
   ]
  },
  {
   "cell_type": "code",
   "execution_count": 2,
   "id": "f0cc5c32",
   "metadata": {},
   "outputs": [],
   "source": [
    "%run BurrowsWheelerTransform.ipynb\n",
    "%run BurrowsWheelerTransformImproved.ipynb\n",
    "%run BurrowsWheelerTransformSearchOverGenome.ipynb"
   ]
  },
  {
   "cell_type": "code",
   "execution_count": 35,
   "id": "ff79945e",
   "metadata": {},
   "outputs": [],
   "source": [
    "\"\"\"Test samples\"\"\"\n",
    "\n",
    "test1 = \"Tomorrow_and_tomorrow_and_tomorrow$\"\n",
    "test2 = \"It_was_the_best_of_times_it_was_the_worst_of_times$\"\n",
    "test3 = \"in_the_jingle_jangle_morning_Ill_come_following_you$\"\n",
    "test4 = \"GATTTGGGGTTCAAAGCAGTATCGATCAAATAGTAAATCCATTTGTTCAACTCACAGTTTGATTTGG\\\n",
    "GGTTCAAAGCAGTAATTTGGGGTTCAAAGCAGTATCGACAAATAGTAAATCCATTTGTTCATTCAAAGCAGTAATT\\\n",
    "TGGGGTTATTTGGGGTTCAAAGCAGTATCGATCAAATAGTAAATCCATTTGTTCAACTCACAGTTT$\""
   ]
  },
  {
   "cell_type": "code",
   "execution_count": null,
   "id": "da7f8818",
   "metadata": {},
   "outputs": [],
   "source": [
    "\"\"\" Performance measurement and benchmarking \"\"\"\n",
    "\n",
    "%timeit BWTViaBWM(test1)\n",
    "%timeit BWTViaBWM(test2)\n",
    "%timeit BWTViaBWM(test3)\n",
    "%timeit BWTViaBWM(test4)\n",
    "\n",
    "print()\n",
    "\n",
    "%timeit BWTViaSA(test1)\n",
    "%timeit BWTViaSA(test2)\n",
    "%timeit BWTViaSA(test3)\n",
    "%timeit BWTViaSA(test4)\n",
    "\n",
    "print()\n",
    "\n",
    "%timeit ReverseBWT(bwt1)\n",
    "%timeit ReverseBWT(bwt2)\n",
    "%timeit ReverseBWT(bwt3)\n",
    "%timeit ReverseBWT(bwt4)"
   ]
  },
  {
   "cell_type": "code",
   "execution_count": null,
   "id": "a60f26ca",
   "metadata": {},
   "outputs": [],
   "source": [
    "!python \"./memTest/bwmTest.py\" $test1\n",
    "!python \"./memTest/bwmTest.py\" $test2\n",
    "!python \"./memTest/bwmTest.py\" $test3\n",
    "!python \"./memTest/bwmTest.py\" $test4"
   ]
  },
  {
   "cell_type": "code",
   "execution_count": null,
   "id": "ab42cdca",
   "metadata": {},
   "outputs": [],
   "source": [
    "!python \"./memTest/saTest.py\" $test1\n",
    "!python \"./memTest/saTest.py\" $test2\n",
    "!python \"./memTest/saTest.py\" $test3\n",
    "!python \"./memTest/saTest.py\" $test4"
   ]
  },
  {
   "cell_type": "code",
   "execution_count": null,
   "id": "65a603af",
   "metadata": {},
   "outputs": [],
   "source": [
    "!python \"./memTest/reverseTest.py\" $bwt1\n",
    "!python \"./memTest/reverseTest.py\" $bwt2\n",
    "!python \"./memTest/reverseTest.py\" $bwt3\n",
    "!python \"./memTest/reverseTest.py\" $bwt4"
   ]
  },
  {
   "cell_type": "code",
   "execution_count": null,
   "id": "26cbaab8",
   "metadata": {},
   "outputs": [],
   "source": [
    "!python \"./memTest/bwmTestFiles.py\" 1\n",
    "!python \"./memTest/bwmTestFiles.py\" 2\n",
    "!python \"./memTest/bwmTestFiles.py\" 3"
   ]
  },
  {
   "cell_type": "code",
   "execution_count": null,
   "id": "123f6677",
   "metadata": {},
   "outputs": [],
   "source": [
    "!python \"./memTest/saTestFiles.py\" 1\n",
    "!python \"./memTest/saTestFiles.py\" 2\n",
    "!python \"./memTest/saTestFiles.py\" 3"
   ]
  },
  {
   "cell_type": "code",
   "execution_count": null,
   "id": "64f0be65",
   "metadata": {},
   "outputs": [],
   "source": []
  },
  {
   "cell_type": "code",
   "execution_count": 3,
   "id": "b9e3b1f4",
   "metadata": {},
   "outputs": [],
   "source": [
    "\"\"\"Benchmarking Data\"\"\"\n",
    "\n",
    "dataSet = [\n",
    "    {\"file\" : \"./data/13443_ref_Cara_1.0_chr1c.fa\",\n",
    "     \"patterns\" : [\n",
    "     \"ATGCATG\",\n",
    "     \"TCTCTCTA\",\n",
    "     \"TTCACTACTCTCA\"\n",
    "     ]},\n",
    "    {\"file\" : \"./data/10093_ref_PAHARI_EIJ_v1.1_chrX.fa\",\n",
    "     \"patterns\" : [\n",
    "     \"ATGATG\",\n",
    "     \"CTCTCTA\",\n",
    "     \"TCACTACTCTCA\"\n",
    "     ]},\n",
    "    {\"file\" : \"./data/144034_ref_Pbar_UMD_V03_chrUn.fa\",\n",
    "     \"patterns\": [\n",
    "     \"CGCGAG\",\n",
    "     \"GTCGAAT\",\n",
    "     \"GGGCGTCATCGCGCG\"\n",
    "     ]}\n",
    "]"
   ]
  },
  {
   "cell_type": "code",
   "execution_count": 4,
   "id": "503a7777",
   "metadata": {},
   "outputs": [],
   "source": [
    "def BenchmarkSearchOverGenomeWithImprovedSort(stepSize):\n",
    "    for data in dataSet:\n",
    "        file = data.get(\"file\")\n",
    "        genome = GetWholeGenomeFromFile(file)\n",
    "        patterns = data.get(\"patterns\")\n",
    "        \n",
    "        for pattern in patterns:\n",
    "            duration = SearchOverGenomeWithImprovedSort(genome, pattern, stepSize)[1]\n",
    "            print(f\"{file} : {pattern} executed in: {duration}\")"
   ]
  },
  {
   "cell_type": "code",
   "execution_count": 5,
   "id": "10eb3b91",
   "metadata": {},
   "outputs": [],
   "source": [
    "def BenchmarkSearchOverGenomeWithImprovedDict(stepSize):\n",
    "    for data in dataSet:\n",
    "        file = data.get(\"file\")\n",
    "        genome = GetWholeGenomeFromFile(file)\n",
    "        patterns = data.get(\"patterns\")\n",
    "        \n",
    "        for pattern in patterns:\n",
    "            duration = SearchOverGenomeWithImprovedDict(genome, pattern, stepSize)[1]\n",
    "            print(f\"{file} : {pattern} executed in: {duration}\")"
   ]
  },
  {
   "cell_type": "code",
   "execution_count": 6,
   "id": "cdf8e89c",
   "metadata": {},
   "outputs": [],
   "source": [
    "def BenchmarkSearchOverGenomeWithOldSA(stepSize):\n",
    "    for data in dataSet:\n",
    "        file = data.get(\"file\")\n",
    "        genome = GetWholeGenomeFromFile(file)\n",
    "        patterns = data.get(\"patterns\")\n",
    "        \n",
    "        for pattern in patterns:\n",
    "            duration = SearchOverGenomeWithOldSA(genome, pattern, stepSize)[1]\n",
    "            print(f\"{file} : {pattern} executed in: {duration}\")"
   ]
  },
  {
   "cell_type": "code",
   "execution_count": 7,
   "id": "1ad91bfb",
   "metadata": {},
   "outputs": [],
   "source": [
    "def BenchmarkSearchOverGenomeWithBWM(stepSize):\n",
    "    for data in dataSet:\n",
    "        file = data.get(\"file\")\n",
    "        genome = GetWholeGenomeFromFile(file)\n",
    "        patterns = data.get(\"patterns\")\n",
    "        \n",
    "        for pattern in patterns:\n",
    "            duration = SearchOverGenomeWithBWM(genome, pattern, stepSize)[1]\n",
    "            print(f\"{file} : {pattern} executed in: {duration}\")"
   ]
  },
  {
   "cell_type": "code",
   "execution_count": 8,
   "id": "b67dd0b8",
   "metadata": {},
   "outputs": [],
   "source": [
    "def BenchmarkSearchViaImprovedSortOverWholeFile(file, pattern):\n",
    "    genome = GetWholeGenomeFromFile(file)\n",
    "    \n",
    "    startTime = time.time()\n",
    "    SearchViaImprovedSort(genome, pattern)\n",
    "    endTime = time.time()\n",
    "    duration = endTime - startTime\n",
    "    \n",
    "    print(f\"{file} : {pattern} executed in: {duration}\")"
   ]
  },
  {
   "cell_type": "code",
   "execution_count": 25,
   "id": "f02f787c",
   "metadata": {},
   "outputs": [
    {
     "name": "stdout",
     "output_type": "stream",
     "text": [
      "./data/13443_ref_Cara_1.0_chr1c.fa : ATGCATG executed in: 72.19099640846252\n",
      "./data/13443_ref_Cara_1.0_chr1c.fa : TCTCTCTA executed in: 72.15397882461548\n",
      "./data/13443_ref_Cara_1.0_chr1c.fa : TTCACTACTCTCA executed in: 72.28167748451233\n",
      "./data/10093_ref_PAHARI_EIJ_v1.1_chrX.fa : ATGATG executed in: 197.65716290473938\n",
      "./data/10093_ref_PAHARI_EIJ_v1.1_chrX.fa : CTCTCTA executed in: 201.04176306724548\n",
      "./data/10093_ref_PAHARI_EIJ_v1.1_chrX.fa : TCACTACTCTCA executed in: 196.55902981758118\n",
      "./data/144034_ref_Pbar_UMD_V03_chrUn.fa : CGCGAG executed in: 331.7564721107483\n",
      "./data/144034_ref_Pbar_UMD_V03_chrUn.fa : GTCGAAT executed in: 334.61165046691895\n",
      "./data/144034_ref_Pbar_UMD_V03_chrUn.fa : GGGCGTCATCGCGCG executed in: 335.06171774864197\n"
     ]
    }
   ],
   "source": [
    "BenchmarkSearchOverGenomeWithImprovedSort(100000)"
   ]
  },
  {
   "cell_type": "code",
   "execution_count": 11,
   "id": "ce7f1237",
   "metadata": {},
   "outputs": [],
   "source": [
    "def CompareBenchmarks(stepSize):\n",
    "    print(\"Step size is: \" + str(stepSize))\n",
    "    print(\"===================================================\")\n",
    "    print(\"\\nBenchmarkSearchOverGenomeWithImprovedSort\\n\")\n",
    "    BenchmarkSearchOverGenomeWithImprovedSort(stepSize)\n",
    "    print(\"===================================================\")\n",
    "#    print(\"\\nBenchmarkSearchOverGenomeWithImprovedDict\\n\")\n",
    "#    BenchmarkSearchOverGenomeWithImprovedDict(stepSize)\n",
    "#    print(\"===================================================\")\n",
    "#    print(\"\\nBenchmarkSearchOverGenomeWithOldSA\\n\")\n",
    "#    BenchmarkSearchOverGenomeWithOldSA(stepSize)\n",
    "#    print(\"===================================================\")\n",
    "#    print(\"\\nBenchmarkSearchOverGenomeWithBWM\\n\")\n",
    "#    BenchmarkSearchOverGenomeWithBWM(stepSize)\n",
    "#    print(\"===================================================\")"
   ]
  },
  {
   "cell_type": "code",
   "execution_count": 12,
   "id": "9fd328d5",
   "metadata": {},
   "outputs": [
    {
     "name": "stdout",
     "output_type": "stream",
     "text": [
      "Step size is: 100000\n",
      "===================================================\n",
      "\n",
      "BenchmarkSearchOverGenomeWithImprovedSort\n",
      "\n",
      "./data/13443_ref_Cara_1.0_chr1c.fa : ATGCATG executed in: 73.57338404655457\n",
      "./data/13443_ref_Cara_1.0_chr1c.fa : TCTCTCTA executed in: 78.20743083953857\n",
      "./data/13443_ref_Cara_1.0_chr1c.fa : TTCACTACTCTCA executed in: 78.1246395111084\n",
      "./data/10093_ref_PAHARI_EIJ_v1.1_chrX.fa : ATGATG executed in: 213.05156016349792\n",
      "./data/10093_ref_PAHARI_EIJ_v1.1_chrX.fa : CTCTCTA executed in: 214.63302779197693\n",
      "./data/10093_ref_PAHARI_EIJ_v1.1_chrX.fa : TCACTACTCTCA executed in: 216.29544401168823\n",
      "./data/144034_ref_Pbar_UMD_V03_chrUn.fa : CGCGAG executed in: 365.4286677837372\n",
      "./data/144034_ref_Pbar_UMD_V03_chrUn.fa : GTCGAAT executed in: 371.5078568458557\n",
      "./data/144034_ref_Pbar_UMD_V03_chrUn.fa : GGGCGTCATCGCGCG executed in: 348.6569027900696\n",
      "===================================================\n",
      "Step size is: 500000\n",
      "===================================================\n",
      "\n",
      "BenchmarkSearchOverGenomeWithImprovedSort\n",
      "\n",
      "./data/13443_ref_Cara_1.0_chr1c.fa : ATGCATG executed in: 48.143019676208496\n",
      "./data/13443_ref_Cara_1.0_chr1c.fa : TCTCTCTA executed in: 49.85723638534546\n",
      "./data/13443_ref_Cara_1.0_chr1c.fa : TTCACTACTCTCA executed in: 55.158509492874146\n",
      "./data/10093_ref_PAHARI_EIJ_v1.1_chrX.fa : ATGATG executed in: 155.7127869129181\n",
      "./data/10093_ref_PAHARI_EIJ_v1.1_chrX.fa : CTCTCTA executed in: 158.4985954761505\n",
      "./data/10093_ref_PAHARI_EIJ_v1.1_chrX.fa : TCACTACTCTCA executed in: 157.7437789440155\n",
      "./data/144034_ref_Pbar_UMD_V03_chrUn.fa : CGCGAG executed in: 252.0087685585022\n",
      "./data/144034_ref_Pbar_UMD_V03_chrUn.fa : GTCGAAT executed in: 253.3585548400879\n",
      "./data/144034_ref_Pbar_UMD_V03_chrUn.fa : GGGCGTCATCGCGCG executed in: 227.78520441055298\n",
      "===================================================\n",
      "Step size is: 1000000\n",
      "===================================================\n",
      "\n",
      "BenchmarkSearchOverGenomeWithImprovedSort\n",
      "\n",
      "./data/13443_ref_Cara_1.0_chr1c.fa : ATGCATG executed in: 45.79607152938843\n",
      "./data/13443_ref_Cara_1.0_chr1c.fa : TCTCTCTA executed in: 46.76322102546692\n",
      "./data/13443_ref_Cara_1.0_chr1c.fa : TTCACTACTCTCA executed in: 46.81227111816406\n",
      "./data/10093_ref_PAHARI_EIJ_v1.1_chrX.fa : ATGATG executed in: 151.0345311164856\n",
      "./data/10093_ref_PAHARI_EIJ_v1.1_chrX.fa : CTCTCTA executed in: 154.7904930114746\n",
      "./data/10093_ref_PAHARI_EIJ_v1.1_chrX.fa : TCACTACTCTCA executed in: 153.76867246627808\n",
      "./data/144034_ref_Pbar_UMD_V03_chrUn.fa : CGCGAG executed in: 236.3686327934265\n",
      "./data/144034_ref_Pbar_UMD_V03_chrUn.fa : GTCGAAT executed in: 216.76005268096924\n",
      "./data/144034_ref_Pbar_UMD_V03_chrUn.fa : GGGCGTCATCGCGCG executed in: 213.17875623703003\n",
      "===================================================\n"
     ]
    }
   ],
   "source": [
    "#CompareBenchmarks(1000)\n",
    "#CompareBenchmarks(5000)\n",
    "#CompareBenchmarks(10000)\n",
    "#CompareBenchmarks(50000)\n",
    "CompareBenchmarks(100000)\n",
    "CompareBenchmarks(500000)\n",
    "CompareBenchmarks(1000000)"
   ]
  },
  {
   "cell_type": "code",
   "execution_count": 16,
   "id": "2c19a5a4",
   "metadata": {},
   "outputs": [
    {
     "name": "stdout",
     "output_type": "stream",
     "text": [
      "./data/13443_ref_Cara_1.0_chr1c.fa : ATGCATG executed in: 51.47582387924194\n",
      "./data/13443_ref_Cara_1.0_chr1c.fa : TCTCTCTA executed in: 56.944053411483765\n",
      "./data/13443_ref_Cara_1.0_chr1c.fa : TTCACTACTCTCA executed in: 57.87396454811096\n"
     ]
    }
   ],
   "source": [
    "file = dataSet[0].get(\"file\")\n",
    "patterns = dataSet[0].get(\"patterns\")\n",
    "for pattern in patterns:\n",
    "    BenchmarkSearchViaImprovedSortOverWholeFile(file, pattern)"
   ]
  },
  {
   "cell_type": "code",
   "execution_count": 26,
   "id": "94b54489",
   "metadata": {},
   "outputs": [
    {
     "name": "stdout",
     "output_type": "stream",
     "text": [
      "Used this much memory: 87.0625 Mb\n"
     ]
    },
    {
     "name": "stderr",
     "output_type": "stream",
     "text": [
      "D:\\Anaconda\\lib\\site-packages\\pydivsufsort\\divsufsort.py:76: UserWarning: converting str argument uses more memory\n",
      "  warnings.warn(\"converting str argument uses more memory\")\n"
     ]
    },
    {
     "name": "stdout",
     "output_type": "stream",
     "text": [
      "Used this much memory: 85.96484375 Mb\n"
     ]
    },
    {
     "name": "stderr",
     "output_type": "stream",
     "text": [
      "D:\\Anaconda\\lib\\site-packages\\pydivsufsort\\divsufsort.py:76: UserWarning: converting str argument uses more memory\n",
      "  warnings.warn(\"converting str argument uses more memory\")\n"
     ]
    },
    {
     "name": "stdout",
     "output_type": "stream",
     "text": [
      "Used this much memory: 85.171875 Mb"
     ]
    },
    {
     "name": "stderr",
     "output_type": "stream",
     "text": [
      "D:\\Anaconda\\lib\\site-packages\\pydivsufsort\\divsufsort.py:76: UserWarning: converting str argument uses more memory\n",
      "  warnings.warn(\"converting str argument uses more memory\")\n"
     ]
    },
    {
     "name": "stdout",
     "output_type": "stream",
     "text": [
      "\n",
      "Used this much memory: 84.890625 Mb\n"
     ]
    },
    {
     "name": "stderr",
     "output_type": "stream",
     "text": [
      "D:\\Anaconda\\lib\\site-packages\\pydivsufsort\\divsufsort.py:76: UserWarning: converting str argument uses more memory\n",
      "  warnings.warn(\"converting str argument uses more memory\")\n"
     ]
    },
    {
     "name": "stdout",
     "output_type": "stream",
     "text": [
      "Used this much memory: 85.875 Mb\n"
     ]
    },
    {
     "name": "stderr",
     "output_type": "stream",
     "text": [
      "D:\\Anaconda\\lib\\site-packages\\pydivsufsort\\divsufsort.py:76: UserWarning: converting str argument uses more memory\n",
      "  warnings.warn(\"converting str argument uses more memory\")\n"
     ]
    },
    {
     "name": "stdout",
     "output_type": "stream",
     "text": [
      "Used this much memory: 85.68359375 Mb\n"
     ]
    },
    {
     "name": "stderr",
     "output_type": "stream",
     "text": [
      "D:\\Anaconda\\lib\\site-packages\\pydivsufsort\\divsufsort.py:76: UserWarning: converting str argument uses more memory\n",
      "  warnings.warn(\"converting str argument uses more memory\")\n"
     ]
    },
    {
     "name": "stdout",
     "output_type": "stream",
     "text": [
      "Used this much memory: 85.28125 Mb\n"
     ]
    },
    {
     "name": "stderr",
     "output_type": "stream",
     "text": [
      "D:\\Anaconda\\lib\\site-packages\\pydivsufsort\\divsufsort.py:76: UserWarning: converting str argument uses more memory\n",
      "  warnings.warn(\"converting str argument uses more memory\")\n"
     ]
    }
   ],
   "source": [
    "!python \"./memTest/searchOverGenomeFirstFile.py\" \"ATGCATG\" 10000\n",
    "!python \"./memTest/searchOverGenomeFirstFile.py\" \"ATGCATG\" 50000\n",
    "!python \"./memTest/searchOverGenomeFirstFile.py\" \"ATGCATG\" 100000\n",
    "!python \"./memTest/searchOverGenomeFirstFile.py\" \"ATGCATG\" 500000\n",
    "!python \"./memTest/searchOverGenomeFirstFile.py\" \"ATGCATG\" 1000000\n",
    "!python \"./memTest/searchOverGenomeFirstFile.py\" \"ATGCATG\" 5000000\n",
    "!python \"./memTest/searchOverGenomeFirstFile.py\" \"ATGCATG\" 10000000"
   ]
  },
  {
   "cell_type": "code",
   "execution_count": 25,
   "id": "8276bbaa",
   "metadata": {},
   "outputs": [
    {
     "name": "stdout",
     "output_type": "stream",
     "text": [
      "Used this much memory: 85.57421875 Mb\n"
     ]
    },
    {
     "name": "stderr",
     "output_type": "stream",
     "text": [
      "D:\\Anaconda\\lib\\site-packages\\pydivsufsort\\divsufsort.py:76: UserWarning: converting str argument uses more memory\n",
      "  warnings.warn(\"converting str argument uses more memory\")\n"
     ]
    },
    {
     "name": "stdout",
     "output_type": "stream",
     "text": [
      "Used this much memory: 85.26953125 Mb\n"
     ]
    },
    {
     "name": "stderr",
     "output_type": "stream",
     "text": [
      "D:\\Anaconda\\lib\\site-packages\\pydivsufsort\\divsufsort.py:76: UserWarning: converting str argument uses more memory\n",
      "  warnings.warn(\"converting str argument uses more memory\")\n"
     ]
    },
    {
     "name": "stdout",
     "output_type": "stream",
     "text": [
      "Used this much memory: 84.9921875 Mb"
     ]
    },
    {
     "name": "stderr",
     "output_type": "stream",
     "text": [
      "D:\\Anaconda\\lib\\site-packages\\pydivsufsort\\divsufsort.py:76: UserWarning: converting str argument uses more memory\n",
      "  warnings.warn(\"converting str argument uses more memory\")\n"
     ]
    },
    {
     "name": "stdout",
     "output_type": "stream",
     "text": [
      "\n"
     ]
    }
   ],
   "source": [
    "!python \"./memTest/searchOverGenomeFirstFile.py\" \"ATGCATG\" 100000\n",
    "!python \"./memTest/searchOverGenomeFirstFile.py\" \"TCTCTCTA\" 100000\n",
    "!python \"./memTest/searchOverGenomeFirstFile.py\" \"TTCACTACTCTCA\" 100000"
   ]
  },
  {
   "cell_type": "code",
   "execution_count": null,
   "id": "d723c58d",
   "metadata": {},
   "outputs": [],
   "source": []
  }
 ],
 "metadata": {
  "kernelspec": {
   "display_name": "Python 3 (ipykernel)",
   "language": "python",
   "name": "python3"
  },
  "language_info": {
   "codemirror_mode": {
    "name": "ipython",
    "version": 3
   },
   "file_extension": ".py",
   "mimetype": "text/x-python",
   "name": "python",
   "nbconvert_exporter": "python",
   "pygments_lexer": "ipython3",
   "version": "3.9.12"
  }
 },
 "nbformat": 4,
 "nbformat_minor": 5
}
