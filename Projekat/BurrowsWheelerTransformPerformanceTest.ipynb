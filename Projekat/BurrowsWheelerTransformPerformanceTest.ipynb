{
 "cells": [
  {
   "cell_type": "code",
   "execution_count": null,
   "id": "53164985",
   "metadata": {},
   "outputs": [],
   "source": [
    "import time\n",
    "import psutil\n",
    "import os"
   ]
  },
  {
   "cell_type": "code",
   "execution_count": null,
   "id": "f0cc5c32",
   "metadata": {},
   "outputs": [],
   "source": [
    "%run BurrowsWheelerTransform.ipynb\n",
    "%run BurrowsWheelerTransformImproved.ipynb"
   ]
  },
  {
   "cell_type": "code",
   "execution_count": null,
   "id": "ff79945e",
   "metadata": {},
   "outputs": [],
   "source": [
    "\"\"\"Test samples\"\"\"\n",
    "\n",
    "test1 = \"Tomorrow_and_tomorrow_and_tomorrow$\"\n",
    "test2 = \"It_was_the_best_of_times_it_was_the_worst_of_times$\"\n",
    "test3 = \"in_the_jingle_jangle_morning_Ill_come_following_you$\"\n",
    "test4 = \"GATTTGGGGTTCAAAGCAGTATCGATCAAATAGTAAATCCATTTGTTCAACTCACAGTTTGATTTGG\\\n",
    "GGTTCAAAGCAGTAATTTGGGGTTCAAAGCAGTATCGACAAATAGTAAATCCATTTGTTCATTCAAAGCAGTAATT\\\n",
    "TGGGGTTATTTGGGGTTCAAAGCAGTATCGATCAAATAGTAAATCCATTTGTTCAACTCACAGTTT$\""
   ]
  },
  {
   "cell_type": "code",
   "execution_count": null,
   "id": "da7f8818",
   "metadata": {},
   "outputs": [],
   "source": [
    "\"\"\" Performance measurement and benchmarking \"\"\"\n",
    "\n",
    "%timeit BWTViaBWM(test1)\n",
    "%timeit BWTViaBWM(test2)\n",
    "%timeit BWTViaBWM(test3)\n",
    "%timeit BWTViaBWM(test4)\n",
    "\n",
    "print()\n",
    "\n",
    "%timeit BWTViaSA(test1)\n",
    "%timeit BWTViaSA(test2)\n",
    "%timeit BWTViaSA(test3)\n",
    "%timeit BWTViaSA(test4)\n",
    "\n",
    "print()\n",
    "\n",
    "%timeit ReverseBWT(bwt1)\n",
    "%timeit ReverseBWT(bwt2)\n",
    "%timeit ReverseBWT(bwt3)\n",
    "%timeit ReverseBWT(bwt4)"
   ]
  },
  {
   "cell_type": "code",
   "execution_count": null,
   "id": "a60f26ca",
   "metadata": {},
   "outputs": [],
   "source": [
    "!python \"./memTest/bwmTest.py\" $test1\n",
    "!python \"./memTest/bwmTest.py\" $test2\n",
    "!python \"./memTest/bwmTest.py\" $test3\n",
    "!python \"./memTest/bwmTest.py\" $test4"
   ]
  },
  {
   "cell_type": "code",
   "execution_count": null,
   "id": "ab42cdca",
   "metadata": {},
   "outputs": [],
   "source": [
    "!python \"./memTest/saTest.py\" $test1\n",
    "!python \"./memTest/saTest.py\" $test2\n",
    "!python \"./memTest/saTest.py\" $test3\n",
    "!python \"./memTest/saTest.py\" $test4"
   ]
  },
  {
   "cell_type": "code",
   "execution_count": null,
   "id": "65a603af",
   "metadata": {},
   "outputs": [],
   "source": [
    "!python \"./memTest/reverseTest.py\" $bwt1\n",
    "!python \"./memTest/reverseTest.py\" $bwt2\n",
    "!python \"./memTest/reverseTest.py\" $bwt3\n",
    "!python \"./memTest/reverseTest.py\" $bwt4"
   ]
  },
  {
   "cell_type": "code",
   "execution_count": null,
   "id": "26cbaab8",
   "metadata": {},
   "outputs": [],
   "source": [
    "!python \"./memTest/bwmTestFiles.py\" 1\n",
    "!python \"./memTest/bwmTestFiles.py\" 2\n",
    "!python \"./memTest/bwmTestFiles.py\" 3"
   ]
  },
  {
   "cell_type": "code",
   "execution_count": null,
   "id": "123f6677",
   "metadata": {},
   "outputs": [],
   "source": [
    "!python \"./memTest/saTestFiles.py\" 1\n",
    "!python \"./memTest/saTestFiles.py\" 2\n",
    "!python \"./memTest/saTestFiles.py\" 3"
   ]
  },
  {
   "cell_type": "code",
   "execution_count": null,
   "id": "64f0be65",
   "metadata": {},
   "outputs": [],
   "source": []
  },
  {
   "cell_type": "code",
   "execution_count": null,
   "id": "b9e3b1f4",
   "metadata": {},
   "outputs": [],
   "source": [
    "\"\"\"Benchmarking Data\"\"\"\n",
    "\n",
    "dataSet = [\n",
    "    {\"file\" : \"./data/13443_ref_Cara_1.0_chr1c.fa\",\n",
    "     \"patterns\" : [\n",
    "     \"ATGCATG\",\n",
    "     \"TCTCTCTA\",\n",
    "     \"TTCACTACTCTCA\"\n",
    "     ]},\n",
    "    {\"file\" : \"./data/10093_ref_PAHARI_EIJ_v1.1_chrX.fa\",\n",
    "     \"patterns\" : [\n",
    "     \"ATGATG\",\n",
    "     \"CTCTCTA\",\n",
    "     \"TCACTACTCTCA\"\n",
    "     ]},\n",
    "    {\"file\" : \"./data/144034_ref_Pbar_UMD_V03_chrUn.fa\",\n",
    "     \"patterns\": [\n",
    "     \"CGCGAG\",\n",
    "     \"GTCGAAT\",\n",
    "     \"GGGCGTCATCGCGCG\"\n",
    "     ]}\n",
    "]"
   ]
  },
  {
   "cell_type": "code",
   "execution_count": null,
   "id": "503a7777",
   "metadata": {},
   "outputs": [],
   "source": [
    "def BenchmarkSearchViaImprovedSort():\n",
    "    for data in dataSet:\n",
    "        file = data.get(\"file\")\n",
    "        genome = GetWholeGenomeFromFile(file)\n",
    "        patterns = data.get(\"patterns\")\n",
    "        \n",
    "        for pattern in patterns:\n",
    "            startTime = time.time()\n",
    "            SearchViaImprovedSort(genome, pattern)\n",
    "            endTime = time.time()\n",
    "            duration = endTime - startTime\n",
    "            print(f\"{file} : {pattern} executed in {duration}\")"
   ]
  },
  {
   "cell_type": "code",
   "execution_count": null,
   "id": "10eb3b91",
   "metadata": {},
   "outputs": [],
   "source": [
    "def BenchmarkSearchViaImprovedDict():\n",
    "    for data in dataSet:\n",
    "        file = data.get(\"file\")\n",
    "        genome = GetWholeGenomeFromFile(file)\n",
    "        patterns = data.get(\"patterns\")\n",
    "        print(\"StartBWT\")\n",
    "        bwt = BWTViaSAImprovedDict(genome)\n",
    "        print(\"EndBWT\")\n",
    "        \n",
    "        for pattern in patterns:\n",
    "            startTime = time.time()\n",
    "            SearchViaImprovedDict(genome, bwt, pattern)\n",
    "            endTime = time.time()\n",
    "            duration = endTime - startTime\n",
    "            print(f\"{file} : {pattern} executed in {duration}\")"
   ]
  },
  {
   "cell_type": "code",
   "execution_count": null,
   "id": "c9b6ba86",
   "metadata": {},
   "outputs": [],
   "source": [
    "BenchmarkSearchViaImprovedSort()"
   ]
  },
  {
   "cell_type": "code",
   "execution_count": null,
   "id": "4c28ff2c",
   "metadata": {},
   "outputs": [],
   "source": [
    "BenchmarkSearchViaImprovedDict()"
   ]
  },
  {
   "cell_type": "code",
   "execution_count": null,
   "id": "b67dd0b8",
   "metadata": {},
   "outputs": [],
   "source": [
    "def BenchmarkFileSearchViaImprovedSort(file, pattern):\n",
    "    genome = GetWholeGenomeFromFile(file)\n",
    "    \n",
    "    startTime = time.time()\n",
    "    SearchViaImprovedSort(genome, pattern)\n",
    "    endTime = time.time()\n",
    "    duration = endTime - startTime\n",
    "    \n",
    "    print(f\"{file} : {pattern} executed in {duration}\")"
   ]
  },
  {
   "cell_type": "code",
   "execution_count": null,
   "id": "ff991ae8",
   "metadata": {},
   "outputs": [],
   "source": [
    "BenchmarkFileSearchViaImprovedSort(dataSet[1].get(\"file\"), dataSet[1].get(\"patterns\")[1])"
   ]
  },
  {
   "cell_type": "code",
   "execution_count": null,
   "id": "d94ec095",
   "metadata": {},
   "outputs": [],
   "source": [
    "#for i in range(1, len(sequences) + 1):\n",
    "#    with open(\"./data/\" + \"sequence\" + str(i) + \".txt\", \"w\") as f:\n",
    "#        f.write(sequences[i - 1])\n",
    "#        f.close()"
   ]
  },
  {
   "cell_type": "code",
   "execution_count": null,
   "id": "baa39526",
   "metadata": {},
   "outputs": [],
   "source": [
    "genome = GetWholeGenomeFromFile(dataSet[0].get(\"file\"))\n",
    "genome[len(genome)-5:len(genome)]"
   ]
  },
  {
   "cell_type": "code",
   "execution_count": null,
   "id": "160e9df1",
   "metadata": {},
   "outputs": [],
   "source": [
    "\"\"\"Pokreni ovaj blok iznad sa GetWholeGenome i slobodno stavi dataSet[2] za ovaj treci fajl i onda on uzima po step karaktera\n",
    "i radi bwt i onda nikad memoriju ne prepuni i onda nikad ne mora da pristupa disku sto je mnogo sporo al ovo nije konacno\n",
    "fali samo jedna stvar a to je sto ti uzmes jedan komad od size karaktera i nadjes pozicije, onda uzmes drugi komad od size\n",
    "karaktera i nadjes pozicije ali ako je pattern pola na prvom komadu, pola na drugom komadu to nece da nadje tako da ovo\n",
    "treba da se nadogradi tako sto bi uzeo poslednjih len(pattern) karaktera prvog komada i prvih len(pattern) karaktera drugog\n",
    "komada, onda konkatenacija pa opet bwt\n",
    "ispod ovog cell-a sam stavio cist search da bi video dal su to ti indexi i onda uradis ctrl+f i ako nadje 2 to je to al \n",
    "videces da za neke nadje 1 to su ti sto su na prelazu\"\"\"\n",
    "indexes = []\n",
    "size = 100000\n",
    "\n",
    "startTime = time.time()\n",
    "for i in range(0, len(genome)//size):\n",
    "    string = genome[i*size:i*size+size]\n",
    "    \n",
    "    tempIndex = SearchViaImprovedSort(string, \"CGCGAG\")\n",
    "    \n",
    "    indexes.append(list(map(lambda x:x+i*size,tempIndex)))\n",
    "    \n",
    "endTime = time.time()\n",
    "novo = [indexes[i] for i in range(0,len(indexes)) if indexes[i] != [-1]]\n",
    "print(novo)\n",
    "print(endTime-startTime)"
   ]
  },
  {
   "cell_type": "code",
   "execution_count": null,
   "id": "82765738",
   "metadata": {},
   "outputs": [],
   "source": [
    "SearchViaImprovedSort(genome, \"CGCGAG\")"
   ]
  },
  {
   "cell_type": "code",
   "execution_count": null,
   "id": "9247ba61",
   "metadata": {},
   "outputs": [],
   "source": []
  },
  {
   "cell_type": "code",
   "execution_count": null,
   "id": "97e13fdd",
   "metadata": {},
   "outputs": [],
   "source": []
  },
  {
   "cell_type": "code",
   "execution_count": null,
   "id": "ce7f1237",
   "metadata": {},
   "outputs": [],
   "source": []
  }
 ],
 "metadata": {
  "kernelspec": {
   "display_name": "Python 3 (ipykernel)",
   "language": "python",
   "name": "python3"
  },
  "language_info": {
   "codemirror_mode": {
    "name": "ipython",
    "version": 3
   },
   "file_extension": ".py",
   "mimetype": "text/x-python",
   "name": "python",
   "nbconvert_exporter": "python",
   "pygments_lexer": "ipython3",
   "version": "3.9.7"
  }
 },
 "nbformat": 4,
 "nbformat_minor": 5
}
