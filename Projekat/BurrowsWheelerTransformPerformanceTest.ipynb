{
 "cells": [
  {
   "cell_type": "code",
   "execution_count": null,
   "id": "f0cc5c32",
   "metadata": {},
   "outputs": [],
   "source": [
    "%run BurrowsWheelerTransform.ipynb"
   ]
  },
  {
   "cell_type": "code",
   "execution_count": null,
   "id": "ff79945e",
   "metadata": {},
   "outputs": [],
   "source": [
    "\"\"\"Test samples\"\"\"\n",
    "\n",
    "test1 = \"Tomorrow_and_tomorrow_and_tomorrow$\"\n",
    "test2 = \"It_was_the_best_of_times_it_was_the_worst_of_times$\"\n",
    "test3 = \"in_the_jingle_jangle_morning_Ill_come_following_you$\"\n",
    "test4 = \"GATTTGGGGTTCAAAGCAGTATCGATCAAATAGTAAATCCATTTGTTCAACTCACAGTTTGATTTGG\\\n",
    "GGTTCAAAGCAGTAATTTGGGGTTCAAAGCAGTATCGACAAATAGTAAATCCATTTGTTCATTCAAAGCAGTAATT\\\n",
    "TGGGGTTATTTGGGGTTCAAAGCAGTATCGATCAAATAGTAAATCCATTTGTTCAACTCACAGTTT$\""
   ]
  },
  {
   "cell_type": "code",
   "execution_count": null,
   "id": "da7f8818",
   "metadata": {},
   "outputs": [],
   "source": [
    "\"\"\" Performance measurement and benchmarking \"\"\"\n",
    "\n",
    "%timeit BWTViaBWM(test1)\n",
    "%timeit BWTViaBWM(test2)\n",
    "%timeit BWTViaBWM(test3)\n",
    "%timeit BWTViaBWM(test4)\n",
    "\n",
    "print()\n",
    "\n",
    "%timeit BWTViaSA(test1)\n",
    "%timeit BWTViaSA(test2)\n",
    "%timeit BWTViaSA(test3)\n",
    "%timeit BWTViaSA(test4)\n",
    "\n",
    "print()\n",
    "\n",
    "%timeit ReverseBWT(bwt1)\n",
    "%timeit ReverseBWT(bwt2)\n",
    "%timeit ReverseBWT(bwt3)\n",
    "%timeit ReverseBWT(bwt4)"
   ]
  },
  {
   "cell_type": "code",
   "execution_count": null,
   "id": "a60f26ca",
   "metadata": {},
   "outputs": [],
   "source": [
    "!python \"./memTest/bwmTest.py\" $test1\n",
    "!python \"./memTest/bwmTest.py\" $test2\n",
    "!python \"./memTest/bwmTest.py\" $test3\n",
    "!python \"./memTest/bwmTest.py\" $test4"
   ]
  },
  {
   "cell_type": "code",
   "execution_count": null,
   "id": "ab42cdca",
   "metadata": {},
   "outputs": [],
   "source": [
    "!python \"./memTest/saTest.py\" $test1\n",
    "!python \"./memTest/saTest.py\" $test2\n",
    "!python \"./memTest/saTest.py\" $test3\n",
    "!python \"./memTest/saTest.py\" $test4"
   ]
  },
  {
   "cell_type": "code",
   "execution_count": null,
   "id": "65a603af",
   "metadata": {},
   "outputs": [],
   "source": [
    "!python \"./memTest/reverseTest.py\" $bwt1\n",
    "!python \"./memTest/reverseTest.py\" $bwt2\n",
    "!python \"./memTest/reverseTest.py\" $bwt3\n",
    "!python \"./memTest/reverseTest.py\" $bwt4"
   ]
  },
  {
   "cell_type": "code",
   "execution_count": null,
   "id": "26cbaab8",
   "metadata": {},
   "outputs": [],
   "source": [
    "!python \"./memTest/bwmTestFiles.py\" 1\n",
    "!python \"./memTest/bwmTestFiles.py\" 2\n",
    "!python \"./memTest/bwmTestFiles.py\" 3"
   ]
  },
  {
   "cell_type": "code",
   "execution_count": null,
   "id": "123f6677",
   "metadata": {},
   "outputs": [],
   "source": [
    "!python \"./memTest/saTestFiles.py\" 1\n",
    "!python \"./memTest/saTestFiles.py\" 2\n",
    "!python \"./memTest/saTestFiles.py\" 3"
   ]
  },
  {
   "cell_type": "code",
   "execution_count": null,
   "id": "64f0be65",
   "metadata": {},
   "outputs": [],
   "source": []
  },
  {
   "cell_type": "code",
   "execution_count": null,
   "id": "b9e3b1f4",
   "metadata": {},
   "outputs": [],
   "source": []
  }
 ],
 "metadata": {
  "kernelspec": {
   "display_name": "Python 3 (ipykernel)",
   "language": "python",
   "name": "python3"
  },
  "language_info": {
   "codemirror_mode": {
    "name": "ipython",
    "version": 3
   },
   "file_extension": ".py",
   "mimetype": "text/x-python",
   "name": "python",
   "nbconvert_exporter": "python",
   "pygments_lexer": "ipython3",
   "version": "3.9.7"
  }
 },
 "nbformat": 4,
 "nbformat_minor": 5
}
