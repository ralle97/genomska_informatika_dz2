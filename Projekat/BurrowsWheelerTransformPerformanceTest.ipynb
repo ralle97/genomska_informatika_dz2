{
 "cells": [
  {
   "cell_type": "code",
   "execution_count": null,
   "id": "53164985",
   "metadata": {},
   "outputs": [],
   "source": [
    "from Bio import SeqIO\n",
    "import time\n",
    "import psutil\n",
    "import os"
   ]
  },
  {
   "cell_type": "code",
   "execution_count": null,
   "id": "f0cc5c32",
   "metadata": {},
   "outputs": [],
   "source": [
    "%run BurrowsWheelerTransform.ipynb"
   ]
  },
  {
   "cell_type": "code",
   "execution_count": null,
   "id": "ff79945e",
   "metadata": {},
   "outputs": [],
   "source": [
    "\"\"\"Test samples\"\"\"\n",
    "\n",
    "test1 = \"Tomorrow_and_tomorrow_and_tomorrow$\"\n",
    "test2 = \"It_was_the_best_of_times_it_was_the_worst_of_times$\"\n",
    "test3 = \"in_the_jingle_jangle_morning_Ill_come_following_you$\"\n",
    "test4 = \"GATTTGGGGTTCAAAGCAGTATCGATCAAATAGTAAATCCATTTGTTCAACTCACAGTTTGATTTGG\\\n",
    "GGTTCAAAGCAGTAATTTGGGGTTCAAAGCAGTATCGACAAATAGTAAATCCATTTGTTCATTCAAAGCAGTAATT\\\n",
    "TGGGGTTATTTGGGGTTCAAAGCAGTATCGATCAAATAGTAAATCCATTTGTTCAACTCACAGTTT$\""
   ]
  },
  {
   "cell_type": "code",
   "execution_count": null,
   "id": "da7f8818",
   "metadata": {},
   "outputs": [],
   "source": [
    "\"\"\" Performance measurement and benchmarking \"\"\"\n",
    "\n",
    "%timeit BWTViaBWM(test1)\n",
    "%timeit BWTViaBWM(test2)\n",
    "%timeit BWTViaBWM(test3)\n",
    "%timeit BWTViaBWM(test4)\n",
    "\n",
    "print()\n",
    "\n",
    "%timeit BWTViaSA(test1)\n",
    "%timeit BWTViaSA(test2)\n",
    "%timeit BWTViaSA(test3)\n",
    "%timeit BWTViaSA(test4)\n",
    "\n",
    "print()\n",
    "\n",
    "%timeit ReverseBWT(bwt1)\n",
    "%timeit ReverseBWT(bwt2)\n",
    "%timeit ReverseBWT(bwt3)\n",
    "%timeit ReverseBWT(bwt4)"
   ]
  },
  {
   "cell_type": "code",
   "execution_count": null,
   "id": "a60f26ca",
   "metadata": {},
   "outputs": [],
   "source": [
    "!python \"./memTest/bwmTest.py\" $test1\n",
    "!python \"./memTest/bwmTest.py\" $test2\n",
    "!python \"./memTest/bwmTest.py\" $test3\n",
    "!python \"./memTest/bwmTest.py\" $test4"
   ]
  },
  {
   "cell_type": "code",
   "execution_count": null,
   "id": "ab42cdca",
   "metadata": {},
   "outputs": [],
   "source": [
    "!python \"./memTest/saTest.py\" $test1\n",
    "!python \"./memTest/saTest.py\" $test2\n",
    "!python \"./memTest/saTest.py\" $test3\n",
    "!python \"./memTest/saTest.py\" $test4"
   ]
  },
  {
   "cell_type": "code",
   "execution_count": null,
   "id": "65a603af",
   "metadata": {},
   "outputs": [],
   "source": [
    "!python \"./memTest/reverseTest.py\" $bwt1\n",
    "!python \"./memTest/reverseTest.py\" $bwt2\n",
    "!python \"./memTest/reverseTest.py\" $bwt3\n",
    "!python \"./memTest/reverseTest.py\" $bwt4"
   ]
  },
  {
   "cell_type": "code",
   "execution_count": null,
   "id": "26cbaab8",
   "metadata": {},
   "outputs": [],
   "source": [
    "!python \"./memTest/bwmTestFiles.py\" 1\n",
    "!python \"./memTest/bwmTestFiles.py\" 2\n",
    "!python \"./memTest/bwmTestFiles.py\" 3"
   ]
  },
  {
   "cell_type": "code",
   "execution_count": null,
   "id": "123f6677",
   "metadata": {},
   "outputs": [],
   "source": [
    "!python \"./memTest/saTestFiles.py\" 1\n",
    "!python \"./memTest/saTestFiles.py\" 2\n",
    "!python \"./memTest/saTestFiles.py\" 3"
   ]
  },
  {
   "cell_type": "code",
   "execution_count": null,
   "id": "64f0be65",
   "metadata": {},
   "outputs": [],
   "source": []
  },
  {
   "cell_type": "code",
   "execution_count": null,
   "id": "b9e3b1f4",
   "metadata": {},
   "outputs": [],
   "source": [
    "\"\"\" Paths to fasta data files \"\"\"\n",
    "\n",
    "file1 = \"./data/13443_ref_Cara_1.0_chr1c.fa\"\n",
    "file2 = \"./data/10093_ref_PAHARI_EIJ_v1.1_chrX.fa\"\n",
    "file3 = \"./data/144034_ref_Pbar_UMD_V03_chrUn.fa\"\n",
    "\n",
    "files = [file1,\n",
    "    file2,\n",
    "    file3\n",
    "]"
   ]
  },
  {
   "cell_type": "code",
   "execution_count": null,
   "id": "21b385ce",
   "metadata": {},
   "outputs": [],
   "source": [
    "\"\"\" Search patterns for data files \"\"\"\n",
    "\n",
    "patternsForFile1 = [\n",
    "    \"ATGCATG\",\n",
    "    \"TCTCTCTA\",\n",
    "    \"TTCACTACTCTCA\"\n",
    "]\n",
    "\n",
    "patternsForFile2 = [\n",
    "    \"ATGATG\",\n",
    "    \"CTCTCTA\",\n",
    "    \"TCACTACTCTCA\"\n",
    "]\n",
    "#Change to whatever\n",
    "patternsForFile3 = [\n",
    "    \"ATGATG\",\n",
    "    \"CTCTCTA\",\n",
    "    \"TCACTACTCTCA\"\n",
    "]"
   ]
  },
  {
   "cell_type": "code",
   "execution_count": null,
   "id": "96b1e758",
   "metadata": {},
   "outputs": [],
   "source": [
    "\"\"\" Fasta sequences are often broken in smaller chunks. This function appends all sequences for a given file. \"\"\"\n",
    "def GetWholeGenomeFromFile(file):\n",
    "    records = list(SeqIO.parse(file, \"fasta\"))\n",
    "    sequence = \"\"\n",
    "    for i in range(0, len(records)):\n",
    "        sequence += records[i].seq\n",
    "    return \"\".join(str(sequence).split())\n",
    "\n",
    "#fasta_sequences = SeqIO.parse(open(input_file),'fasta')\n",
    "#with open(output_file) as out_file:\n",
    "    #for fasta in fasta_sequences:\n",
    "        #name, sequence = fasta.id, str(fasta.seq)\n",
    "        #new_sequence = some_function(sequence)\n",
    "        #write_fasta(out_file)"
   ]
  },
  {
   "cell_type": "code",
   "execution_count": null,
   "id": "fc6b2270",
   "metadata": {},
   "outputs": [],
   "source": [
    "sequences = [] # list containing all of the sequences we need to work with\n",
    "\n",
    "for file in files:\n",
    "    sequences.append(GetWholeGenomeFromFile(file) + '$')"
   ]
  },
  {
   "cell_type": "code",
   "execution_count": null,
   "id": "d94ec095",
   "metadata": {},
   "outputs": [],
   "source": [
    "#for i in range(1, len(sequences) + 1):\n",
    "#    with open(\"./data/\" + \"sequence\" + str(i) + \".txt\", \"w\") as f:\n",
    "#        f.write(sequences[i - 1])\n",
    "#        f.close()"
   ]
  },
  {
   "cell_type": "code",
   "execution_count": null,
   "id": "6d84568c",
   "metadata": {},
   "outputs": [],
   "source": [
    "fasta_sequences = SeqIO.parse(open(file1),'fasta')\n",
    "genome = \"\"\n",
    "\n",
    "for sequence in fasta_sequences:\n",
    "    genome += str(sequence.seq)\n",
    "    \n"
   ]
  },
  {
   "cell_type": "code",
   "execution_count": null,
   "id": "81b478cd",
   "metadata": {},
   "outputs": [],
   "source": [
    "genome[0:]"
   ]
  },
  {
   "cell_type": "code",
   "execution_count": null,
   "id": "a4772b0c",
   "metadata": {},
   "outputs": [],
   "source": []
  },
  {
   "cell_type": "code",
   "execution_count": null,
   "id": "160e9df1",
   "metadata": {},
   "outputs": [],
   "source": [
    "!jupyter notebook --NotebookApp.iopub_data_rate_limit=1.0e10"
   ]
  }
 ],
 "metadata": {
  "kernelspec": {
   "display_name": "Python 3 (ipykernel)",
   "language": "python",
   "name": "python3"
  },
  "language_info": {
   "codemirror_mode": {
    "name": "ipython",
    "version": 3
   },
   "file_extension": ".py",
   "mimetype": "text/x-python",
   "name": "python",
   "nbconvert_exporter": "python",
   "pygments_lexer": "ipython3",
   "version": "3.9.7"
  }
 },
 "nbformat": 4,
 "nbformat_minor": 5
}
