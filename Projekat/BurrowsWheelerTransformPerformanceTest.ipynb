{
 "cells": [
  {
   "cell_type": "code",
   "execution_count": 1,
   "id": "53164985",
   "metadata": {},
   "outputs": [],
   "source": [
    "import time\n",
    "import psutil\n",
    "import os"
   ]
  },
  {
   "cell_type": "code",
   "execution_count": 2,
   "id": "f0cc5c32",
   "metadata": {},
   "outputs": [],
   "source": [
    "%run BurrowsWheelerTransform.ipynb\n",
    "%run BurrowsWheelerTransformImproved.ipynb"
   ]
  },
  {
   "cell_type": "code",
   "execution_count": 3,
   "id": "ff79945e",
   "metadata": {},
   "outputs": [],
   "source": [
    "\"\"\"Test samples\"\"\"\n",
    "\n",
    "test1 = \"Tomorrow_and_tomorrow_and_tomorrow$\"\n",
    "test2 = \"It_was_the_best_of_times_it_was_the_worst_of_times$\"\n",
    "test3 = \"in_the_jingle_jangle_morning_Ill_come_following_you$\"\n",
    "test4 = \"GATTTGGGGTTCAAAGCAGTATCGATCAAATAGTAAATCCATTTGTTCAACTCACAGTTTGATTTGG\\\n",
    "GGTTCAAAGCAGTAATTTGGGGTTCAAAGCAGTATCGACAAATAGTAAATCCATTTGTTCATTCAAAGCAGTAATT\\\n",
    "TGGGGTTATTTGGGGTTCAAAGCAGTATCGATCAAATAGTAAATCCATTTGTTCAACTCACAGTTT$\""
   ]
  },
  {
   "cell_type": "code",
   "execution_count": 4,
   "id": "da7f8818",
   "metadata": {},
   "outputs": [
    {
     "name": "stdout",
     "output_type": "stream",
     "text": [
      "13.2 µs ± 540 ns per loop (mean ± std. dev. of 7 runs, 100,000 loops each)\n",
      "18.7 µs ± 531 ns per loop (mean ± std. dev. of 7 runs, 100,000 loops each)\n",
      "19.6 µs ± 768 ns per loop (mean ± std. dev. of 7 runs, 100,000 loops each)\n"
     ]
    },
    {
     "ename": "KeyboardInterrupt",
     "evalue": "",
     "output_type": "error",
     "traceback": [
      "\u001b[1;31m---------------------------------------------------------------------------\u001b[0m",
      "\u001b[1;31mKeyboardInterrupt\u001b[0m                         Traceback (most recent call last)",
      "Input \u001b[1;32mIn [4]\u001b[0m, in \u001b[0;36m<cell line: 6>\u001b[1;34m()\u001b[0m\n\u001b[0;32m      4\u001b[0m get_ipython()\u001b[38;5;241m.\u001b[39mrun_line_magic(\u001b[38;5;124m'\u001b[39m\u001b[38;5;124mtimeit\u001b[39m\u001b[38;5;124m'\u001b[39m, \u001b[38;5;124m'\u001b[39m\u001b[38;5;124mBWTViaBWM(test2)\u001b[39m\u001b[38;5;124m'\u001b[39m)\n\u001b[0;32m      5\u001b[0m get_ipython()\u001b[38;5;241m.\u001b[39mrun_line_magic(\u001b[38;5;124m'\u001b[39m\u001b[38;5;124mtimeit\u001b[39m\u001b[38;5;124m'\u001b[39m, \u001b[38;5;124m'\u001b[39m\u001b[38;5;124mBWTViaBWM(test3)\u001b[39m\u001b[38;5;124m'\u001b[39m)\n\u001b[1;32m----> 6\u001b[0m \u001b[43mget_ipython\u001b[49m\u001b[43m(\u001b[49m\u001b[43m)\u001b[49m\u001b[38;5;241;43m.\u001b[39;49m\u001b[43mrun_line_magic\u001b[49m\u001b[43m(\u001b[49m\u001b[38;5;124;43m'\u001b[39;49m\u001b[38;5;124;43mtimeit\u001b[39;49m\u001b[38;5;124;43m'\u001b[39;49m\u001b[43m,\u001b[49m\u001b[43m \u001b[49m\u001b[38;5;124;43m'\u001b[39;49m\u001b[38;5;124;43mBWTViaBWM(test4)\u001b[39;49m\u001b[38;5;124;43m'\u001b[39;49m\u001b[43m)\u001b[49m\n\u001b[0;32m      8\u001b[0m \u001b[38;5;28mprint\u001b[39m()\n\u001b[0;32m     10\u001b[0m get_ipython()\u001b[38;5;241m.\u001b[39mrun_line_magic(\u001b[38;5;124m'\u001b[39m\u001b[38;5;124mtimeit\u001b[39m\u001b[38;5;124m'\u001b[39m, \u001b[38;5;124m'\u001b[39m\u001b[38;5;124mBWTViaSA(test1)\u001b[39m\u001b[38;5;124m'\u001b[39m)\n",
      "File \u001b[1;32mD:\\Anaconda\\lib\\site-packages\\IPython\\core\\interactiveshell.py:2294\u001b[0m, in \u001b[0;36mInteractiveShell.run_line_magic\u001b[1;34m(self, magic_name, line, _stack_depth)\u001b[0m\n\u001b[0;32m   2292\u001b[0m     kwargs[\u001b[38;5;124m'\u001b[39m\u001b[38;5;124mlocal_ns\u001b[39m\u001b[38;5;124m'\u001b[39m] \u001b[38;5;241m=\u001b[39m \u001b[38;5;28mself\u001b[39m\u001b[38;5;241m.\u001b[39mget_local_scope(stack_depth)\n\u001b[0;32m   2293\u001b[0m \u001b[38;5;28;01mwith\u001b[39;00m \u001b[38;5;28mself\u001b[39m\u001b[38;5;241m.\u001b[39mbuiltin_trap:\n\u001b[1;32m-> 2294\u001b[0m     result \u001b[38;5;241m=\u001b[39m fn(\u001b[38;5;241m*\u001b[39margs, \u001b[38;5;241m*\u001b[39m\u001b[38;5;241m*\u001b[39mkwargs)\n\u001b[0;32m   2295\u001b[0m \u001b[38;5;28;01mreturn\u001b[39;00m result\n",
      "File \u001b[1;32mD:\\Anaconda\\lib\\site-packages\\IPython\\core\\magics\\execution.py:1166\u001b[0m, in \u001b[0;36mExecutionMagics.timeit\u001b[1;34m(self, line, cell, local_ns)\u001b[0m\n\u001b[0;32m   1163\u001b[0m         \u001b[38;5;28;01mif\u001b[39;00m time_number \u001b[38;5;241m>\u001b[39m\u001b[38;5;241m=\u001b[39m \u001b[38;5;241m0.2\u001b[39m:\n\u001b[0;32m   1164\u001b[0m             \u001b[38;5;28;01mbreak\u001b[39;00m\n\u001b[1;32m-> 1166\u001b[0m all_runs \u001b[38;5;241m=\u001b[39m \u001b[43mtimer\u001b[49m\u001b[38;5;241;43m.\u001b[39;49m\u001b[43mrepeat\u001b[49m\u001b[43m(\u001b[49m\u001b[43mrepeat\u001b[49m\u001b[43m,\u001b[49m\u001b[43m \u001b[49m\u001b[43mnumber\u001b[49m\u001b[43m)\u001b[49m\n\u001b[0;32m   1167\u001b[0m best \u001b[38;5;241m=\u001b[39m \u001b[38;5;28mmin\u001b[39m(all_runs) \u001b[38;5;241m/\u001b[39m number\n\u001b[0;32m   1168\u001b[0m worst \u001b[38;5;241m=\u001b[39m \u001b[38;5;28mmax\u001b[39m(all_runs) \u001b[38;5;241m/\u001b[39m number\n",
      "File \u001b[1;32mD:\\Anaconda\\lib\\timeit.py:205\u001b[0m, in \u001b[0;36mTimer.repeat\u001b[1;34m(self, repeat, number)\u001b[0m\n\u001b[0;32m    203\u001b[0m r \u001b[38;5;241m=\u001b[39m []\n\u001b[0;32m    204\u001b[0m \u001b[38;5;28;01mfor\u001b[39;00m i \u001b[38;5;129;01min\u001b[39;00m \u001b[38;5;28mrange\u001b[39m(repeat):\n\u001b[1;32m--> 205\u001b[0m     t \u001b[38;5;241m=\u001b[39m \u001b[38;5;28;43mself\u001b[39;49m\u001b[38;5;241;43m.\u001b[39;49m\u001b[43mtimeit\u001b[49m\u001b[43m(\u001b[49m\u001b[43mnumber\u001b[49m\u001b[43m)\u001b[49m\n\u001b[0;32m    206\u001b[0m     r\u001b[38;5;241m.\u001b[39mappend(t)\n\u001b[0;32m    207\u001b[0m \u001b[38;5;28;01mreturn\u001b[39;00m r\n",
      "File \u001b[1;32mD:\\Anaconda\\lib\\site-packages\\IPython\\core\\magics\\execution.py:156\u001b[0m, in \u001b[0;36mTimer.timeit\u001b[1;34m(self, number)\u001b[0m\n\u001b[0;32m    154\u001b[0m gc\u001b[38;5;241m.\u001b[39mdisable()\n\u001b[0;32m    155\u001b[0m \u001b[38;5;28;01mtry\u001b[39;00m:\n\u001b[1;32m--> 156\u001b[0m     timing \u001b[38;5;241m=\u001b[39m \u001b[38;5;28;43mself\u001b[39;49m\u001b[38;5;241;43m.\u001b[39;49m\u001b[43minner\u001b[49m\u001b[43m(\u001b[49m\u001b[43mit\u001b[49m\u001b[43m,\u001b[49m\u001b[43m \u001b[49m\u001b[38;5;28;43mself\u001b[39;49m\u001b[38;5;241;43m.\u001b[39;49m\u001b[43mtimer\u001b[49m\u001b[43m)\u001b[49m\n\u001b[0;32m    157\u001b[0m \u001b[38;5;28;01mfinally\u001b[39;00m:\n\u001b[0;32m    158\u001b[0m     \u001b[38;5;28;01mif\u001b[39;00m gcold:\n",
      "File \u001b[1;32m<magic-timeit>:1\u001b[0m, in \u001b[0;36minner\u001b[1;34m(_it, _timer)\u001b[0m\n",
      "File \u001b[1;32m~\\AppData\\Local\\Temp\\ipykernel_5176\\1021473118.py:3\u001b[0m, in \u001b[0;36mBWTViaBWM\u001b[1;34m(t)\u001b[0m\n\u001b[0;32m      2\u001b[0m \u001b[38;5;28;01mdef\u001b[39;00m \u001b[38;5;21mBWTViaBWM\u001b[39m(t):\n\u001b[1;32m----> 3\u001b[0m     \u001b[38;5;28;01mreturn\u001b[39;00m \u001b[38;5;124;43m'\u001b[39;49m\u001b[38;5;124;43m'\u001b[39;49m\u001b[38;5;241;43m.\u001b[39;49m\u001b[43mjoin\u001b[49m\u001b[43m(\u001b[49m\u001b[38;5;28;43mmap\u001b[39;49m\u001b[43m(\u001b[49m\u001b[38;5;28;43;01mlambda\u001b[39;49;00m\u001b[43m \u001b[49m\u001b[43mx\u001b[49m\u001b[43m:\u001b[49m\u001b[43m \u001b[49m\u001b[43mx\u001b[49m\u001b[43m[\u001b[49m\u001b[38;5;241;43m-\u001b[39;49m\u001b[38;5;241;43m1\u001b[39;49m\u001b[43m]\u001b[49m\u001b[43m,\u001b[49m\u001b[43m \u001b[49m\u001b[43mBWM\u001b[49m\u001b[43m(\u001b[49m\u001b[43mt\u001b[49m\u001b[43m)\u001b[49m\u001b[43m)\u001b[49m\u001b[43m)\u001b[49m\n",
      "File \u001b[1;32m~\\AppData\\Local\\Temp\\ipykernel_5176\\1021473118.py:3\u001b[0m, in \u001b[0;36mBWTViaBWM.<locals>.<lambda>\u001b[1;34m(x)\u001b[0m\n\u001b[0;32m      2\u001b[0m \u001b[38;5;28;01mdef\u001b[39;00m \u001b[38;5;21mBWTViaBWM\u001b[39m(t):\n\u001b[1;32m----> 3\u001b[0m     \u001b[38;5;28;01mreturn\u001b[39;00m \u001b[38;5;124m'\u001b[39m\u001b[38;5;124m'\u001b[39m\u001b[38;5;241m.\u001b[39mjoin(\u001b[38;5;28mmap\u001b[39m(\u001b[38;5;28;01mlambda\u001b[39;00m x: \u001b[43mx\u001b[49m\u001b[43m[\u001b[49m\u001b[38;5;241;43m-\u001b[39;49m\u001b[38;5;241;43m1\u001b[39;49m\u001b[43m]\u001b[49m, BWM(t)))\n",
      "\u001b[1;31mKeyboardInterrupt\u001b[0m: "
     ]
    }
   ],
   "source": [
    "\"\"\" Performance measurement and benchmarking \"\"\"\n",
    "\n",
    "%timeit BWTViaBWM(test1)\n",
    "%timeit BWTViaBWM(test2)\n",
    "%timeit BWTViaBWM(test3)\n",
    "%timeit BWTViaBWM(test4)\n",
    "\n",
    "print()\n",
    "\n",
    "%timeit BWTViaSA(test1)\n",
    "%timeit BWTViaSA(test2)\n",
    "%timeit BWTViaSA(test3)\n",
    "%timeit BWTViaSA(test4)\n",
    "\n",
    "print()\n",
    "\n",
    "%timeit ReverseBWT(bwt1)\n",
    "%timeit ReverseBWT(bwt2)\n",
    "%timeit ReverseBWT(bwt3)\n",
    "%timeit ReverseBWT(bwt4)"
   ]
  },
  {
   "cell_type": "code",
   "execution_count": null,
   "id": "a60f26ca",
   "metadata": {},
   "outputs": [],
   "source": [
    "!python \"./memTest/bwmTest.py\" $test1\n",
    "!python \"./memTest/bwmTest.py\" $test2\n",
    "!python \"./memTest/bwmTest.py\" $test3\n",
    "!python \"./memTest/bwmTest.py\" $test4"
   ]
  },
  {
   "cell_type": "code",
   "execution_count": null,
   "id": "ab42cdca",
   "metadata": {},
   "outputs": [],
   "source": [
    "!python \"./memTest/saTest.py\" $test1\n",
    "!python \"./memTest/saTest.py\" $test2\n",
    "!python \"./memTest/saTest.py\" $test3\n",
    "!python \"./memTest/saTest.py\" $test4"
   ]
  },
  {
   "cell_type": "code",
   "execution_count": null,
   "id": "65a603af",
   "metadata": {},
   "outputs": [],
   "source": [
    "!python \"./memTest/reverseTest.py\" $bwt1\n",
    "!python \"./memTest/reverseTest.py\" $bwt2\n",
    "!python \"./memTest/reverseTest.py\" $bwt3\n",
    "!python \"./memTest/reverseTest.py\" $bwt4"
   ]
  },
  {
   "cell_type": "code",
   "execution_count": null,
   "id": "26cbaab8",
   "metadata": {},
   "outputs": [],
   "source": [
    "!python \"./memTest/bwmTestFiles.py\" 1\n",
    "!python \"./memTest/bwmTestFiles.py\" 2\n",
    "!python \"./memTest/bwmTestFiles.py\" 3"
   ]
  },
  {
   "cell_type": "code",
   "execution_count": null,
   "id": "123f6677",
   "metadata": {},
   "outputs": [],
   "source": [
    "!python \"./memTest/saTestFiles.py\" 1\n",
    "!python \"./memTest/saTestFiles.py\" 2\n",
    "!python \"./memTest/saTestFiles.py\" 3"
   ]
  },
  {
   "cell_type": "code",
   "execution_count": null,
   "id": "64f0be65",
   "metadata": {},
   "outputs": [],
   "source": []
  },
  {
   "cell_type": "code",
   "execution_count": 3,
   "id": "b9e3b1f4",
   "metadata": {},
   "outputs": [],
   "source": [
    "\"\"\"Benchmarking Data\"\"\"\n",
    "\n",
    "dataSet = [\n",
    "    {\"file\" : \"./data/13443_ref_Cara_1.0_chr1c.fa\",\n",
    "     \"patterns\" : [\n",
    "     \"ATGCATG\",\n",
    "     \"TCTCTCTA\",\n",
    "     \"TTCACTACTCTCA\"\n",
    "     ]},\n",
    "    {\"file\" : \"./data/10093_ref_PAHARI_EIJ_v1.1_chrX.fa\",\n",
    "     \"patterns\" : [\n",
    "     \"ATGATG\",\n",
    "     \"CTCTCTA\",\n",
    "     \"TCACTACTCTCA\"\n",
    "     ]},\n",
    "    {\"file\" : \"./data/144034_ref_Pbar_UMD_V03_chrUn.fa\",\n",
    "     \"patterns\": [\n",
    "     \"CGCGAG\",\n",
    "     \"GTCGAAT\",\n",
    "     \"GGGCGTCATCGCGCG\"\n",
    "     ]}\n",
    "]"
   ]
  },
  {
   "cell_type": "code",
   "execution_count": 10,
   "id": "503a7777",
   "metadata": {},
   "outputs": [],
   "source": [
    "def BenchmarkSearchViaImprovedSort():\n",
    "    for data in dataSet:\n",
    "        file = data.get(\"file\")\n",
    "        genome = GetWholeGenomeFromFile(file)\n",
    "        patterns = data.get(\"patterns\")\n",
    "        \n",
    "        for pattern in patterns:\n",
    "            startTime = time.time()\n",
    "            SearchViaImprovedSort(genome, pattern)\n",
    "            endTime = time.time()\n",
    "            duration = endTime - startTime\n",
    "            print(f\"{file} : {pattern} executed in {duration}\")"
   ]
  },
  {
   "cell_type": "code",
   "execution_count": 11,
   "id": "10eb3b91",
   "metadata": {},
   "outputs": [],
   "source": [
    "def BenchmarkSearchViaImprovedDict():\n",
    "    for data in dataSet:\n",
    "        file = data.get(\"file\")\n",
    "        genome = GetWholeGenomeFromFile(file)\n",
    "        patterns = data.get(\"patterns\")\n",
    "        print(\"StartBWT\")\n",
    "        bwt = BWTViaSAImprovedDict(genome)\n",
    "        print(\"EndBWT\")\n",
    "        \n",
    "        for pattern in patterns:\n",
    "            startTime = time.time()\n",
    "            SearchViaImprovedDict(genome, bwt, pattern)\n",
    "            endTime = time.time()\n",
    "            duration = endTime - startTime\n",
    "            print(f\"{file} : {pattern} executed in {duration}\")"
   ]
  },
  {
   "cell_type": "code",
   "execution_count": null,
   "id": "c9b6ba86",
   "metadata": {},
   "outputs": [
    {
     "name": "stderr",
     "output_type": "stream",
     "text": [
      "D:\\Anaconda\\lib\\site-packages\\pydivsufsort\\divsufsort.py:76: UserWarning: converting str argument uses more memory\n",
      "  warnings.warn(\"converting str argument uses more memory\")\n"
     ]
    },
    {
     "name": "stdout",
     "output_type": "stream",
     "text": [
      "./data/13443_ref_Cara_1.0_chr1c.fa : ATGCATG executed in 48.80587887763977\n",
      "./data/13443_ref_Cara_1.0_chr1c.fa : TCTCTCTA executed in 49.32632327079773\n",
      "./data/13443_ref_Cara_1.0_chr1c.fa : TTCACTACTCTCA executed in 48.979231119155884\n"
     ]
    }
   ],
   "source": [
    "BenchmarkSearchViaImprovedSort()"
   ]
  },
  {
   "cell_type": "code",
   "execution_count": 12,
   "id": "4c28ff2c",
   "metadata": {},
   "outputs": [
    {
     "name": "stdout",
     "output_type": "stream",
     "text": [
      "StartBWT\n",
      "EndBWT\n"
     ]
    },
    {
     "ename": "TypeError",
     "evalue": "SearchViaImprovedDict() takes 2 positional arguments but 3 were given",
     "output_type": "error",
     "traceback": [
      "\u001b[1;31m---------------------------------------------------------------------------\u001b[0m",
      "\u001b[1;31mTypeError\u001b[0m                                 Traceback (most recent call last)",
      "Input \u001b[1;32mIn [12]\u001b[0m, in \u001b[0;36m<cell line: 1>\u001b[1;34m()\u001b[0m\n\u001b[1;32m----> 1\u001b[0m \u001b[43mBenchmarkSearchViaImprovedDict\u001b[49m\u001b[43m(\u001b[49m\u001b[43m)\u001b[49m\n",
      "Input \u001b[1;32mIn [11]\u001b[0m, in \u001b[0;36mBenchmarkSearchViaImprovedDict\u001b[1;34m()\u001b[0m\n\u001b[0;32m     10\u001b[0m \u001b[38;5;28;01mfor\u001b[39;00m pattern \u001b[38;5;129;01min\u001b[39;00m patterns:\n\u001b[0;32m     11\u001b[0m     startTime \u001b[38;5;241m=\u001b[39m time\u001b[38;5;241m.\u001b[39mtime()\n\u001b[1;32m---> 12\u001b[0m     \u001b[43mSearchViaImprovedDict\u001b[49m\u001b[43m(\u001b[49m\u001b[43mgenome\u001b[49m\u001b[43m,\u001b[49m\u001b[43m \u001b[49m\u001b[43mbwt\u001b[49m\u001b[43m,\u001b[49m\u001b[43m \u001b[49m\u001b[43mpattern\u001b[49m\u001b[43m)\u001b[49m\n\u001b[0;32m     13\u001b[0m     endTime \u001b[38;5;241m=\u001b[39m time\u001b[38;5;241m.\u001b[39mtime()\n\u001b[0;32m     14\u001b[0m     duration \u001b[38;5;241m=\u001b[39m endTime \u001b[38;5;241m-\u001b[39m startTime\n",
      "\u001b[1;31mTypeError\u001b[0m: SearchViaImprovedDict() takes 2 positional arguments but 3 were given"
     ]
    }
   ],
   "source": [
    "BenchmarkSearchViaImprovedDict()"
   ]
  },
  {
   "cell_type": "code",
   "execution_count": 4,
   "id": "b67dd0b8",
   "metadata": {},
   "outputs": [],
   "source": [
    "def BenchmarkFileSearchViaImprovedSort(file, pattern):\n",
    "    genome = GetWholeGenomeFromFile(file)\n",
    "    \n",
    "    startTime = time.time()\n",
    "    SearchViaImprovedSort(genome, pattern)\n",
    "    endTime = time.time()\n",
    "    duration = endTime - startTime\n",
    "    \n",
    "    print(f\"{file} : {pattern} executed in {duration}\")"
   ]
  },
  {
   "cell_type": "code",
   "execution_count": null,
   "id": "ff991ae8",
   "metadata": {},
   "outputs": [
    {
     "name": "stderr",
     "output_type": "stream",
     "text": [
      "D:\\Anaconda\\lib\\site-packages\\pydivsufsort\\divsufsort.py:76: UserWarning: converting str argument uses more memory\n",
      "  warnings.warn(\"converting str argument uses more memory\")\n"
     ]
    }
   ],
   "source": [
    "BenchmarkFileSearchViaImprovedSort(dataSet[1].get(\"file\"), dataSet[1].get(\"patterns\")[1])"
   ]
  },
  {
   "cell_type": "code",
   "execution_count": null,
   "id": "d94ec095",
   "metadata": {},
   "outputs": [],
   "source": [
    "#for i in range(1, len(sequences) + 1):\n",
    "#    with open(\"./data/\" + \"sequence\" + str(i) + \".txt\", \"w\") as f:\n",
    "#        f.write(sequences[i - 1])\n",
    "#        f.close()"
   ]
  },
  {
   "cell_type": "code",
   "execution_count": 19,
   "id": "baa39526",
   "metadata": {},
   "outputs": [
    {
     "data": {
      "text/plain": [
       "'CTCT$'"
      ]
     },
     "execution_count": 19,
     "metadata": {},
     "output_type": "execute_result"
    }
   ],
   "source": [
    "genome = GetWholeGenomeFromFile(dataSet[0].get(\"file\"))\n",
    "genome[len(genome)-5:len(genome)]"
   ]
  },
  {
   "cell_type": "code",
   "execution_count": null,
   "id": "160e9df1",
   "metadata": {},
   "outputs": [],
   "source": []
  }
 ],
 "metadata": {
  "kernelspec": {
   "display_name": "Python 3 (ipykernel)",
   "language": "python",
   "name": "python3"
  },
  "language_info": {
   "codemirror_mode": {
    "name": "ipython",
    "version": 3
   },
   "file_extension": ".py",
   "mimetype": "text/x-python",
   "name": "python",
   "nbconvert_exporter": "python",
   "pygments_lexer": "ipython3",
   "version": "3.9.12"
  }
 },
 "nbformat": 4,
 "nbformat_minor": 5
}
