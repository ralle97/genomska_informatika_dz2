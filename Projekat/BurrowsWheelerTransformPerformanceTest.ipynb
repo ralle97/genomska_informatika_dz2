{
 "cells": [
  {
   "cell_type": "code",
   "execution_count": 3,
   "id": "53164985",
   "metadata": {},
   "outputs": [],
   "source": [
    "import time\n",
    "import psutil\n",
    "import os"
   ]
  },
  {
   "cell_type": "code",
   "execution_count": 18,
   "id": "f0cc5c32",
   "metadata": {},
   "outputs": [],
   "source": [
    "%run BurrowsWheelerTransform.ipynb\n",
    "%run BurrowsWheelerTransformImproved.ipynb"
   ]
  },
  {
   "cell_type": "code",
   "execution_count": null,
   "id": "ff79945e",
   "metadata": {},
   "outputs": [],
   "source": [
    "\"\"\"Test samples\"\"\"\n",
    "\n",
    "test1 = \"Tomorrow_and_tomorrow_and_tomorrow$\"\n",
    "test2 = \"It_was_the_best_of_times_it_was_the_worst_of_times$\"\n",
    "test3 = \"in_the_jingle_jangle_morning_Ill_come_following_you$\"\n",
    "test4 = \"GATTTGGGGTTCAAAGCAGTATCGATCAAATAGTAAATCCATTTGTTCAACTCACAGTTTGATTTGG\\\n",
    "GGTTCAAAGCAGTAATTTGGGGTTCAAAGCAGTATCGACAAATAGTAAATCCATTTGTTCATTCAAAGCAGTAATT\\\n",
    "TGGGGTTATTTGGGGTTCAAAGCAGTATCGATCAAATAGTAAATCCATTTGTTCAACTCACAGTTT$\""
   ]
  },
  {
   "cell_type": "code",
   "execution_count": null,
   "id": "da7f8818",
   "metadata": {},
   "outputs": [],
   "source": [
    "\"\"\" Performance measurement and benchmarking \"\"\"\n",
    "\n",
    "%timeit BWTViaBWM(test1)\n",
    "%timeit BWTViaBWM(test2)\n",
    "%timeit BWTViaBWM(test3)\n",
    "%timeit BWTViaBWM(test4)\n",
    "\n",
    "print()\n",
    "\n",
    "%timeit BWTViaSA(test1)\n",
    "%timeit BWTViaSA(test2)\n",
    "%timeit BWTViaSA(test3)\n",
    "%timeit BWTViaSA(test4)\n",
    "\n",
    "print()\n",
    "\n",
    "%timeit ReverseBWT(bwt1)\n",
    "%timeit ReverseBWT(bwt2)\n",
    "%timeit ReverseBWT(bwt3)\n",
    "%timeit ReverseBWT(bwt4)"
   ]
  },
  {
   "cell_type": "code",
   "execution_count": null,
   "id": "a60f26ca",
   "metadata": {},
   "outputs": [],
   "source": [
    "!python \"./memTest/bwmTest.py\" $test1\n",
    "!python \"./memTest/bwmTest.py\" $test2\n",
    "!python \"./memTest/bwmTest.py\" $test3\n",
    "!python \"./memTest/bwmTest.py\" $test4"
   ]
  },
  {
   "cell_type": "code",
   "execution_count": null,
   "id": "ab42cdca",
   "metadata": {},
   "outputs": [],
   "source": [
    "!python \"./memTest/saTest.py\" $test1\n",
    "!python \"./memTest/saTest.py\" $test2\n",
    "!python \"./memTest/saTest.py\" $test3\n",
    "!python \"./memTest/saTest.py\" $test4"
   ]
  },
  {
   "cell_type": "code",
   "execution_count": null,
   "id": "65a603af",
   "metadata": {},
   "outputs": [],
   "source": [
    "!python \"./memTest/reverseTest.py\" $bwt1\n",
    "!python \"./memTest/reverseTest.py\" $bwt2\n",
    "!python \"./memTest/reverseTest.py\" $bwt3\n",
    "!python \"./memTest/reverseTest.py\" $bwt4"
   ]
  },
  {
   "cell_type": "code",
   "execution_count": null,
   "id": "26cbaab8",
   "metadata": {},
   "outputs": [],
   "source": [
    "!python \"./memTest/bwmTestFiles.py\" 1\n",
    "!python \"./memTest/bwmTestFiles.py\" 2\n",
    "!python \"./memTest/bwmTestFiles.py\" 3"
   ]
  },
  {
   "cell_type": "code",
   "execution_count": null,
   "id": "123f6677",
   "metadata": {},
   "outputs": [],
   "source": [
    "!python \"./memTest/saTestFiles.py\" 1\n",
    "!python \"./memTest/saTestFiles.py\" 2\n",
    "!python \"./memTest/saTestFiles.py\" 3"
   ]
  },
  {
   "cell_type": "code",
   "execution_count": null,
   "id": "64f0be65",
   "metadata": {},
   "outputs": [],
   "source": []
  },
  {
   "cell_type": "code",
   "execution_count": 2,
   "id": "b9e3b1f4",
   "metadata": {},
   "outputs": [],
   "source": [
    "\"\"\"Benchmarking Data\"\"\"\n",
    "\n",
    "dataSet = [\n",
    "    {\"file\" : \"./data/13443_ref_Cara_1.0_chr1c.fa\",\n",
    "     \"patterns\" : [\n",
    "     \"ATGCATG\",\n",
    "     \"TCTCTCTA\",\n",
    "     \"TTCACTACTCTCA\"\n",
    "     ]},\n",
    "    {\"file\" : \"./data/10093_ref_PAHARI_EIJ_v1.1_chrX.fa\",\n",
    "     \"patterns\" : [\n",
    "     \"ATGATG\",\n",
    "     \"CTCTCTA\",\n",
    "     \"TCACTACTCTCA\"\n",
    "     ]},\n",
    "    {\"file\" : \"./data/144034_ref_Pbar_UMD_V03_chrUn.fa\",\n",
    "     \"patterns\": [\n",
    "     \"CGCGAG\",\n",
    "     \"GTCGAAT\",\n",
    "     \"GGGCGTCATCGCGCG\"\n",
    "     ]}\n",
    "]"
   ]
  },
  {
   "cell_type": "code",
   "execution_count": 4,
   "id": "503a7777",
   "metadata": {},
   "outputs": [],
   "source": [
    "def BenchmarkSearchViaImprovedSort():\n",
    "    for data in dataSet:\n",
    "        file = data.get(\"file\")\n",
    "        genome = GetWholeGenomeFromFile(file)\n",
    "        patterns = data.get(\"patterns\")\n",
    "        \n",
    "        for pattern in patterns:\n",
    "            startTime = time.time()\n",
    "            SearchViaImprovedSort(genome, pattern)\n",
    "            endTime = time.time()\n",
    "            duration = endTime - startTime\n",
    "            print(f\"{file} : {pattern} executed in {duration}\")\n",
    "        "
   ]
  },
  {
   "cell_type": "code",
   "execution_count": 5,
   "id": "c9b6ba86",
   "metadata": {},
   "outputs": [
    {
     "name": "stderr",
     "output_type": "stream",
     "text": [
      "D:\\programi\\Anaconda\\lib\\site-packages\\pydivsufsort\\divsufsort.py:76: UserWarning: converting str argument uses more memory\n",
      "  warnings.warn(\"converting str argument uses more memory\")\n"
     ]
    },
    {
     "name": "stdout",
     "output_type": "stream",
     "text": [
      "./data/13443_ref_Cara_1.0_chr1c.fa : ATGCATG executed in 50.66999697685242\n",
      "./data/13443_ref_Cara_1.0_chr1c.fa : TCTCTCTA executed in 49.83700251579285\n",
      "./data/13443_ref_Cara_1.0_chr1c.fa : TTCACTACTCTCA executed in 49.61999797821045\n",
      "./data/10093_ref_PAHARI_EIJ_v1.1_chrX.fa : ATGATG executed in 372.8929054737091\n"
     ]
    },
    {
     "ename": "KeyboardInterrupt",
     "evalue": "",
     "output_type": "error",
     "traceback": [
      "\u001b[1;31m---------------------------------------------------------------------------\u001b[0m",
      "\u001b[1;31mKeyboardInterrupt\u001b[0m                         Traceback (most recent call last)",
      "    \u001b[1;31m[... skipping hidden 1 frame]\u001b[0m\n",
      "\u001b[1;32m~\\AppData\\Local\\Temp/ipykernel_972/1671463273.py\u001b[0m in \u001b[0;36m<module>\u001b[1;34m\u001b[0m\n\u001b[1;32m----> 1\u001b[1;33m \u001b[0mBenchmarkSearchViaImprovedSort\u001b[0m\u001b[1;33m(\u001b[0m\u001b[1;33m)\u001b[0m\u001b[1;33m\u001b[0m\u001b[1;33m\u001b[0m\u001b[0m\n\u001b[0m",
      "\u001b[1;32m~\\AppData\\Local\\Temp/ipykernel_972/3374408145.py\u001b[0m in \u001b[0;36mBenchmarkSearchViaImprovedSort\u001b[1;34m()\u001b[0m\n\u001b[0;32m      8\u001b[0m             \u001b[0mstartTime\u001b[0m \u001b[1;33m=\u001b[0m \u001b[0mtime\u001b[0m\u001b[1;33m.\u001b[0m\u001b[0mtime\u001b[0m\u001b[1;33m(\u001b[0m\u001b[1;33m)\u001b[0m\u001b[1;33m\u001b[0m\u001b[1;33m\u001b[0m\u001b[0m\n\u001b[1;32m----> 9\u001b[1;33m             \u001b[0mSearchViaImprovedSort\u001b[0m\u001b[1;33m(\u001b[0m\u001b[0mgenome\u001b[0m\u001b[1;33m,\u001b[0m \u001b[0mpattern\u001b[0m\u001b[1;33m)\u001b[0m\u001b[1;33m\u001b[0m\u001b[1;33m\u001b[0m\u001b[0m\n\u001b[0m\u001b[0;32m     10\u001b[0m             \u001b[0mendTime\u001b[0m \u001b[1;33m=\u001b[0m \u001b[0mtime\u001b[0m\u001b[1;33m.\u001b[0m\u001b[0mtime\u001b[0m\u001b[1;33m(\u001b[0m\u001b[1;33m)\u001b[0m\u001b[1;33m\u001b[0m\u001b[1;33m\u001b[0m\u001b[0m\n",
      "\u001b[1;32m~\\AppData\\Local\\Temp/ipykernel_972/3771860515.py\u001b[0m in \u001b[0;36mSearchViaImprovedSort\u001b[1;34m(sequnce, pattern)\u001b[0m\n\u001b[0;32m      3\u001b[0m     \u001b[0mpositions\u001b[0m \u001b[1;33m=\u001b[0m \u001b[0mSuffixArrayImprovedSort\u001b[0m\u001b[1;33m(\u001b[0m\u001b[0msequnce\u001b[0m\u001b[1;33m)\u001b[0m\u001b[1;33m\u001b[0m\u001b[1;33m\u001b[0m\u001b[0m\n\u001b[1;32m----> 4\u001b[1;33m     \u001b[0mlColumn\u001b[0m \u001b[1;33m=\u001b[0m \u001b[0mBWTViaSAImprovedSort\u001b[0m\u001b[1;33m(\u001b[0m\u001b[0msequnce\u001b[0m\u001b[1;33m,\u001b[0m \u001b[0mpositions\u001b[0m\u001b[1;33m)\u001b[0m\u001b[1;33m\u001b[0m\u001b[1;33m\u001b[0m\u001b[0m\n\u001b[0m\u001b[0;32m      5\u001b[0m     \u001b[0mranks\u001b[0m\u001b[1;33m,\u001b[0m \u001b[0mtots\u001b[0m \u001b[1;33m=\u001b[0m \u001b[0mRankBWT\u001b[0m\u001b[1;33m(\u001b[0m\u001b[0mlColumn\u001b[0m\u001b[1;33m)\u001b[0m\u001b[1;33m\u001b[0m\u001b[1;33m\u001b[0m\u001b[0m\n",
      "\u001b[1;32m~\\AppData\\Local\\Temp/ipykernel_972/3733827370.py\u001b[0m in \u001b[0;36mBWTViaSAImprovedSort\u001b[1;34m(seq, suffixArray)\u001b[0m\n\u001b[0;32m      6\u001b[0m         \u001b[1;32melse\u001b[0m\u001b[1;33m:\u001b[0m\u001b[1;33m\u001b[0m\u001b[1;33m\u001b[0m\u001b[0m\n\u001b[1;32m----> 7\u001b[1;33m             \u001b[0mbwt\u001b[0m\u001b[1;33m.\u001b[0m\u001b[0mappend\u001b[0m\u001b[1;33m(\u001b[0m\u001b[0mseq\u001b[0m\u001b[1;33m[\u001b[0m\u001b[0msi\u001b[0m \u001b[1;33m-\u001b[0m \u001b[1;36m1\u001b[0m\u001b[1;33m]\u001b[0m\u001b[1;33m)\u001b[0m\u001b[1;33m\u001b[0m\u001b[1;33m\u001b[0m\u001b[0m\n\u001b[0m\u001b[0;32m      8\u001b[0m     \u001b[1;32mreturn\u001b[0m \u001b[1;34m''\u001b[0m\u001b[1;33m.\u001b[0m\u001b[0mjoin\u001b[0m\u001b[1;33m(\u001b[0m\u001b[0mbwt\u001b[0m\u001b[1;33m)\u001b[0m\u001b[1;33m\u001b[0m\u001b[1;33m\u001b[0m\u001b[0m\n",
      "\u001b[1;31mKeyboardInterrupt\u001b[0m: ",
      "\nDuring handling of the above exception, another exception occurred:\n",
      "\u001b[1;31mKeyboardInterrupt\u001b[0m                         Traceback (most recent call last)",
      "\u001b[1;32mD:\\programi\\Anaconda\\lib\\site-packages\\IPython\\core\\interactiveshell.py\u001b[0m in \u001b[0;36mrun_code\u001b[1;34m(self, code_obj, result, async_)\u001b[0m\n\u001b[0;32m   3459\u001b[0m             \u001b[1;32mif\u001b[0m \u001b[0mresult\u001b[0m \u001b[1;32mis\u001b[0m \u001b[1;32mnot\u001b[0m \u001b[1;32mNone\u001b[0m\u001b[1;33m:\u001b[0m\u001b[1;33m\u001b[0m\u001b[1;33m\u001b[0m\u001b[0m\n\u001b[0;32m   3460\u001b[0m                 \u001b[0mresult\u001b[0m\u001b[1;33m.\u001b[0m\u001b[0merror_in_exec\u001b[0m \u001b[1;33m=\u001b[0m \u001b[0msys\u001b[0m\u001b[1;33m.\u001b[0m\u001b[0mexc_info\u001b[0m\u001b[1;33m(\u001b[0m\u001b[1;33m)\u001b[0m\u001b[1;33m[\u001b[0m\u001b[1;36m1\u001b[0m\u001b[1;33m]\u001b[0m\u001b[1;33m\u001b[0m\u001b[1;33m\u001b[0m\u001b[0m\n\u001b[1;32m-> 3461\u001b[1;33m             \u001b[0mself\u001b[0m\u001b[1;33m.\u001b[0m\u001b[0mshowtraceback\u001b[0m\u001b[1;33m(\u001b[0m\u001b[0mrunning_compiled_code\u001b[0m\u001b[1;33m=\u001b[0m\u001b[1;32mTrue\u001b[0m\u001b[1;33m)\u001b[0m\u001b[1;33m\u001b[0m\u001b[1;33m\u001b[0m\u001b[0m\n\u001b[0m\u001b[0;32m   3462\u001b[0m         \u001b[1;32melse\u001b[0m\u001b[1;33m:\u001b[0m\u001b[1;33m\u001b[0m\u001b[1;33m\u001b[0m\u001b[0m\n\u001b[0;32m   3463\u001b[0m             \u001b[0moutflag\u001b[0m \u001b[1;33m=\u001b[0m \u001b[1;32mFalse\u001b[0m\u001b[1;33m\u001b[0m\u001b[1;33m\u001b[0m\u001b[0m\n",
      "\u001b[1;31mKeyboardInterrupt\u001b[0m: "
     ]
    }
   ],
   "source": [
    "BenchmarkSearchViaImprovedSort()"
   ]
  },
  {
   "cell_type": "code",
   "execution_count": null,
   "id": "4c28ff2c",
   "metadata": {},
   "outputs": [],
   "source": []
  },
  {
   "cell_type": "code",
   "execution_count": null,
   "id": "b67dd0b8",
   "metadata": {},
   "outputs": [],
   "source": []
  },
  {
   "cell_type": "code",
   "execution_count": null,
   "id": "d94ec095",
   "metadata": {},
   "outputs": [],
   "source": [
    "#for i in range(1, len(sequences) + 1):\n",
    "#    with open(\"./data/\" + \"sequence\" + str(i) + \".txt\", \"w\") as f:\n",
    "#        f.write(sequences[i - 1])\n",
    "#        f.close()"
   ]
  },
  {
   "cell_type": "code",
   "execution_count": 19,
   "id": "baa39526",
   "metadata": {},
   "outputs": [
    {
     "data": {
      "text/plain": [
       "'CTCT$'"
      ]
     },
     "execution_count": 19,
     "metadata": {},
     "output_type": "execute_result"
    }
   ],
   "source": [
    "genome = GetWholeGenomeFromFile(dataSet[0].get(\"file\"))\n",
    "genome[len(genome)-5:len(genome)]"
   ]
  },
  {
   "cell_type": "code",
   "execution_count": null,
   "id": "160e9df1",
   "metadata": {},
   "outputs": [],
   "source": []
  }
 ],
 "metadata": {
  "kernelspec": {
   "display_name": "Python 3 (ipykernel)",
   "language": "python",
   "name": "python3"
  },
  "language_info": {
   "codemirror_mode": {
    "name": "ipython",
    "version": 3
   },
   "file_extension": ".py",
   "mimetype": "text/x-python",
   "name": "python",
   "nbconvert_exporter": "python",
   "pygments_lexer": "ipython3",
   "version": "3.9.7"
  }
 },
 "nbformat": 4,
 "nbformat_minor": 5
}
