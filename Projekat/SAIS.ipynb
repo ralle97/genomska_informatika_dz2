{
 "cells": [
  {
   "cell_type": "code",
   "execution_count": 12,
   "id": "90619b16",
   "metadata": {},
   "outputs": [],
   "source": [
    "from Bio import SeqIO\n",
    "import time\n",
    "import os\n",
    "from ctypes import *"
   ]
  },
  {
   "cell_type": "code",
   "execution_count": 14,
   "id": "0d4e10fb",
   "metadata": {},
   "outputs": [],
   "source": [
    "SAIS = cdll.LoadLibrary(\"sais/bin/sais64.dll\")\n",
    "# MSVCRT is Windows C library\n",
    "MSVCRT = cdll.msvcrt\n",
    "MSVCRT.malloc.argtypes = [c_int] # Malloc argument type(s)\n",
    "MSVCRT.malloc.restype = POINTER(c_int) # Malloc result type\n",
    "\n",
    "def SuffixArraySAIS(sequence):\n",
    "    # Create empty suffix array\n",
    "    suffixArray = MSVCRT.malloc(len(sequence) * sizeof(c_int))\n",
    "    # Populate suffix array\n",
    "    SAIS.sais(c_char_p(sequence), suffixArray, len(sequence))\n",
    "    # Return suffix array\n",
    "    return suffixArray\n",
    "\n",
    "def CheckpointArray(sequence, suffixArray):\n",
    "    # Create empty checkpoints array\n",
    "    checkpoints = MSVCRT.malloc(len(sequence) * sizeof(c_int))\n",
    "    # Compute all checkpoints and populate chekcpoints array\n",
    "    SAIS.compute_lcp(c_char_p(sequence), suffixArray, checkpoints, len(sequence))\n",
    "    # Return checkpoints array\n",
    "    return checkpoints\n",
    "\n",
    "def FindBestSubsequenceMatches(sequence1, sequence2):\n",
    "    matches = MSVCRT.malloc(len(sequence2) * sizeof(c_int))\n",
    "    checkpoints = MSVCRT.malloc(len(sequence2) * sizeof(c_int))\n",
    "    SAIS.find_best_subsequence_matches(sequence1, SuffixArraySAIS(sequence1), len(sequence1),\n",
    "                                       sequence2, SuffixArraySAIS(sequence2), len(sequence2),\n",
    "                                       matches, checkpoints)\n",
    "    return [(matches[i], checkpoints[i]) for i in range(len(sequence2))]"
   ]
  },
  {
   "cell_type": "code",
   "execution_count": 6,
   "id": "364dd4d0",
   "metadata": {},
   "outputs": [],
   "source": [
    "dataSet = [\n",
    "    {\"file\" : \"./data/13443_ref_Cara_1.0_chr1c.fa\",\n",
    "     \"patterns\" : [\n",
    "     \"ATGCATG\",\n",
    "     \"TCTCTCTA\",\n",
    "     \"TTCACTACTCTCA\"\n",
    "     ]},\n",
    "    {\"file\" : \"./data/10093_ref_PAHARI_EIJ_v1.1_chrX.fa\",\n",
    "     \"patterns\" : [\n",
    "     \"ATGATG\",\n",
    "     \"CTCTCTA\",\n",
    "     \"TCACTACTCTCA\"\n",
    "     ]},\n",
    "    {\"file\" : \"./data/144034_ref_Pbar_UMD_V03_chrUn.fa\",\n",
    "     \"patterns\": [\n",
    "     \"CGCGAG\",\n",
    "     \"GTCGAAT\",\n",
    "     \"GGGCGTCATCGCGCG\"\n",
    "     ]}\n",
    "]"
   ]
  },
  {
   "cell_type": "code",
   "execution_count": 10,
   "id": "3348b555",
   "metadata": {},
   "outputs": [],
   "source": [
    "def GetWholeGenomeFromFile(file):\n",
    "    fasta_sequences = SeqIO.parse(open(file),'fasta')\n",
    "    genome = \"\"\n",
    "    for sequence in fasta_sequences:\n",
    "        genome += str(sequence.seq)\n",
    "    return genome + \"$\""
   ]
  },
  {
   "cell_type": "code",
   "execution_count": 15,
   "id": "ae35480d",
   "metadata": {},
   "outputs": [
    {
     "ename": "AttributeError",
     "evalue": "function 'find_best_subsequence_matches' not found",
     "output_type": "error",
     "traceback": [
      "\u001b[1;31m---------------------------------------------------------------------------\u001b[0m",
      "\u001b[1;31mAttributeError\u001b[0m                            Traceback (most recent call last)",
      "Input \u001b[1;32mIn [15]\u001b[0m, in \u001b[0;36m<cell line: 1>\u001b[1;34m()\u001b[0m\n\u001b[0;32m      6\u001b[0m \u001b[38;5;28;01mfor\u001b[39;00m pattern \u001b[38;5;129;01min\u001b[39;00m patterns:\n\u001b[0;32m      7\u001b[0m     startTime \u001b[38;5;241m=\u001b[39m time\u001b[38;5;241m.\u001b[39mtime()\n\u001b[1;32m----> 8\u001b[0m     \u001b[43mFindBestSubsequenceMatches\u001b[49m\u001b[43m(\u001b[49m\u001b[43mgenome\u001b[49m\u001b[43m,\u001b[49m\u001b[43m \u001b[49m\u001b[43mpattern\u001b[49m\u001b[43m)\u001b[49m\n\u001b[0;32m      9\u001b[0m     endTime \u001b[38;5;241m=\u001b[39m time\u001b[38;5;241m.\u001b[39mtime()\n\u001b[0;32m     10\u001b[0m     duration \u001b[38;5;241m=\u001b[39m endTime \u001b[38;5;241m-\u001b[39m startTime\n",
      "Input \u001b[1;32mIn [14]\u001b[0m, in \u001b[0;36mFindBestSubsequenceMatches\u001b[1;34m(sequence1, sequence2)\u001b[0m\n\u001b[0;32m     24\u001b[0m matches \u001b[38;5;241m=\u001b[39m MSVCRT\u001b[38;5;241m.\u001b[39mmalloc(\u001b[38;5;28mlen\u001b[39m(sequence2) \u001b[38;5;241m*\u001b[39m sizeof(c_int))\n\u001b[0;32m     25\u001b[0m checkpoints \u001b[38;5;241m=\u001b[39m MSVCRT\u001b[38;5;241m.\u001b[39mmalloc(\u001b[38;5;28mlen\u001b[39m(sequence2) \u001b[38;5;241m*\u001b[39m sizeof(c_int))\n\u001b[1;32m---> 26\u001b[0m \u001b[43mSAIS\u001b[49m\u001b[38;5;241;43m.\u001b[39;49m\u001b[43mfind_best_subsequence_matches\u001b[49m(sequence1, SuffixArraySAIS(sequence1), \u001b[38;5;28mlen\u001b[39m(sequence1),\n\u001b[0;32m     27\u001b[0m                                    sequence2, SuffixArraySAIS(sequence2), \u001b[38;5;28mlen\u001b[39m(sequence2),\n\u001b[0;32m     28\u001b[0m                                    matches, checkpoints)\n\u001b[0;32m     29\u001b[0m \u001b[38;5;28;01mreturn\u001b[39;00m [(matches[i], checkpoints[i]) \u001b[38;5;28;01mfor\u001b[39;00m i \u001b[38;5;129;01min\u001b[39;00m \u001b[38;5;28mrange\u001b[39m(\u001b[38;5;28mlen\u001b[39m(sequence2))]\n",
      "File \u001b[1;32mD:\\Anaconda\\lib\\ctypes\\__init__.py:395\u001b[0m, in \u001b[0;36mCDLL.__getattr__\u001b[1;34m(self, name)\u001b[0m\n\u001b[0;32m    393\u001b[0m \u001b[38;5;28;01mif\u001b[39;00m name\u001b[38;5;241m.\u001b[39mstartswith(\u001b[38;5;124m'\u001b[39m\u001b[38;5;124m__\u001b[39m\u001b[38;5;124m'\u001b[39m) \u001b[38;5;129;01mand\u001b[39;00m name\u001b[38;5;241m.\u001b[39mendswith(\u001b[38;5;124m'\u001b[39m\u001b[38;5;124m__\u001b[39m\u001b[38;5;124m'\u001b[39m):\n\u001b[0;32m    394\u001b[0m     \u001b[38;5;28;01mraise\u001b[39;00m \u001b[38;5;167;01mAttributeError\u001b[39;00m(name)\n\u001b[1;32m--> 395\u001b[0m func \u001b[38;5;241m=\u001b[39m \u001b[38;5;28;43mself\u001b[39;49m\u001b[38;5;241;43m.\u001b[39;49m\u001b[38;5;21;43m__getitem__\u001b[39;49m\u001b[43m(\u001b[49m\u001b[43mname\u001b[49m\u001b[43m)\u001b[49m\n\u001b[0;32m    396\u001b[0m \u001b[38;5;28msetattr\u001b[39m(\u001b[38;5;28mself\u001b[39m, name, func)\n\u001b[0;32m    397\u001b[0m \u001b[38;5;28;01mreturn\u001b[39;00m func\n",
      "File \u001b[1;32mD:\\Anaconda\\lib\\ctypes\\__init__.py:400\u001b[0m, in \u001b[0;36mCDLL.__getitem__\u001b[1;34m(self, name_or_ordinal)\u001b[0m\n\u001b[0;32m    399\u001b[0m \u001b[38;5;28;01mdef\u001b[39;00m \u001b[38;5;21m__getitem__\u001b[39m(\u001b[38;5;28mself\u001b[39m, name_or_ordinal):\n\u001b[1;32m--> 400\u001b[0m     func \u001b[38;5;241m=\u001b[39m \u001b[38;5;28;43mself\u001b[39;49m\u001b[38;5;241;43m.\u001b[39;49m\u001b[43m_FuncPtr\u001b[49m\u001b[43m(\u001b[49m\u001b[43m(\u001b[49m\u001b[43mname_or_ordinal\u001b[49m\u001b[43m,\u001b[49m\u001b[43m \u001b[49m\u001b[38;5;28;43mself\u001b[39;49m\u001b[43m)\u001b[49m\u001b[43m)\u001b[49m\n\u001b[0;32m    401\u001b[0m     \u001b[38;5;28;01mif\u001b[39;00m \u001b[38;5;129;01mnot\u001b[39;00m \u001b[38;5;28misinstance\u001b[39m(name_or_ordinal, \u001b[38;5;28mint\u001b[39m):\n\u001b[0;32m    402\u001b[0m         func\u001b[38;5;241m.\u001b[39m\u001b[38;5;18m__name__\u001b[39m \u001b[38;5;241m=\u001b[39m name_or_ordinal\n",
      "\u001b[1;31mAttributeError\u001b[0m: function 'find_best_subsequence_matches' not found"
     ]
    }
   ],
   "source": [
    "for data in dataSet:\n",
    "    file = data.get(\"file\")\n",
    "    genome = GetWholeGenomeFromFile(file)\n",
    "    patterns = data.get(\"patterns\")\n",
    "    \n",
    "    for pattern in patterns:\n",
    "        startTime = time.time()\n",
    "        FindBestSubsequenceMatches(genome, pattern)\n",
    "        endTime = time.time()\n",
    "        duration = endTime - startTime\n",
    "        print(f\"{file} : {pattern} executed in {duration}\")"
   ]
  },
  {
   "cell_type": "code",
   "execution_count": null,
   "id": "cb842cc9",
   "metadata": {},
   "outputs": [],
   "source": []
  }
 ],
 "metadata": {
  "kernelspec": {
   "display_name": "Python 3 (ipykernel)",
   "language": "python",
   "name": "python3"
  },
  "language_info": {
   "codemirror_mode": {
    "name": "ipython",
    "version": 3
   },
   "file_extension": ".py",
   "mimetype": "text/x-python",
   "name": "python",
   "nbconvert_exporter": "python",
   "pygments_lexer": "ipython3",
   "version": "3.9.12"
  }
 },
 "nbformat": 4,
 "nbformat_minor": 5
}
