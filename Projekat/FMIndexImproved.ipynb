{
 "cells": [
  {
   "cell_type": "code",
   "execution_count": 1,
   "id": "23c8b3d2",
   "metadata": {},
   "outputs": [],
   "source": [
    "import time\n",
    "import psutil\n",
    "import os"
   ]
  },
  {
   "cell_type": "code",
   "execution_count": 2,
   "id": "09d3283d",
   "metadata": {},
   "outputs": [],
   "source": [
    "%run BurrowsWheelerTransformImproved.ipynb"
   ]
  },
  {
   "cell_type": "code",
   "execution_count": 3,
   "id": "7c3205f5",
   "metadata": {},
   "outputs": [],
   "source": [
    "class FMIndexImproved():\n",
    "    @staticmethod\n",
    "    def SampleSuffixArray(suffixArray, step = 32):\n",
    "        sampledSA = {}\n",
    "        for index, suffix in enumerate(suffixArray):\n",
    "            if suffix % step == 0:\n",
    "                sampledSA[index] = suffix\n",
    "        return sampledSA\n",
    "    \n",
    "    def __init__(self, seq, suffixArray = None, checkpointStep = 128, sampledSAStep = 32):\n",
    "        if seq[-1] != '$':\n",
    "            seq += '$'\n",
    "        if suffixArray == None:\n",
    "            suffixArray = SuffixArrayImprovedSort(seq)\n",
    "        self.bwt = BWTViaSAImprovedDict(seq, suffixArray)\n",
    "        self.sampledSA = self.SampleSuffixArray(suffixArray, sampledSAStep)\n",
    "        self.length = len(self.bwt)\n",
    "        \n",
    "        self.CreateCheckpoints(checkpointStep)\n",
    "        \n",
    "        tots = dict()\n",
    "        for c in self.bwt:\n",
    "            tots[c] = tots.get(c, 0) + 1\n",
    "        \n",
    "        self.first = {}\n",
    "        totc = 0\n",
    "        for c, count in sorted(tots.items()):\n",
    "            self.first[c] = totc\n",
    "            totc += count\n",
    "    \n",
    "    def CreateCheckpoints(self, checkpointStep = 128):\n",
    "        self.checkpoints = {}\n",
    "        self.checkpointStep = checkpointStep\n",
    "        tally = {}\n",
    "        \n",
    "        for char in self.bwt:\n",
    "            if char not in tally:\n",
    "                tally[char] = 0\n",
    "                self.checkpoints[char] = []\n",
    "        \n",
    "        for index, char in enumerate(self.bwt):\n",
    "            tally[char] += 1\n",
    "            if index % checkpointStep == 0:\n",
    "                for c in tally.keys():\n",
    "                    self.checkpoints[c].append(tally[c])\n",
    "    \n",
    "    def Rank(self, bwt, char, row):\n",
    "        if row < 0 or char not in self.checkpoints:\n",
    "            return 0\n",
    "        index, numOccurences = row, 0\n",
    "        \n",
    "        while index % self.checkpointStep != 0:\n",
    "            if bwt[index] == char:\n",
    "                numOccurences += 1\n",
    "            index -= 1\n",
    "        return self.checkpoints[char][index // self.checkpointStep] + numOccurences\n",
    "    \n",
    "    def Range(self, pattern):\n",
    "        left, right = 0, self.length - 1\n",
    "        for i in range(len(pattern) - 1, -1, -1):\n",
    "            left = self.Rank(self.bwt, pattern[i], left - 1) + self.Count(pattern[i])\n",
    "            right = self.Rank(self.bwt, pattern[i], right) + self.Count(pattern[i]) - 1\n",
    "            if right < left:\n",
    "                break\n",
    "        return left, right + 1\n",
    "    \n",
    "    def Resolve(self, row):\n",
    "        def StepLeft(row):\n",
    "            char = self.bwt[row]\n",
    "            return self.Rank(self.bwt, char, row - 1) + self.Count(char)\n",
    "        \n",
    "        numSteps = 0\n",
    "        while row not in self.sampledSA:\n",
    "            row = StepLeft(row)\n",
    "            numSteps += 1\n",
    "        return self.sampledSA[row] + numSteps\n",
    "    \n",
    "    def Count(self, char):\n",
    "        if char not in self.first:\n",
    "            for cc in sorted(self.first.keys()):\n",
    "                if char < cc:\n",
    "                    return self.first[cc]\n",
    "            return self.first[cc]\n",
    "        else:\n",
    "            return self.first[char]\n",
    "    \n",
    "    def HasSubstring(self, pattern):\n",
    "        left, right = self.Range(pattern)\n",
    "        return right > left\n",
    "    \n",
    "    def HasSuffix(self, pattern):\n",
    "        left, right = self.Range(pattern)\n",
    "        if left >= self.length:\n",
    "            return False\n",
    "        offset = self.Resolve(left)\n",
    "        return right > left and offset + len(pattern) == self.length - 1\n",
    "    \n",
    "    def Search(self, pattern):\n",
    "        left, right = self.Range(pattern)\n",
    "        return [self.Resolve(x) for x in range(left, right)]"
   ]
  },
  {
   "cell_type": "code",
   "execution_count": 4,
   "id": "4e99df8b",
   "metadata": {},
   "outputs": [],
   "source": [
    "dataSet = [\n",
    "    {\"file\" : \"./data/13443_ref_Cara_1.0_chr1c.fa\",\n",
    "     \"patterns\" : [\n",
    "     \"ATGCATG\",\n",
    "     \"TCTCTCTA\",\n",
    "     \"TTCACTACTCTCA\"\n",
    "     ]},\n",
    "    {\"file\" : \"./data/10093_ref_PAHARI_EIJ_v1.1_chrX.fa\",\n",
    "     \"patterns\" : [\n",
    "     \"ATGATG\",\n",
    "     \"CTCTCTA\",\n",
    "     \"TCACTACTCTCA\"\n",
    "     ]},\n",
    "    {\"file\" : \"./data/144034_ref_Pbar_UMD_V03_chrUn.fa\",\n",
    "     \"patterns\": [\n",
    "     \"CGCGAG\",\n",
    "     \"GTCGAAT\",\n",
    "     \"GGGCGTCATCGCGCG\"\n",
    "     ]}\n",
    "]"
   ]
  },
  {
   "cell_type": "code",
   "execution_count": null,
   "id": "aa53af9c",
   "metadata": {},
   "outputs": [
    {
     "name": "stderr",
     "output_type": "stream",
     "text": [
      "D:\\Anaconda\\lib\\site-packages\\pydivsufsort\\divsufsort.py:76: UserWarning: converting str argument uses more memory\n",
      "  warnings.warn(\"converting str argument uses more memory\")\n"
     ]
    },
    {
     "name": "stdout",
     "output_type": "stream",
     "text": [
      "./data/13443_ref_Cara_1.0_chr1c.fa : ATGCATG executed in 69.1028802394867\n",
      "./data/13443_ref_Cara_1.0_chr1c.fa : TCTCTCTA executed in 67.58903789520264\n",
      "./data/13443_ref_Cara_1.0_chr1c.fa : TTCACTACTCTCA executed in 67.73388338088989\n",
      "./data/10093_ref_PAHARI_EIJ_v1.1_chrX.fa : ATGATG executed in 385.99411153793335\n",
      "./data/10093_ref_PAHARI_EIJ_v1.1_chrX.fa : CTCTCTA executed in 205.94877338409424\n",
      "./data/10093_ref_PAHARI_EIJ_v1.1_chrX.fa : TCACTACTCTCA executed in 214.81392812728882\n"
     ]
    }
   ],
   "source": [
    "for data in dataSet:\n",
    "    file = data.get(\"file\")\n",
    "    genome = GetWholeGenomeFromFile(file)\n",
    "    patterns = data.get(\"patterns\")\n",
    "    \n",
    "    for pattern in patterns:\n",
    "        startTime = time.time()\n",
    "        fm = FMIndexImproved(genome)\n",
    "        fm.Search(pattern)\n",
    "        endTime = time.time()\n",
    "        duration = endTime - startTime\n",
    "        print(f\"{file} : {pattern} executed in {duration}\")\n",
    "        del fm\n",
    "    \n",
    "    del file\n",
    "    del genome\n",
    "    del patterns"
   ]
  },
  {
   "cell_type": "code",
   "execution_count": 6,
   "id": "8255fea8",
   "metadata": {},
   "outputs": [
    {
     "name": "stderr",
     "output_type": "stream",
     "text": [
      "D:\\Anaconda\\lib\\site-packages\\pydivsufsort\\divsufsort.py:76: UserWarning: converting str argument uses more memory\n",
      "  warnings.warn(\"converting str argument uses more memory\")\n"
     ]
    },
    {
     "name": "stdout",
     "output_type": "stream",
     "text": [
      "{'$': 0, 'A': 1, 'C': 15903823, 'G': 25169900, 'N': 34468427, 'T': 34714096}\n",
      "./data/13443_ref_Cara_1.0_chr1c.fa : TCTCTCTA executed in 78.05802965164185\n"
     ]
    },
    {
     "ename": "NameError",
     "evalue": "name 'patterns' is not defined",
     "output_type": "error",
     "traceback": [
      "\u001b[1;31m---------------------------------------------------------------------------\u001b[0m",
      "\u001b[1;31mNameError\u001b[0m                                 Traceback (most recent call last)",
      "Input \u001b[1;32mIn [6]\u001b[0m, in \u001b[0;36m<cell line: 16>\u001b[1;34m()\u001b[0m\n\u001b[0;32m     14\u001b[0m \u001b[38;5;28;01mdel\u001b[39;00m file\n\u001b[0;32m     15\u001b[0m \u001b[38;5;28;01mdel\u001b[39;00m genome\n\u001b[1;32m---> 16\u001b[0m \u001b[38;5;28;01mdel\u001b[39;00m patterns\n",
      "\u001b[1;31mNameError\u001b[0m: name 'patterns' is not defined"
     ]
    }
   ],
   "source": [
    "file = dataSet[0].get(\"file\")\n",
    "genome = GetWholeGenomeFromFile(file)\n",
    "pattern = dataSet[0].get(\"patterns\")[1]\n",
    "    \n",
    "startTime = time.time()\n",
    "fm = FMIndexImproved(genome)\n",
    "for f in fm.first:\n",
    "    print()\n",
    "fm.Search(pattern)\n",
    "endTime = time.time()\n",
    "duration = endTime - startTime\n",
    "print(f\"{file} : {pattern} executed in {duration}\")\n",
    "del fm\n",
    "    \n",
    "del file\n",
    "del genome\n",
    "del pattern"
   ]
  },
  {
   "cell_type": "code",
   "execution_count": null,
   "id": "0de6ce8f",
   "metadata": {},
   "outputs": [
    {
     "name": "stdout",
     "output_type": "stream",
     "text": [
      "T\n"
     ]
    }
   ],
   "source": [
    "seq = GetWholeGenomeFromFile(dataSet[0].get(\"file\"))\n",
    "\n",
    "tots = dict()\n",
    "for c in seq:\n",
    "    tots[c] = tots.get(c, 0) + 1\n",
    "\n",
    "bwt = \"\"\n",
    "#with open(\"./data/bwt\" + str(1) + \".txt\", \"a\") as f:\n",
    "for char, count in sorted(tots.items()):\n",
    "    index = 0\n",
    "    toAdd = list()\n",
    "    while count > 0:\n",
    "        if seq[index] == char:\n",
    "            toAdd.append(seq[index:] + seq[:index])\n",
    "            count -= 1\n",
    "        index += 1\n",
    "    toWrite = ''.join(map(lambda x: x[-1], sorted(toAdd)))\n",
    "#        for rotation in sorted(toAdd):\n",
    "#            toWrite += rotation[-1]\n",
    "    bwt += toWrite\n",
    "#        f.write(toWrite)\n",
    "    print(toWrite)\n",
    "    del toWrite\n",
    "    del toAdd\n",
    "#    f.close()\n",
    "del tots"
   ]
  },
  {
   "cell_type": "code",
   "execution_count": null,
   "id": "fbdba5b6",
   "metadata": {},
   "outputs": [],
   "source": []
  }
 ],
 "metadata": {
  "kernelspec": {
   "display_name": "Python 3 (ipykernel)",
   "language": "python",
   "name": "python3"
  },
  "language_info": {
   "codemirror_mode": {
    "name": "ipython",
    "version": 3
   },
   "file_extension": ".py",
   "mimetype": "text/x-python",
   "name": "python",
   "nbconvert_exporter": "python",
   "pygments_lexer": "ipython3",
   "version": "3.9.12"
  }
 },
 "nbformat": 4,
 "nbformat_minor": 5
}
