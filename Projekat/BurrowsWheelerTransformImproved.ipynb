{
 "cells": [
  {
   "cell_type": "code",
   "execution_count": null,
   "id": "a2ee220b",
   "metadata": {},
   "outputs": [],
   "source": [
    "#!python -m pip install pydivsufsort\n",
    "#!jupyter notebook --NotebookApp.iopub_data_rate_limit=1.0e10\n",
    "#ovo mozemo u readMe: prvi je da bi imao ovaj divsufsort, a drugi je ako jupyter pravi problem kad se ucitava fasta"
   ]
  },
  {
   "cell_type": "code",
   "execution_count": null,
   "id": "853e377b",
   "metadata": {},
   "outputs": [],
   "source": [
    "from collections import defaultdict\n",
    "from pydivsufsort import divsufsort"
   ]
  },
  {
   "cell_type": "code",
   "execution_count": null,
   "id": "82b0e534",
   "metadata": {},
   "outputs": [],
   "source": [
    "\"\"\" Improved suffix array algorithm using Python's defaultdict \"\"\"\n",
    "def SuffixArrayImprovedDict(seq):\n",
    "    def SortBucket(seq, bucket, order):\n",
    "        d = defaultdict(list)\n",
    "        for i in bucket:\n",
    "            key = seq[i : i + order]\n",
    "            d[key].append(i)\n",
    "        result = []\n",
    "        for _, val in sorted(d.items()):\n",
    "            if len(val) > 1:\n",
    "                result += SortBucket(seq, val, order * 2)\n",
    "            else:\n",
    "                result.append(val[0])\n",
    "        return result\n",
    "    \n",
    "    return SortBucket(seq, (i for i in range(len(seq))), 1)"
   ]
  },
  {
   "cell_type": "code",
   "execution_count": null,
   "id": "42eb64ac",
   "metadata": {},
   "outputs": [],
   "source": [
    "\"\"\" Improved suffix array algorithm using library pydivsufsort \"\"\"\n",
    "def SuffixArrayImprovedSort(seq):\n",
    "    return list(divsufsort(seq))"
   ]
  },
  {
   "cell_type": "code",
   "execution_count": null,
   "id": "7cc2fd32",
   "metadata": {},
   "outputs": [],
   "source": [
    "def BWTViaSAImprovedDict(seq, suffixArray = None):\n",
    "    bwt = []\n",
    "    if suffixArray == None:\n",
    "        suffixArray = SuffixArrayImprovedDict(seq)\n",
    "    for si in suffixArray:\n",
    "        if si == 0:\n",
    "            bwt.append('$')\n",
    "        else:\n",
    "            bwt.append(seq[si - 1])\n",
    "    return ''.join(bwt)"
   ]
  },
  {
   "cell_type": "code",
   "execution_count": null,
   "id": "c7d3f722",
   "metadata": {},
   "outputs": [],
   "source": [
    "def BWTViaSAImprovedSort(seq, suffixArray):\n",
    "    bwt = []\n",
    "    for si in suffixArray:\n",
    "        if si == 0:\n",
    "            bwt.append('$')\n",
    "        else:\n",
    "            bwt.append(seq[si - 1])\n",
    "    return ''.join(bwt)"
   ]
  },
  {
   "cell_type": "code",
   "execution_count": null,
   "id": "b200e13c",
   "metadata": {},
   "outputs": [],
   "source": [
    "\"\"\" Given BWT string bw, return parallel list of B-ranks. Also\n",
    "    return tots: map from character to # times it appears. \"\"\"\n",
    "def RankBWT(bw):\n",
    "    tots = dict()\n",
    "    ranks = []\n",
    "    for c in bw:\n",
    "        if c not in tots:\n",
    "            tots[c] = 0\n",
    "        ranks.append(tots[c])\n",
    "        tots[c] += 1\n",
    "    return ranks, tots"
   ]
  },
  {
   "cell_type": "code",
   "execution_count": null,
   "id": "8dd2fccb",
   "metadata": {},
   "outputs": [],
   "source": [
    "\"\"\" Return map from character to the range of rows prefixed by \n",
    "    the character. \"\"\"\n",
    "def FirstColumn(tots):\n",
    "    first = {}\n",
    "    totc = 0\n",
    "    for c, count in sorted(tots.items()):\n",
    "        first[c] = (totc, totc + count)\n",
    "        totc += count\n",
    "    return first"
   ]
  },
  {
   "cell_type": "code",
   "execution_count": null,
   "id": "f78b5606",
   "metadata": {},
   "outputs": [],
   "source": [
    "\"\"\"Return the min and max ranks of a specified caracter from the BWT\"\"\"\n",
    "def SetRank(ranks, lColumn, char, lowerIndex, higherIndex):\n",
    "    indexesOfChar = []\n",
    "    \n",
    "    for i in range(lowerIndex, higherIndex):#lower index is inclusive, higher is exclusive\n",
    "        if lColumn[i] == char:\n",
    "            indexesOfChar.append(i)\n",
    "        \n",
    "    if indexesOfChar:\n",
    "        lowerIndex = min(indexesOfChar)\n",
    "        higherIndex = max(indexesOfChar)\n",
    "    else:\n",
    "        return (-1, -1)\n",
    "    \n",
    "    return (ranks[lowerIndex], ranks[higherIndex])"
   ]
  },
  {
   "cell_type": "code",
   "execution_count": null,
   "id": "94fe290e",
   "metadata": {},
   "outputs": [],
   "source": [
    "\"\"\"Return the range of indexes for a specified caracter with given ranks from the First Column of BWM\"\"\"\n",
    "def SetIndex(fColumn, char, lowerRank, higherRank):\n",
    "    lowerIndex = fColumn[char][0] + lowerRank\n",
    "    higherIndex = fColumn[char][0] + higherRank + 1 #+1 is to make higherIndex exclusive\n",
    "    return (lowerIndex, higherIndex)"
   ]
  },
  {
   "cell_type": "code",
   "execution_count": null,
   "id": "340d77bb",
   "metadata": {},
   "outputs": [],
   "source": [
    "\"\"\" Returns positions where the pattern matches the sequence, otherwise throw exception \"\"\"\n",
    "def SearchViaImprovedSort(sequence, pattern):\n",
    "    positions = SuffixArrayImprovedSort(sequence)\n",
    "    lColumn = BWTViaSAImprovedSort(sequence, positions)\n",
    "    ranks, tots = RankBWT(lColumn)\n",
    "    fColumn = FirstColumn(tots)\n",
    "    \n",
    "    lowerIndex = 0\n",
    "    higherIndex = 0\n",
    "    lowerRank = 0\n",
    "    higherRank = 0\n",
    "    firstIteration = True\n",
    "    \n",
    "    for char in reversed(pattern):\n",
    "        if firstIteration:\n",
    "            firstIteration = False\n",
    "            if fColumn.get(char) is None:\n",
    "                return [-1]\n",
    "            else:\n",
    "                (lowerIndex, higherIndex) = fColumn[char]\n",
    "                continue\n",
    "        (lowerRank, higherRank) = SetRank(ranks, lColumn, char, lowerIndex, higherIndex)\n",
    "        if lowerRank == -1 or higherRank == -1:\n",
    "            return [-1]\n",
    "        else:\n",
    "            (lowerIndex, higherIndex) = SetIndex(fColumn, char, lowerRank, higherRank)\n",
    "    \n",
    "    return [positions[i] for i in range(lowerIndex, higherIndex)]"
   ]
  },
  {
   "cell_type": "code",
   "execution_count": null,
   "id": "396963fb",
   "metadata": {},
   "outputs": [],
   "source": [
    "\"\"\" Returns positions where the pattern matches the sequence, otherwise throw exception \"\"\"\n",
    "def SearchViaImprovedDict(sequence, pattern):\n",
    "    positions = SuffixArrayImprovedDict(sequence)\n",
    "    lColumn = BWTViaSAImprovedDict(sequence, positions)\n",
    "    ranks, tots = RankBWT(lColumn)\n",
    "    fColumn = FirstColumn(tots)\n",
    "    \n",
    "    lowerIndex = 0\n",
    "    higherIndex = 0\n",
    "    lowerRank = 0\n",
    "    higherRank = 0\n",
    "    firstIteration = True\n",
    "    \n",
    "    for char in reversed(pattern):\n",
    "        if firstIteration:\n",
    "            firstIteration = False\n",
    "            if fColumn.get(char) is None:\n",
    "                return [-1]\n",
    "            else:\n",
    "                (lowerIndex, higherIndex) = fColumn[char]\n",
    "                continue\n",
    "        (lowerRank, higherRank) = SetRank(ranks, lColumn, char, lowerIndex, higherIndex)\n",
    "        if lowerRank == -1 or higherRank == -1:\n",
    "            return [-1]\n",
    "        else:\n",
    "            (lowerIndex, higherIndex) = SetIndex(fColumn, char, lowerRank, higherRank)\n",
    "    \n",
    "    return [positions[i] for i in range(lowerIndex, higherIndex)]"
   ]
  },
  {
   "cell_type": "code",
   "execution_count": null,
   "id": "e80422b7",
   "metadata": {},
   "outputs": [],
   "source": [
    "\"\"\" Get whole genome sequence from fasta file, concatenates all reads \"\"\"\n",
    "def GetWholeGenomeFromFile(file):\n",
    "    fasta_sequences = SeqIO.parse(open(file),'fasta')\n",
    "    genome = \"\"\n",
    "    for sequence in fasta_sequences:\n",
    "        genome += str(sequence.seq)\n",
    "    return genome + \"$\""
   ]
  },
  {
   "cell_type": "code",
   "execution_count": null,
   "id": "58db81a5",
   "metadata": {},
   "outputs": [],
   "source": []
  }
 ],
 "metadata": {
  "kernelspec": {
   "display_name": "Python 3 (ipykernel)",
   "language": "python",
   "name": "python3"
  },
  "language_info": {
   "codemirror_mode": {
    "name": "ipython",
    "version": 3
   },
   "file_extension": ".py",
   "mimetype": "text/x-python",
   "name": "python",
   "nbconvert_exporter": "python",
   "pygments_lexer": "ipython3",
   "version": "3.9.7"
  }
 },
 "nbformat": 4,
 "nbformat_minor": 5
}
