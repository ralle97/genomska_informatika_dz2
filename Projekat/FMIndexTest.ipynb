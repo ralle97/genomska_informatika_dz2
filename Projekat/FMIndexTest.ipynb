{
 "cells": [
  {
   "cell_type": "code",
   "execution_count": 181,
   "id": "16449152",
   "metadata": {},
   "outputs": [
    {
     "name": "stdout",
     "output_type": "stream",
     "text": [
      "{'T': 1, 'e': 1, 's': 1, 't': 2, ' ': 1, 'S': 1, 'r': 1, 'i': 1, 'n': 1, 'g': 1}\n",
      "{'T': 1, 'e': 1, 's': 1, 't': 2, ' ': 1, 'S': 1, 'r': 1, 'i': 1, 'n': 1, 'g': 1}\n"
     ]
    }
   ],
   "source": [
    "%run FMIndex.ipynb"
   ]
  },
  {
   "cell_type": "code",
   "execution_count": 182,
   "id": "f7675a4f",
   "metadata": {},
   "outputs": [],
   "source": [
    "\"\"\" Test cases \"\"\"\n",
    "\n",
    "test1 = \"Tomorrow_and_tomorrow_and_tomorrow$\"\n",
    "test2 = \"It_was_the_best_of_times_it_was_the_worst_of_times$\"\n",
    "test3 = \"in_the_jingle_jangle_morning_Ill_come_following_you$\"\n",
    "test4 = \"GATTTGGGGTTCAAAGCAGTATCGATCAAATAGTAAATCCATTTGTTCAACTCACAGTTTGATTTGG\\\n",
    "GGTTCAAAGCAGTAATTTGGGGTTCAAAGCAGTATCGACAAATAGTAAATCCATTTGTTCATTCAAAGCAGTAATT\\\n",
    "TGGGGTTATTTGGGGTTCAAAGCAGTATCGATCAAATAGTAAATCCATTTGTTCAACTCACAGTTT$\""
   ]
  },
  {
   "cell_type": "code",
   "execution_count": 183,
   "id": "d6a50d88",
   "metadata": {},
   "outputs": [],
   "source": [
    "patternInString1 = \"and\"\n",
    "patternInString2 = \"was_the\"\n",
    "patternInString3 = \"ngle\"\n",
    "patternInString4 = \"AGTATCGAC\"\n",
    "\n",
    "patternNotInString = \"GATTACA\"\n",
    "\n",
    "suffixPattern1 = \"tomorrow\"\n",
    "suffixPattern2 = \"imes\"\n",
    "suffixPattern3 = \"u\"\n",
    "suffixPattern4 = \"TTT\"\n",
    "\n",
    "fm1_1 = FMIndex(test1, 1)\n",
    "fm1_4 = FMIndex(test1, 4)\n",
    "fm1_8 = FMIndex(test1, 8)\n",
    "fm1_32 = FMIndex(test1, 32)\n",
    "\n",
    "fm2_1 = FMIndex(test2, 1)\n",
    "fm2_3 = FMIndex(test2, 3)\n",
    "fm2_16 = FMIndex(test2, 16)\n",
    "fm2_29 = FMIndex(test2, 29)\n",
    "\n",
    "fm3_1 = FMIndex(test3, 1)\n",
    "fm3_7 = FMIndex(test3, 7)\n",
    "fm3_16 = FMIndex(test3, 16)\n",
    "fm3_41 = FMIndex(test3, 41)\n",
    "\n",
    "fm4_1 = FMIndex(test4, 1)\n",
    "fm4_4 = FMIndex(test4, 4)\n",
    "fm4_16 = FMIndex(test4, 16)\n",
    "fm4_64 = FMIndex(test4, 64)\n",
    "\n",
    "#print(fm1.bwt)\n",
    "#print(fm1.offset)\n",
    "#print(fm1.step)\n",
    "#print(fm1.first)\n",
    "#print(fm1.checkpoints)\n",
    "\n",
    "#print(fm1.CountLetterWithCheckpoints(50, 'A'))\n",
    "\n",
    "#print(fm1.Rank(50, 'A'))\n",
    "\n",
    "#print(fm1.Resolve(50))\n",
    "\n",
    "#print(fm1.Range(patternInString))\n",
    "#print(fm1.Range(patternNotInString))\n",
    "\n",
    "#print(fm1.Search(patternInString))\n",
    "#print(fm1.Search(patternNotInString))\n",
    "\n",
    "#pos = fm1.Search(patternInString)\n",
    "#for p in pos:\n",
    "#    print(test4[int(p):int(p) + len(patternInString)])\n",
    "\n",
    "#print(fm1.HasSubstring(patternInString))\n",
    "#print(fm1.HasSubstring(patternNotInString))\n",
    "\n",
    "#print(fm1.HasSuffix(patternInString))\n",
    "#print(fm1.HasSuffix(patternNotInString))\n",
    "#print(fm1.HasSuffix(suffixPattern))"
   ]
  },
  {
   "cell_type": "code",
   "execution_count": 184,
   "id": "12c0448e",
   "metadata": {},
   "outputs": [],
   "source": [
    "test1ExpectedCountLetter10o = 0\n",
    "test2ExpectedCountLetter48w = 3\n",
    "test3ExpectedCountLetter34j = 2\n",
    "test4ExpectedCountLetter50A = 21"
   ]
  },
  {
   "cell_type": "code",
   "execution_count": 185,
   "id": "23d5c8dc",
   "metadata": {},
   "outputs": [],
   "source": [
    "assert fm1_1.CountLetterWithCheckpoints(10, 'o') == test1ExpectedCountLetter10o\n",
    "assert fm2_1.CountLetterWithCheckpoints(48, 'w') == test2ExpectedCountLetter48w\n",
    "assert fm3_1.CountLetterWithCheckpoints(34, 'j') == test3ExpectedCountLetter34j\n",
    "assert fm4_1.CountLetterWithCheckpoints(50, 'A') == test4ExpectedCountLetter50A"
   ]
  },
  {
   "cell_type": "code",
   "execution_count": 186,
   "id": "68f35e8d",
   "metadata": {},
   "outputs": [],
   "source": [
    "test1ExpectedRank10o = 15\n",
    "test2ExpectedRank48w = 51\n",
    "test3ExpectedRank34j = 28\n",
    "test4ExpectedRank50A = 22"
   ]
  },
  {
   "cell_type": "code",
   "execution_count": 187,
   "id": "ea45c0a8",
   "metadata": {},
   "outputs": [],
   "source": [
    "assert fm1_1.Rank(10, 'o') == test1ExpectedRank10o\n",
    "assert fm2_1.Rank(48, 'w') == test2ExpectedRank48w\n",
    "assert fm3_1.Rank(34, 'j') == test3ExpectedRank34j\n",
    "assert fm4_1.Rank(50, 'A') == test4ExpectedRank50A"
   ]
  },
  {
   "cell_type": "code",
   "execution_count": 188,
   "id": "e6589853",
   "metadata": {},
   "outputs": [],
   "source": [
    "test1ExpectedResolve10 = 28\n",
    "test2ExpectedResolve48 = 3\n",
    "test3ExpectedResolve34 = 35\n",
    "test4ExpectedResolve50 = 173"
   ]
  },
  {
   "cell_type": "code",
   "execution_count": 189,
   "id": "47eba8c8",
   "metadata": {},
   "outputs": [],
   "source": [
    "assert fm1_1.Resolve(10) == test1ExpectedResolve10\n",
    "assert fm2_1.Resolve(48) == test2ExpectedResolve48\n",
    "assert fm3_1.Resolve(34) == test3ExpectedResolve34\n",
    "assert fm4_1.Resolve(50) == test4ExpectedResolve50"
   ]
  },
  {
   "cell_type": "code",
   "execution_count": 190,
   "id": "bd8476e0",
   "metadata": {},
   "outputs": [],
   "source": [
    "test1ExpectedRangeIN = (6, 8)\n",
    "test2ExpectedRangeIN = (48, 50)\n",
    "test3ExpectedRangeIN = (39, 41)\n",
    "test4ExpectedRangeIN = (42, 43)"
   ]
  },
  {
   "cell_type": "code",
   "execution_count": 191,
   "id": "b383808c",
   "metadata": {},
   "outputs": [],
   "source": [
    "assert fm1_1.Range(patternInString1) == test1ExpectedRangeIN\n",
    "assert fm2_1.Range(patternInString2) == test2ExpectedRangeIN\n",
    "assert fm3_1.Range(patternInString3) == test3ExpectedRangeIN\n",
    "assert fm4_1.Range(patternInString4) == test4ExpectedRangeIN"
   ]
  },
  {
   "cell_type": "code",
   "execution_count": 192,
   "id": "697be2d1",
   "metadata": {},
   "outputs": [],
   "source": [
    "test1ExpectedSearchIN = [22, 9]\n",
    "test2ExpectedSearchIN = [3, 28]\n",
    "test3ExpectedSearchIN = [9, 16]\n",
    "test4ExpectedSearchIN = [97]"
   ]
  },
  {
   "cell_type": "code",
   "execution_count": 193,
   "id": "62a5ba83",
   "metadata": {},
   "outputs": [],
   "source": [
    "assert fm1_1.Search(patternInString1) == test1ExpectedSearchIN\n",
    "assert fm2_1.Search(patternInString2) == test2ExpectedSearchIN\n",
    "assert fm3_1.Search(patternInString3) == test3ExpectedSearchIN\n",
    "assert fm4_1.Search(patternInString4) == test4ExpectedSearchIN"
   ]
  },
  {
   "cell_type": "code",
   "execution_count": 194,
   "id": "5b2de965",
   "metadata": {},
   "outputs": [],
   "source": [
    "expectedHasSubstringIN = True"
   ]
  },
  {
   "cell_type": "code",
   "execution_count": 195,
   "id": "73abdd09",
   "metadata": {},
   "outputs": [],
   "source": [
    "assert fm1_1.HasSubstring(patternInString1) == expectedHasSubstringIN\n",
    "assert fm2_1.HasSubstring(patternInString2) == expectedHasSubstringIN\n",
    "assert fm3_1.HasSubstring(patternInString3) == expectedHasSubstringIN\n",
    "assert fm4_1.HasSubstring(patternInString4) == expectedHasSubstringIN"
   ]
  },
  {
   "cell_type": "code",
   "execution_count": 196,
   "id": "71c7dccd",
   "metadata": {},
   "outputs": [],
   "source": [
    "expectedHasSuffixIN = False"
   ]
  },
  {
   "cell_type": "code",
   "execution_count": 197,
   "id": "adf08156",
   "metadata": {},
   "outputs": [],
   "source": [
    "assert fm1_1.HasSuffix(patternInString1) == expectedHasSuffixIN\n",
    "assert fm2_1.HasSuffix(patternInString2) == expectedHasSuffixIN\n",
    "assert fm3_1.HasSuffix(patternInString3) == expectedHasSuffixIN\n",
    "assert fm4_1.HasSuffix(patternInString4) == expectedHasSuffixIN"
   ]
  },
  {
   "cell_type": "code",
   "execution_count": 198,
   "id": "31fe6e85",
   "metadata": {},
   "outputs": [],
   "source": [
    "expectedRangeNOT = (-1, -1)"
   ]
  },
  {
   "cell_type": "code",
   "execution_count": 199,
   "id": "c231ef5d",
   "metadata": {},
   "outputs": [],
   "source": [
    "assert fm1_1.Range(patternNotInString) == expectedRangeNOT\n",
    "assert fm2_1.Range(patternNotInString) == expectedRangeNOT\n",
    "assert fm3_1.Range(patternNotInString) == expectedRangeNOT\n",
    "assert fm4_1.Range(patternNotInString) == expectedRangeNOT"
   ]
  },
  {
   "cell_type": "code",
   "execution_count": 200,
   "id": "ad786b14",
   "metadata": {},
   "outputs": [],
   "source": [
    "expectedSearchNOT = []"
   ]
  },
  {
   "cell_type": "code",
   "execution_count": 201,
   "id": "3720663a",
   "metadata": {},
   "outputs": [],
   "source": [
    "assert fm1_1.Search(patternNotInString) == expectedSearchNOT\n",
    "assert fm2_1.Search(patternNotInString) == expectedSearchNOT\n",
    "assert fm3_1.Search(patternNotInString) == expectedSearchNOT\n",
    "assert fm4_1.Search(patternNotInString) == expectedSearchNOT"
   ]
  },
  {
   "cell_type": "code",
   "execution_count": 202,
   "id": "b42a7ae9",
   "metadata": {},
   "outputs": [],
   "source": [
    "expectedHasSubstringNOT = False"
   ]
  },
  {
   "cell_type": "code",
   "execution_count": 203,
   "id": "a24ba8a1",
   "metadata": {},
   "outputs": [],
   "source": [
    "assert fm1_1.HasSubstring(patternNotInString) == expectedHasSubstringNOT\n",
    "assert fm2_1.HasSubstring(patternNotInString) == expectedHasSubstringNOT\n",
    "assert fm3_1.HasSubstring(patternNotInString) == expectedHasSubstringNOT\n",
    "assert fm4_1.HasSubstring(patternNotInString) == expectedHasSubstringNOT"
   ]
  },
  {
   "cell_type": "code",
   "execution_count": 204,
   "id": "2a0aa42f",
   "metadata": {},
   "outputs": [],
   "source": [
    "expectedHasSuffixNOT = False"
   ]
  },
  {
   "cell_type": "code",
   "execution_count": 205,
   "id": "4d041210",
   "metadata": {},
   "outputs": [],
   "source": [
    "assert fm1_1.HasSuffix(patternNotInString) == expectedHasSuffixNOT\n",
    "assert fm2_1.HasSuffix(patternNotInString) == expectedHasSuffixNOT\n",
    "assert fm3_1.HasSuffix(patternNotInString) == expectedHasSuffixNOT\n",
    "assert fm4_1.HasSuffix(patternNotInString) == expectedHasSuffixNOT"
   ]
  },
  {
   "cell_type": "code",
   "execution_count": 206,
   "id": "2af7d161",
   "metadata": {},
   "outputs": [],
   "source": [
    "expectedHasSuffixEND = True"
   ]
  },
  {
   "cell_type": "code",
   "execution_count": 207,
   "id": "544854c0",
   "metadata": {},
   "outputs": [],
   "source": [
    "assert fm1_1.HasSuffix(suffixPattern1) == expectedHasSuffixEND\n",
    "assert fm2_1.HasSuffix(suffixPattern2) == expectedHasSuffixEND\n",
    "assert fm3_1.HasSuffix(suffixPattern3) == expectedHasSuffixEND\n",
    "assert fm4_1.HasSuffix(suffixPattern4) == expectedHasSuffixEND"
   ]
  },
  {
   "cell_type": "code",
   "execution_count": 208,
   "id": "5a9d6788",
   "metadata": {},
   "outputs": [],
   "source": [
    "assert fm1_1.CountLetterWithCheckpoints(10, 'o') == fm1_4.CountLetterWithCheckpoints(10, 'o')\n",
    "assert fm1_1.CountLetterWithCheckpoints(10, 'o') == fm1_8.CountLetterWithCheckpoints(10, 'o')\n",
    "assert fm1_1.CountLetterWithCheckpoints(10, 'o') == fm1_32.CountLetterWithCheckpoints(10, 'o')"
   ]
  },
  {
   "cell_type": "code",
   "execution_count": 209,
   "id": "2013d795",
   "metadata": {},
   "outputs": [],
   "source": [
    "assert fm1_1.Rank(10, 'o') == fm1_4.Rank(10, 'o')\n",
    "assert fm1_1.Rank(10, 'o') == fm1_8.Rank(10, 'o')\n",
    "assert fm1_1.Rank(10, 'o') == fm1_32.Rank(10, 'o')"
   ]
  },
  {
   "cell_type": "code",
   "execution_count": 210,
   "id": "e8387abf",
   "metadata": {},
   "outputs": [],
   "source": [
    "assert fm1_1.Resolve(10) == fm1_4.Resolve(10)\n",
    "assert fm1_1.Resolve(10) == fm1_8.Resolve(10)\n",
    "assert fm1_1.Resolve(10) == fm1_32.Resolve(10)"
   ]
  },
  {
   "cell_type": "code",
   "execution_count": 211,
   "id": "d1e591d7",
   "metadata": {},
   "outputs": [],
   "source": [
    "assert fm1_1.Range(patternInString1) == fm1_4.Range(patternInString1)\n",
    "assert fm1_1.Range(patternInString1) == fm1_8.Range(patternInString1)\n",
    "assert fm1_1.Range(patternInString1) == fm1_32.Range(patternInString1)"
   ]
  },
  {
   "cell_type": "code",
   "execution_count": 212,
   "id": "4d4375c2",
   "metadata": {},
   "outputs": [],
   "source": [
    "assert fm2_1.CountLetterWithCheckpoints(48, 'w') == fm2_3.CountLetterWithCheckpoints(48, 'w')\n",
    "assert fm2_1.CountLetterWithCheckpoints(48, 'w') == fm2_16.CountLetterWithCheckpoints(48, 'w')\n",
    "assert fm2_1.CountLetterWithCheckpoints(48, 'w') == fm2_29.CountLetterWithCheckpoints(48, 'w')"
   ]
  },
  {
   "cell_type": "code",
   "execution_count": 213,
   "id": "14cc02d4",
   "metadata": {},
   "outputs": [],
   "source": [
    "assert fm2_1.Rank(48, 'w') == fm2_3.Rank(48, 'w')\n",
    "assert fm2_1.Rank(48, 'w') == fm2_16.Rank(48, 'w')\n",
    "assert fm2_1.Rank(48, 'w') == fm2_29.Rank(48, 'w')"
   ]
  },
  {
   "cell_type": "code",
   "execution_count": 214,
   "id": "b72de1db",
   "metadata": {},
   "outputs": [],
   "source": [
    "assert fm2_1.Resolve(48) == fm2_3.Resolve(48)\n",
    "assert fm2_1.Resolve(48) == fm2_16.Resolve(48)\n",
    "assert fm2_1.Resolve(48) == fm2_29.Resolve(48)"
   ]
  },
  {
   "cell_type": "code",
   "execution_count": 215,
   "id": "3d3d082a",
   "metadata": {},
   "outputs": [],
   "source": [
    "assert fm2_1.Range(patternInString2) == fm2_3.Range(patternInString2)\n",
    "assert fm2_1.Range(patternInString2) == fm2_16.Range(patternInString2)\n",
    "assert fm2_1.Range(patternInString2) == fm2_29.Range(patternInString2)"
   ]
  },
  {
   "cell_type": "code",
   "execution_count": 216,
   "id": "17930d6c",
   "metadata": {},
   "outputs": [],
   "source": [
    "assert fm3_1.CountLetterWithCheckpoints(34, 'j') == fm3_7.CountLetterWithCheckpoints(34, 'j')\n",
    "assert fm3_1.CountLetterWithCheckpoints(34, 'j') == fm3_16.CountLetterWithCheckpoints(34, 'j')\n",
    "assert fm3_1.CountLetterWithCheckpoints(34, 'j') == fm3_41.CountLetterWithCheckpoints(34, 'j')"
   ]
  },
  {
   "cell_type": "code",
   "execution_count": 217,
   "id": "82595031",
   "metadata": {},
   "outputs": [],
   "source": [
    "assert fm3_1.Rank(34, 'j') == fm3_7.Rank(34, 'j')\n",
    "assert fm3_1.Rank(34, 'j') == fm3_16.Rank(34, 'j')\n",
    "assert fm3_1.Rank(34, 'j') == fm3_41.Rank(34, 'j')"
   ]
  },
  {
   "cell_type": "code",
   "execution_count": 218,
   "id": "fa1ad766",
   "metadata": {},
   "outputs": [],
   "source": [
    "assert fm3_1.Resolve(34) == fm3_7.Resolve(34)\n",
    "assert fm3_1.Resolve(34) == fm3_16.Resolve(34)\n",
    "assert fm3_1.Resolve(34) == fm3_41.Resolve(34)"
   ]
  },
  {
   "cell_type": "code",
   "execution_count": 219,
   "id": "72fa1cbd",
   "metadata": {},
   "outputs": [],
   "source": [
    "assert fm3_1.Range(patternInString3) == fm3_7.Range(patternInString3)\n",
    "assert fm3_1.Range(patternInString3) == fm3_16.Range(patternInString3)\n",
    "assert fm3_1.Range(patternInString3) == fm3_41.Range(patternInString3)"
   ]
  },
  {
   "cell_type": "code",
   "execution_count": 220,
   "id": "ce8dc176",
   "metadata": {},
   "outputs": [],
   "source": [
    "assert fm4_1.CountLetterWithCheckpoints(50, 'A') == fm4_4.CountLetterWithCheckpoints(50, 'A')\n",
    "assert fm4_1.CountLetterWithCheckpoints(50, 'A') == fm4_16.CountLetterWithCheckpoints(50, 'A')\n",
    "assert fm4_1.CountLetterWithCheckpoints(50, 'A') == fm4_64.CountLetterWithCheckpoints(50, 'A')"
   ]
  },
  {
   "cell_type": "code",
   "execution_count": 221,
   "id": "29ef3f55",
   "metadata": {},
   "outputs": [],
   "source": [
    "assert fm4_1.Rank(50, 'A') == fm4_4.Rank(50, 'A')\n",
    "assert fm4_1.Rank(50, 'A') == fm4_16.Rank(50, 'A')\n",
    "assert fm4_1.Rank(50, 'A') == fm4_64.Rank(50, 'A')"
   ]
  },
  {
   "cell_type": "code",
   "execution_count": 222,
   "id": "c11e37fa",
   "metadata": {},
   "outputs": [],
   "source": [
    "assert fm4_1.Resolve(50) == fm4_4.Resolve(50)\n",
    "assert fm4_1.Resolve(50) == fm4_16.Resolve(50)\n",
    "assert fm4_1.Resolve(50) == fm4_64.Resolve(50)"
   ]
  },
  {
   "cell_type": "code",
   "execution_count": 223,
   "id": "865eb420",
   "metadata": {},
   "outputs": [],
   "source": [
    "assert fm4_1.Range(patternInString4) == fm4_4.Range(patternInString4)\n",
    "assert fm4_1.Range(patternInString4) == fm4_16.Range(patternInString4)\n",
    "assert fm4_1.Range(patternInString4) == fm4_64.Range(patternInString4)"
   ]
  },
  {
   "cell_type": "code",
   "execution_count": null,
   "id": "beedf776",
   "metadata": {},
   "outputs": [],
   "source": []
  }
 ],
 "metadata": {
  "kernelspec": {
   "display_name": "Python 3 (ipykernel)",
   "language": "python",
   "name": "python3"
  },
  "language_info": {
   "codemirror_mode": {
    "name": "ipython",
    "version": 3
   },
   "file_extension": ".py",
   "mimetype": "text/x-python",
   "name": "python",
   "nbconvert_exporter": "python",
   "pygments_lexer": "ipython3",
   "version": "3.9.12"
  }
 },
 "nbformat": 4,
 "nbformat_minor": 5
}
