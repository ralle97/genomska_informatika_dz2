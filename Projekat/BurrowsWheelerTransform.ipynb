{
 "cells": [
  {
   "cell_type": "code",
   "execution_count": 37,
   "id": "bd446958",
   "metadata": {},
   "outputs": [],
   "source": [
    "from Bio import SeqIO\n",
    "import time"
   ]
  },
  {
   "cell_type": "code",
   "execution_count": 41,
   "id": "068ae635",
   "metadata": {},
   "outputs": [],
   "source": [
    "\"\"\" Paths to FASTA data files \"\"\"\n",
    "\n",
    "pathToFile1 = \"./data/13443_ref_Cara_1.0_chr1c.fa\"\n",
    "pathToFile2 = \"./data/10093_ref_PAHARI_EIJ_v1.1_chrX.fa\"\n",
    "pathToFile3 = \"./data/144034_ref_Pbar_UMD_V03_chrUn.fa\"\n",
    "\n",
    "files = [\n",
    "    pathToFile1,\n",
    "    pathToFile2,\n",
    "    pathToFile3\n",
    "]"
   ]
  },
  {
   "cell_type": "code",
   "execution_count": 56,
   "id": "d7a69487",
   "metadata": {},
   "outputs": [],
   "source": [
    "\"\"\" Search patterns for data files \"\"\"\n",
    "\n",
    "patternsForFile1 = [\n",
    "    \"ATGCATG\",\n",
    "    \"TCTCTCTA\",\n",
    "    \"TTCACTACTCTCA\"\n",
    "]\n",
    "\n",
    "patternsForFile2 = [\n",
    "    \"ATGATG\",\n",
    "    \"CTCTCTA\",\n",
    "    \"TCACTACTCTCA\"\n",
    "]\n",
    "\n",
    "patternsForFile3 = []"
   ]
  },
  {
   "cell_type": "code",
   "execution_count": 2,
   "id": "62287778",
   "metadata": {},
   "outputs": [],
   "source": [
    "\"\"\" Return list of rotations of input string t \"\"\"\n",
    "def Rotations(t):\n",
    "    tt = t * 2\n",
    "    return [tt[i : i + len(t)] for i in range(0, len(t))]"
   ]
  },
  {
   "cell_type": "code",
   "execution_count": 3,
   "id": "ffe254ab",
   "metadata": {},
   "outputs": [],
   "source": [
    "\"\"\" Return lexicographically sorted list of t's rotations \"\"\"\n",
    "def BWM(t):\n",
    "    return sorted(rotations(t))"
   ]
  },
  {
   "cell_type": "code",
   "execution_count": 4,
   "id": "79bfef80",
   "metadata": {},
   "outputs": [],
   "source": [
    "\"\"\" Given T, returns BWT(T) (last column) by creating BWM \"\"\"\n",
    "def BWTViaBWM(t):\n",
    "    return ''.join(map(lambda x: x[-1], BWM(t)))"
   ]
  },
  {
   "cell_type": "code",
   "execution_count": 51,
   "id": "ef7f1ecd",
   "metadata": {},
   "outputs": [],
   "source": [
    "\"\"\" Test examples \"\"\"\n",
    "\n",
    "test1 = \"Tomorrow_and_tomorrow_and_tomorrow$\"\n",
    "test2 = \"It_was_the_best_of_times_it_was_the_worst_of_times$\"\n",
    "test3 = \"in_the_jingle_jangle_morning_Ill_come_following_you$\"\n",
    "test4 = \"GATTTGGGGTTCAAAGCAGTATCGATCAAATAGTAAATCCATTTGTTCAACTCACAGTTTGATTTGG\\\n",
    "GGTTCAAAGCAGTAATTTGGGGTTCAAAGCAGTATCGACAAATAGTAAATCCATTTGTTCATTCAAAGCAGTAATT\\\n",
    "TGGGGTTATTTGGGGTTCAAAGCAGTATCGATCAAATAGTAAATCCATTTGTTCAACTCACAGTTT$\""
   ]
  },
  {
   "cell_type": "code",
   "execution_count": 52,
   "id": "15ff6073",
   "metadata": {},
   "outputs": [
    {
     "name": "stdout",
     "output_type": "stream",
     "text": [
      "w$wwdd__nnoooaattTmmmrrrrrrooo__ooo\n",
      "\n",
      "s$esttssfftteww_hhmmbootttt_ii__woeeaaressIi_______\n",
      "\n",
      "u_gleeeengj_mlhl_nnnnt$nwj__lggIolo_iiiiarfcmylo_oo_\n",
      "\n",
      "CCCCCCCCTTTCCAAAAAAAAAAATTGCCAAAAAAATTTCCCCCCCAAAGGAAATTTCAGAGTCCCTTTTTTTATTTTGGGGGAATCCCTTTTTTAACCCTTAAAAATTTTTGGGGGGGGGGAAAAAAAAGGGGGTTTAAGGGGGAAAGGGTTTTTTAATTCCTAAAAAATTTTTTTTTTGAGGGGGGGTTTTTTTTTTGGAAAAAAAA\n",
      "\n"
     ]
    }
   ],
   "source": [
    "\"\"\" Test of Burrows-Wheeler Matrix algorithm \"\"\"\n",
    "\n",
    "print(BWTViaBWM(test1) + \"\\n\")\n",
    "print(BWTViaBWM(test2) + \"\\n\")\n",
    "print(BWTViaBWM(test3) + \"\\n\")\n",
    "print(BWTViaBWM(test4) + \"\\n\")"
   ]
  },
  {
   "cell_type": "code",
   "execution_count": 53,
   "id": "2b0a5e32",
   "metadata": {},
   "outputs": [],
   "source": [
    "\"\"\" Save Burrows-Wheeler transforms for later test of reversal function \"\"\"\n",
    "\n",
    "bwt1 = BWTViaBWM(test1)\n",
    "bwt2 = BWTViaBWM(test2)\n",
    "bwt3 = BWTViaBWM(test3)\n",
    "bwt4 = BWTViaBWM(test4)"
   ]
  },
  {
   "cell_type": "code",
   "execution_count": 10,
   "id": "23df5a08",
   "metadata": {},
   "outputs": [],
   "source": [
    "\"\"\" Given T return suffix array SA(T) \"\"\"\n",
    "def SuffixArray(s):\n",
    "    satups = sorted([(s[i:], i) for i in range(len(s))])\n",
    "    # Extract and return just the offsets\n",
    "    return map(lambda x: x[1], satups)"
   ]
  },
  {
   "cell_type": "code",
   "execution_count": 8,
   "id": "219aadd6",
   "metadata": {},
   "outputs": [],
   "source": [
    "\"\"\" Given T, returns BWT(T) (last column) by way of the suffix array \"\"\"\n",
    "def BWTViaSA(t):\n",
    "    bw = []\n",
    "    for si in SuffixArray(t):\n",
    "        if si == 0:\n",
    "            bw.append('$')\n",
    "        else:\n",
    "            bw.append(t[si - 1])\n",
    "    return ''.join(bw) # returns string version of list bw"
   ]
  },
  {
   "cell_type": "code",
   "execution_count": 54,
   "id": "a6c06553",
   "metadata": {},
   "outputs": [
    {
     "name": "stdout",
     "output_type": "stream",
     "text": [
      "w$wwdd__nnoooaattTmmmrrrrrrooo__ooo\n",
      "\n",
      "s$esttssfftteww_hhmmbootttt_ii__woeeaaressIi_______\n",
      "\n",
      "u_gleeeengj_mlhl_nnnnt$nwj__lggIolo_iiiiarfcmylo_oo_\n",
      "\n",
      "CCCCCCCCTTTCCAAAAAAAAAAATTGCCAAAAAAATTTCCCCCCCAAAGGAAATTTCAGATGCCCTTTTTTTATTTTGGGGGAATCCCTTTTTTAACCCT$AAAAATTTTTGGGGGGGGGGAAAAAAAAGGGGGTTTAATGGGGGAAAGGGTTTTTTAATTCCTAAAAAATTTTTTTTTTGAGGGGGGGTTTTTTTTTGGAAAAAAAA\n",
      "\n"
     ]
    }
   ],
   "source": [
    "\"\"\" Test of Suffix Array algorithm \"\"\"\n",
    "\n",
    "print(BWTViaSA(test1) + \"\\n\")\n",
    "print(BWTViaSA(test2) + \"\\n\")\n",
    "print(BWTViaSA(test3) + \"\\n\")\n",
    "print(BWTViaSA(test4) + \"\\n\")"
   ]
  },
  {
   "cell_type": "code",
   "execution_count": 20,
   "id": "667e8ee9",
   "metadata": {},
   "outputs": [],
   "source": [
    "\"\"\" Given BWT string bw, return parallel list of B-ranks. Also\n",
    "    return tots: map from character to # times it appears. \"\"\"\n",
    "def RankBWT(bw):\n",
    "    tots = dict()\n",
    "    ranks = []\n",
    "    for c in bw:\n",
    "        if c not in tots:\n",
    "            tots[c] = 0\n",
    "        ranks.append(tots[c])\n",
    "        tots[c] += 1\n",
    "    return ranks, tots"
   ]
  },
  {
   "cell_type": "code",
   "execution_count": 24,
   "id": "0146aa67",
   "metadata": {},
   "outputs": [],
   "source": [
    "\"\"\" Return map from character to the range of rows prefixed by \n",
    "    the character. \"\"\"\n",
    "def FirstColumn(tots):\n",
    "    first = {}\n",
    "    totc = 0\n",
    "    for c, count in sorted(tots.items()):\n",
    "        first[c] = (totc, totc + count)\n",
    "        totc += count\n",
    "    return first"
   ]
  },
  {
   "cell_type": "code",
   "execution_count": 25,
   "id": "8be6f5f8",
   "metadata": {},
   "outputs": [],
   "source": [
    "\"\"\" Make T from BWT(T) \"\"\"\n",
    "def ReverseBWT(bw):\n",
    "    ranks, tots = RankBWT(bw)\n",
    "    first = FirstColumn(tots)\n",
    "    rowi = 0   # first row\n",
    "    t = '$'    # rightmost character\n",
    "    while bw[rowi] != '$':\n",
    "        c = bw[rowi]\n",
    "        t = c + t    # prepend to answer\n",
    "        # jump to row that starts with c of same rank\n",
    "        rowi = first[c][0] + ranks[rowi]\n",
    "    return t"
   ]
  },
  {
   "cell_type": "code",
   "execution_count": null,
   "id": "a93f06a1",
   "metadata": {},
   "outputs": [],
   "source": [
    "\"\"\" Test of Reversal algorithm \"\"\"\n",
    "\n",
    "assert test1 == ReverseBWT(bwt1)\n",
    "assert test2 == ReverseBWT(bwt2)\n",
    "assert test3 == ReverseBWT(bwt3)\n",
    "assert test4 == ReverseBWT(bwt4)"
   ]
  },
  {
   "cell_type": "code",
   "execution_count": 44,
   "id": "8f097494",
   "metadata": {},
   "outputs": [],
   "source": [
    "\"\"\" FASTA sequences are often broken in smaller chunks. This function\n",
    "    appends all sequences for given file. \"\"\"\n",
    "def GetWholeSequenceFromFile(file):\n",
    "    # all genome records of given FASTA file\n",
    "    records = list(SeqIO.parse(file, \"fasta\"))\n",
    "    sequence = \"\"\n",
    "    # iterate over each record element\n",
    "    for i in range(0, len(records)):\n",
    "        sequence += records[i].seq\n",
    "    # sequence is now whole\n",
    "    return sequence"
   ]
  },
  {
   "cell_type": "code",
   "execution_count": 45,
   "id": "dc6773db",
   "metadata": {},
   "outputs": [],
   "source": [
    "sequences = [] # list containing all of the sequences we need to work with\n",
    "\n",
    "for file in files:\n",
    "    sequences.append(GetWholeSequenceFromFile(file))"
   ]
  },
  {
   "cell_type": "code",
   "execution_count": null,
   "id": "e71c9ab6",
   "metadata": {},
   "outputs": [],
   "source": []
  }
 ],
 "metadata": {
  "kernelspec": {
   "display_name": "Python 3 (ipykernel)",
   "language": "python",
   "name": "python3"
  },
  "language_info": {
   "codemirror_mode": {
    "name": "ipython",
    "version": 3
   },
   "file_extension": ".py",
   "mimetype": "text/x-python",
   "name": "python",
   "nbconvert_exporter": "python",
   "pygments_lexer": "ipython3",
   "version": "3.9.12"
  }
 },
 "nbformat": 4,
 "nbformat_minor": 5
}
