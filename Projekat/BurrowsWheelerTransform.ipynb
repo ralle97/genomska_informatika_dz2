{
 "cells": [
  {
   "cell_type": "code",
   "execution_count": 2,
   "id": "ff874dae",
   "metadata": {},
   "outputs": [],
   "source": [
    "def Rotations(t):\n",
    "    \"\"\" Return list of rotations of input string t \"\"\"\n",
    "    tt = t * 2\n",
    "    return [tt[i : i + len(t)] for i in range(0, len(t))]"
   ]
  },
  {
   "cell_type": "code",
   "execution_count": 3,
   "id": "f3c0de13",
   "metadata": {},
   "outputs": [],
   "source": [
    "def BWM(t):\n",
    "    \"\"\" Return lexicographically sorted list of t's rotations \"\"\"\n",
    "    return sorted(rotations(t))"
   ]
  },
  {
   "cell_type": "code",
   "execution_count": 4,
   "id": "dbbeff36",
   "metadata": {},
   "outputs": [],
   "source": [
    "def BWTViaBWM(t):\n",
    "    \"\"\" Given T, returns BWT(T) (last column) by creating BWM \"\"\"\n",
    "    return ''.join(map(lambda x: x[-1], BWM(t)))"
   ]
  },
  {
   "cell_type": "code",
   "execution_count": 12,
   "id": "cc02448f",
   "metadata": {},
   "outputs": [],
   "source": [
    "test1 = \"Tomorrow_and_tomorrow_and_tomorrow$\"\n",
    "test2 = \"It_was_the_best_of_times_it_was_the_worst_of_times$\"\n",
    "test3 = \"in_the_jingle_jangle_morning_Ill_come_following_you$\""
   ]
  },
  {
   "cell_type": "code",
   "execution_count": 13,
   "id": "8dbba386",
   "metadata": {},
   "outputs": [
    {
     "name": "stdout",
     "output_type": "stream",
     "text": [
      "w$wwdd__nnoooaattTmmmrrrrrrooo__ooo\n",
      "s$esttssfftteww_hhmmbootttt_ii__woeeaaressIi_______\n",
      "u_gleeeengj_mlhl_nnnnt$nwj__lggIolo_iiiiarfcmylo_oo_\n"
     ]
    }
   ],
   "source": [
    "print(BWTViaBWM(test1))\n",
    "print(BWTViaBWM(test2))\n",
    "print(BWTViaBWM(test3))"
   ]
  },
  {
   "cell_type": "code",
   "execution_count": 14,
   "id": "592a72b4",
   "metadata": {},
   "outputs": [],
   "source": [
    "bwt1 = BWTViaBWM(test1)\n",
    "bwt2 = BWTViaBWM(test2)\n",
    "bwt3 = BWTViaBWM(test3)"
   ]
  },
  {
   "cell_type": "code",
   "execution_count": 10,
   "id": "5ec1d987",
   "metadata": {},
   "outputs": [],
   "source": [
    "def SuffixArray(s):\n",
    "    \"\"\" Given T return suffix array SA(T) \"\"\"\n",
    "    satups = sorted([(s[i:], i) for i in range(len(s))])\n",
    "    # Extract and return just the offsets\n",
    "    return map(lambda x: x[1], satups)"
   ]
  },
  {
   "cell_type": "code",
   "execution_count": 8,
   "id": "05120f12",
   "metadata": {},
   "outputs": [],
   "source": [
    "def BWTViaSA(t):\n",
    "    \"\"\" Given T, returns BWT(T) (last column) by way of the suffix array \"\"\"\n",
    "    bw = []\n",
    "    for si in SuffixArray(t):\n",
    "        if si == 0:\n",
    "            bw.append('$')\n",
    "        else:\n",
    "            bw.append(t[si - 1])\n",
    "    return ''.join(bw) # returns string version of list bw"
   ]
  },
  {
   "cell_type": "code",
   "execution_count": 28,
   "id": "feaef161",
   "metadata": {},
   "outputs": [
    {
     "name": "stdout",
     "output_type": "stream",
     "text": [
      "w$wwdd__nnoooaattTmmmrrrrrrooo__ooo\n",
      "s$esttssfftteww_hhmmbootttt_ii__woeeaaressIi_______\n",
      "u_gleeeengj_mlhl_nnnnt$nwj__lggIolo_iiiiarfcmylo_oo_\n"
     ]
    }
   ],
   "source": [
    "print(BWTViaSA(test1))\n",
    "print(BWTViaSA(test2))\n",
    "print(BWTViaSA(test3))"
   ]
  },
  {
   "cell_type": "code",
   "execution_count": 20,
   "id": "0e097f29",
   "metadata": {},
   "outputs": [],
   "source": [
    "def RankBWT(bw):\n",
    "    \"\"\" Given BWT string bw, return parallel list of B-ranks. Also\n",
    "        return tots: map from character to # times it appears. \"\"\"\n",
    "    tots = dict()\n",
    "    ranks = []\n",
    "    for c in bw:\n",
    "        if c not in tots:\n",
    "            tots[c] = 0\n",
    "        ranks.append(tots[c])\n",
    "        tots[c] += 1\n",
    "    return ranks, tots"
   ]
  },
  {
   "cell_type": "code",
   "execution_count": 24,
   "id": "52d381da",
   "metadata": {},
   "outputs": [],
   "source": [
    "def FirstColumn(tots):\n",
    "    \"\"\" Return map from character to the range of rows prefixed by\n",
    "        the character. \"\"\"\n",
    "    first = {}\n",
    "    totc = 0\n",
    "    for c, count in sorted(tots.items()):\n",
    "        first[c] = (totc, totc + count)\n",
    "        totc += count\n",
    "    return first"
   ]
  },
  {
   "cell_type": "code",
   "execution_count": 25,
   "id": "1290b957",
   "metadata": {},
   "outputs": [],
   "source": [
    "def ReverseBWT(bw):\n",
    "    \"\"\" Make T from BWT(T) \"\"\"\n",
    "    ranks, tots = RankBWT(bw)\n",
    "    first = FirstColumn(tots)\n",
    "    rowi = 0   # first row\n",
    "    t = '$'    # rightmost character\n",
    "    while bw[rowi] != '$':\n",
    "        c = bw[rowi]\n",
    "        t = c + t    # prepend to answer\n",
    "        # jump to row that starts with c of same rank\n",
    "        rowi = first[c][0] + ranks[rowi]\n",
    "    return t"
   ]
  },
  {
   "cell_type": "code",
   "execution_count": 27,
   "id": "d0c5a5a2",
   "metadata": {},
   "outputs": [],
   "source": [
    "assert test1 == ReverseBWT(bwt1)\n",
    "assert test2 == ReverseBWT(bwt2)\n",
    "assert test3 == ReverseBWT(bwt3)"
   ]
  },
  {
   "cell_type": "code",
   "execution_count": null,
   "id": "7069d96c",
   "metadata": {},
   "outputs": [],
   "source": []
  }
 ],
 "metadata": {
  "kernelspec": {
   "display_name": "Python 3 (ipykernel)",
   "language": "python",
   "name": "python3"
  },
  "language_info": {
   "codemirror_mode": {
    "name": "ipython",
    "version": 3
   },
   "file_extension": ".py",
   "mimetype": "text/x-python",
   "name": "python",
   "nbconvert_exporter": "python",
   "pygments_lexer": "ipython3",
   "version": "3.9.12"
  }
 },
 "nbformat": 4,
 "nbformat_minor": 5
}
