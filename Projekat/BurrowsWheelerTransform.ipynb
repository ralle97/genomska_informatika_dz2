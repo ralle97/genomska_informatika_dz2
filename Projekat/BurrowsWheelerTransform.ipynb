{
 "cells": [
  {
   "cell_type": "code",
   "execution_count": 1,
   "id": "66cffec5",
   "metadata": {},
   "outputs": [],
   "source": [
    "from Bio import SeqIO\n",
    "import time\n",
    "import psutil\n",
    "import os"
   ]
  },
  {
   "cell_type": "code",
   "execution_count": 2,
   "id": "ffea08f2",
   "metadata": {},
   "outputs": [],
   "source": [
    "\"\"\" Paths to FASTA data files \"\"\"\n",
    "\n",
    "pathToFile1 = \"./data/13443_ref_Cara_1.0_chr1c.fa\"\n",
    "pathToFile2 = \"./data/10093_ref_PAHARI_EIJ_v1.1_chrX.fa\"\n",
    "pathToFile3 = \"./data/144034_ref_Pbar_UMD_V03_chrUn.fa\"\n",
    "\n",
    "files = [\n",
    "    pathToFile1,\n",
    "    pathToFile2,\n",
    "    pathToFile3\n",
    "]"
   ]
  },
  {
   "cell_type": "code",
   "execution_count": 3,
   "id": "6e995df3",
   "metadata": {},
   "outputs": [],
   "source": [
    "\"\"\" Search patterns for data files \"\"\"\n",
    "\n",
    "patternsForFile1 = [\n",
    "    \"ATGCATG\",\n",
    "    \"TCTCTCTA\",\n",
    "    \"TTCACTACTCTCA\"\n",
    "]\n",
    "\n",
    "patternsForFile2 = [\n",
    "    \"ATGATG\",\n",
    "    \"CTCTCTA\",\n",
    "    \"TCACTACTCTCA\"\n",
    "]\n",
    "\n",
    "patternsForFile3 = []"
   ]
  },
  {
   "cell_type": "code",
   "execution_count": 4,
   "id": "80d09d7f",
   "metadata": {},
   "outputs": [],
   "source": [
    "\"\"\" Return list of rotations of input string t \"\"\"\n",
    "def Rotations(t):\n",
    "    tt = t * 2\n",
    "    return [tt[i : i + len(t)] for i in range(0, len(t))]"
   ]
  },
  {
   "cell_type": "code",
   "execution_count": 5,
   "id": "cb77247b",
   "metadata": {},
   "outputs": [],
   "source": [
    "\"\"\" Return lexicographically sorted list of t's rotations \"\"\"\n",
    "def BWM(t):\n",
    "    return sorted(Rotations(t))"
   ]
  },
  {
   "cell_type": "code",
   "execution_count": 6,
   "id": "f786f0f2",
   "metadata": {},
   "outputs": [],
   "source": [
    "\"\"\" Given T, returns BWT(T) (last column) by creating BWM \"\"\"\n",
    "def BWTViaBWM(t):\n",
    "    return ''.join(map(lambda x: x[-1], BWM(t)))"
   ]
  },
  {
   "cell_type": "code",
   "execution_count": 7,
   "id": "cc5dcced",
   "metadata": {},
   "outputs": [],
   "source": [
    "\"\"\" Test examples \"\"\"\n",
    "\n",
    "test1 = \"Tomorrow_and_tomorrow_and_tomorrow$\"\n",
    "test2 = \"It_was_the_best_of_times_it_was_the_worst_of_times$\"\n",
    "test3 = \"in_the_jingle_jangle_morning_Ill_come_following_you$\"\n",
    "test4 = \"GATTTGGGGTTCAAAGCAGTATCGATCAAATAGTAAATCCATTTGTTCAACTCACAGTTTGATTTGG\\\n",
    "GGTTCAAAGCAGTAATTTGGGGTTCAAAGCAGTATCGACAAATAGTAAATCCATTTGTTCATTCAAAGCAGTAATT\\\n",
    "TGGGGTTATTTGGGGTTCAAAGCAGTATCGATCAAATAGTAAATCCATTTGTTCAACTCACAGTTT$\""
   ]
  },
  {
   "cell_type": "code",
   "execution_count": 8,
   "id": "afb6cc9a",
   "metadata": {},
   "outputs": [
    {
     "name": "stdout",
     "output_type": "stream",
     "text": [
      "w$wwdd__nnoooaattTmmmrrrrrrooo__ooo\n",
      "\n",
      "s$esttssfftteww_hhmmbootttt_ii__woeeaaressIi_______\n",
      "\n",
      "u_gleeeengj_mlhl_nnnnt$nwj__lggIolo_iiiiarfcmylo_oo_\n",
      "\n",
      "TCCCCCCCCTTTCCAAAAAAAAAAATTGCCAAAAAAATTTCCCCCCCAAAGGAAATTTCAGATGCCCTTTTTTTATTTTGGGGGAATCCCTTTTTTAACCCT$AAAAATTTTTGGGGGGGGGGAAAAAAAAGGGGGTTTAATGGGGGAAAGGGTTTTTTAATTCCTAAAAAATTTTTTTTTTGAGGGGGGGTTTTTTTTTGGAAAAAAAA\n",
      "\n"
     ]
    }
   ],
   "source": [
    "\"\"\" Test of Burrows-Wheeler Matrix algorithm \"\"\"\n",
    "\n",
    "print(BWTViaBWM(test1) + \"\\n\")\n",
    "print(BWTViaBWM(test2) + \"\\n\")\n",
    "print(BWTViaBWM(test3) + \"\\n\")\n",
    "print(BWTViaBWM(test4) + \"\\n\")"
   ]
  },
  {
   "cell_type": "code",
   "execution_count": 9,
   "id": "5b8d8e37",
   "metadata": {},
   "outputs": [],
   "source": [
    "\"\"\" Save Burrows-Wheeler transforms for later test of reversal function \"\"\"\n",
    "\n",
    "bwt1 = BWTViaBWM(test1)\n",
    "bwt2 = BWTViaBWM(test2)\n",
    "bwt3 = BWTViaBWM(test3)\n",
    "bwt4 = BWTViaBWM(test4)"
   ]
  },
  {
   "cell_type": "code",
   "execution_count": 10,
   "id": "39f1be82",
   "metadata": {},
   "outputs": [],
   "source": [
    "\"\"\" Given T return suffix array SA(T) \"\"\"\n",
    "def SuffixArray(s):\n",
    "    satups = sorted([(s[i:], i) for i in range(len(s))])\n",
    "    # Extract and return just the offsets\n",
    "    return map(lambda x: x[1], satups)"
   ]
  },
  {
   "cell_type": "code",
   "execution_count": 11,
   "id": "f40f88a8",
   "metadata": {},
   "outputs": [],
   "source": [
    "\"\"\" Given T, returns BWT(T) (last column) by way of the suffix array \"\"\"\n",
    "def BWTViaSA(t):\n",
    "    bw = []\n",
    "    for si in SuffixArray(t):\n",
    "        if si == 0:\n",
    "            bw.append('$')\n",
    "        else:\n",
    "            bw.append(t[si - 1])\n",
    "    return ''.join(bw) # returns string version of list bw"
   ]
  },
  {
   "cell_type": "code",
   "execution_count": 12,
   "id": "fb44dc40",
   "metadata": {},
   "outputs": [
    {
     "name": "stdout",
     "output_type": "stream",
     "text": [
      "w$wwdd__nnoooaattTmmmrrrrrrooo__ooo\n",
      "\n",
      "s$esttssfftteww_hhmmbootttt_ii__woeeaaressIi_______\n",
      "\n",
      "u_gleeeengj_mlhl_nnnnt$nwj__lggIolo_iiiiarfcmylo_oo_\n",
      "\n",
      "TCCCCCCCCTTTCCAAAAAAAAAAATTGCCAAAAAAATTTCCCCCCCAAAGGAAATTTCAGATGCCCTTTTTTTATTTTGGGGGAATCCCTTTTTTAACCCT$AAAAATTTTTGGGGGGGGGGAAAAAAAAGGGGGTTTAATGGGGGAAAGGGTTTTTTAATTCCTAAAAAATTTTTTTTTTGAGGGGGGGTTTTTTTTTGGAAAAAAAA\n",
      "\n"
     ]
    }
   ],
   "source": [
    "\"\"\" Test of Suffix Array algorithm \"\"\"\n",
    "\n",
    "print(BWTViaSA(test1) + \"\\n\")\n",
    "print(BWTViaSA(test2) + \"\\n\")\n",
    "print(BWTViaSA(test3) + \"\\n\")\n",
    "print(BWTViaSA(test4) + \"\\n\")"
   ]
  },
  {
   "cell_type": "code",
   "execution_count": 13,
   "id": "6944581d",
   "metadata": {},
   "outputs": [],
   "source": [
    "\"\"\" Given BWT string bw, return parallel list of B-ranks. Also\n",
    "    return tots: map from character to # times it appears. \"\"\"\n",
    "def RankBWT(bw):\n",
    "    tots = dict()\n",
    "    ranks = []\n",
    "    for c in bw:\n",
    "        if c not in tots:\n",
    "            tots[c] = 0\n",
    "        ranks.append(tots[c])\n",
    "        tots[c] += 1\n",
    "    return ranks, tots"
   ]
  },
  {
   "cell_type": "code",
   "execution_count": 14,
   "id": "ba54991b",
   "metadata": {},
   "outputs": [],
   "source": [
    "\"\"\" Return map from character to the range of rows prefixed by \n",
    "    the character. \"\"\"\n",
    "def FirstColumn(tots):\n",
    "    first = {}\n",
    "    totc = 0\n",
    "    for c, count in sorted(tots.items()):\n",
    "        first[c] = (totc, totc + count)\n",
    "        totc += count\n",
    "    return first"
   ]
  },
  {
   "cell_type": "code",
   "execution_count": 15,
   "id": "6983dcba",
   "metadata": {},
   "outputs": [],
   "source": [
    "\"\"\" Make T from BWT(T) \"\"\"\n",
    "def ReverseBWT(bw):\n",
    "    ranks, tots = RankBWT(bw)\n",
    "    first = FirstColumn(tots)\n",
    "    rowi = 0   # first row\n",
    "    t = '$'    # rightmost character\n",
    "    while bw[rowi] != '$':\n",
    "        c = bw[rowi]\n",
    "        t = c + t    # prepend to answer\n",
    "        # jump to row that starts with c of same rank\n",
    "        rowi = first[c][0] + ranks[rowi]\n",
    "    return t"
   ]
  },
  {
   "cell_type": "code",
   "execution_count": 16,
   "id": "5020a403",
   "metadata": {},
   "outputs": [],
   "source": [
    "\"\"\" Test of Reversal algorithm \"\"\"\n",
    "\n",
    "assert test1 == ReverseBWT(bwt1)\n",
    "assert test2 == ReverseBWT(bwt2)\n",
    "assert test3 == ReverseBWT(bwt3)\n",
    "assert test4 == ReverseBWT(bwt4)"
   ]
  },
  {
   "cell_type": "code",
   "execution_count": 17,
   "id": "af23c51f",
   "metadata": {},
   "outputs": [
    {
     "name": "stdout",
     "output_type": "stream",
     "text": [
      "14 µs ± 1.19 µs per loop (mean ± std. dev. of 7 runs, 100,000 loops each)\n",
      "24.9 µs ± 1.24 µs per loop (mean ± std. dev. of 7 runs, 10,000 loops each)\n",
      "23.5 µs ± 2.69 µs per loop (mean ± std. dev. of 7 runs, 10,000 loops each)\n",
      "91.8 µs ± 2.82 µs per loop (mean ± std. dev. of 7 runs, 10,000 loops each)\n",
      "\n",
      "20 µs ± 572 ns per loop (mean ± std. dev. of 7 runs, 100,000 loops each)\n",
      "28.5 µs ± 1.54 µs per loop (mean ± std. dev. of 7 runs, 10,000 loops each)\n",
      "29.7 µs ± 1.65 µs per loop (mean ± std. dev. of 7 runs, 10,000 loops each)\n",
      "136 µs ± 2.19 µs per loop (mean ± std. dev. of 7 runs, 10,000 loops each)\n",
      "\n",
      "23.9 µs ± 2.05 µs per loop (mean ± std. dev. of 7 runs, 10,000 loops each)\n",
      "36 µs ± 3.55 µs per loop (mean ± std. dev. of 7 runs, 10,000 loops each)\n",
      "35.9 µs ± 2.01 µs per loop (mean ± std. dev. of 7 runs, 10,000 loops each)\n",
      "109 µs ± 4.23 µs per loop (mean ± std. dev. of 7 runs, 10,000 loops each)\n"
     ]
    }
   ],
   "source": [
    "\"\"\" Performance measurement and benchmarking \"\"\"\n",
    "\n",
    "%timeit BWTViaBWM(test1)\n",
    "%timeit BWTViaBWM(test2)\n",
    "%timeit BWTViaBWM(test3)\n",
    "%timeit BWTViaBWM(test4)\n",
    "\n",
    "print()\n",
    "\n",
    "%timeit BWTViaSA(test1)\n",
    "%timeit BWTViaSA(test2)\n",
    "%timeit BWTViaSA(test3)\n",
    "%timeit BWTViaSA(test4)\n",
    "\n",
    "print()\n",
    "\n",
    "%timeit ReverseBWT(bwt1)\n",
    "%timeit ReverseBWT(bwt2)\n",
    "%timeit ReverseBWT(bwt3)\n",
    "%timeit ReverseBWT(bwt4)"
   ]
  },
  {
   "cell_type": "code",
   "execution_count": 18,
   "id": "796e92ac",
   "metadata": {},
   "outputs": [
    {
     "name": "stdout",
     "output_type": "stream",
     "text": [
      "Used this much memory: 13.703125 Mb\n",
      "Used this much memory: 13.75 Mb\n",
      "Used this much memory: 13.81640625 Mb\n",
      "Used this much memory: 13.859375 Mb\n"
     ]
    }
   ],
   "source": [
    "!python \"./memTest/bwmTest.py\" $test1\n",
    "!python \"./memTest/bwmTest.py\" $test2\n",
    "!python \"./memTest/bwmTest.py\" $test3\n",
    "!python \"./memTest/bwmTest.py\" $test4"
   ]
  },
  {
   "cell_type": "code",
   "execution_count": 19,
   "id": "493a1b66",
   "metadata": {},
   "outputs": [
    {
     "name": "stdout",
     "output_type": "stream",
     "text": [
      "Used this much memory: 13.73828125 Mb\n",
      "Used this much memory: 13.76171875 Mb\n",
      "Used this much memory: 13.78125 Mb\n",
      "Used this much memory: 13.80078125 Mb\n"
     ]
    }
   ],
   "source": [
    "!python \"./memTest/saTest.py\" $test1\n",
    "!python \"./memTest/saTest.py\" $test2\n",
    "!python \"./memTest/saTest.py\" $test3\n",
    "!python \"./memTest/saTest.py\" $test4"
   ]
  },
  {
   "cell_type": "code",
   "execution_count": 20,
   "id": "98086a3c",
   "metadata": {},
   "outputs": [
    {
     "name": "stdout",
     "output_type": "stream",
     "text": [
      "Used this much memory: 13.875 Mb\n",
      "Used this much memory: 13.84765625 Mb\n",
      "Used this much memory: 13.8359375 Mb\n",
      "Used this much memory: 13.78515625 Mb\n"
     ]
    }
   ],
   "source": [
    "!python \"./memTest/reverseTest.py\" $bwt1\n",
    "!python \"./memTest/reverseTest.py\" $bwt2\n",
    "!python \"./memTest/reverseTest.py\" $bwt3\n",
    "!python \"./memTest/reverseTest.py\" $bwt4"
   ]
  },
  {
   "cell_type": "code",
   "execution_count": 21,
   "id": "11b806bc",
   "metadata": {},
   "outputs": [],
   "source": [
    "\"\"\" FASTA sequences are often broken in smaller chunks. This function\n",
    "    appends all sequences for given file. \"\"\"\n",
    "def GetWholeSequenceFromFile(file):\n",
    "    # all genome records of given FASTA file\n",
    "    records = list(SeqIO.parse(file, \"fasta\"))\n",
    "    sequence = \"\"\n",
    "    # iterate over each record element\n",
    "    for i in range(0, len(records)):\n",
    "        sequence += records[i].seq\n",
    "    # sequence is now whole\n",
    "    return \"\".join(str(sequence).split())"
   ]
  },
  {
   "cell_type": "code",
   "execution_count": 22,
   "id": "c73a6c38",
   "metadata": {},
   "outputs": [],
   "source": [
    "sequences = [] # list containing all of the sequences we need to work with\n",
    "\n",
    "for file in files:\n",
    "    sequences.append(GetWholeSequenceFromFile(file) + '$')"
   ]
  },
  {
   "cell_type": "code",
   "execution_count": 23,
   "id": "d669a897",
   "metadata": {},
   "outputs": [],
   "source": [
    "#for i in range(1, len(sequences) + 1):\n",
    "#    with open(\"./data/\" + \"sequence\" + str(i) + \".txt\", \"w\") as f:\n",
    "#        f.write(sequences[i - 1])\n",
    "#        f.close()"
   ]
  },
  {
   "cell_type": "code",
   "execution_count": 13,
   "id": "1d57c0aa",
   "metadata": {},
   "outputs": [
    {
     "name": "stdout",
     "output_type": "stream",
     "text": [
      "50001\n",
      "Used this much memory: 91.45703125 Mb\n",
      "50001\n",
      "Used this much memory: 186.3984375 Mb\n",
      "50001\n",
      "Used this much memory: 270.43359375 Mb\n"
     ]
    }
   ],
   "source": [
    "!python \"./memTest/bwmTestFiles.py\" 1\n",
    "!python \"./memTest/bwmTestFiles.py\" 2\n",
    "!python \"./memTest/bwmTestFiles.py\" 3"
   ]
  },
  {
   "cell_type": "code",
   "execution_count": 10,
   "id": "27adc928",
   "metadata": {},
   "outputs": [
    {
     "name": "stdout",
     "output_type": "stream",
     "text": [
      "Used this much memory: 92.86328125 Mb\n",
      "Used this much memory: 186.89453125 Mb\n",
      "Used this much memory: 268.8359375 Mb\n"
     ]
    }
   ],
   "source": [
    "!python \"./memTest/saTestFiles.py\" 1\n",
    "!python \"./memTest/saTestFiles.py\" 2\n",
    "!python \"./memTest/saTestFiles.py\" 3"
   ]
  },
  {
   "cell_type": "code",
   "execution_count": null,
   "id": "59d01fbf",
   "metadata": {},
   "outputs": [],
   "source": []
  }
 ],
 "metadata": {
  "kernelspec": {
   "display_name": "Python 3 (ipykernel)",
   "language": "python",
   "name": "python3"
  },
  "language_info": {
   "codemirror_mode": {
    "name": "ipython",
    "version": 3
   },
   "file_extension": ".py",
   "mimetype": "text/x-python",
   "name": "python",
   "nbconvert_exporter": "python",
   "pygments_lexer": "ipython3",
   "version": "3.9.12"
  }
 },
 "nbformat": 4,
 "nbformat_minor": 5
}
