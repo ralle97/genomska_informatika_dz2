{
 "cells": [
  {
   "cell_type": "code",
   "execution_count": null,
   "id": "a758efa1",
   "metadata": {},
   "outputs": [],
   "source": [
    "#!python -m pip install pydivsufsort\n",
    "#!jupyter notebook --NotebookApp.iopub_data_rate_limit=1.0e10\n",
    "#ovo mozemo u readMe: prvi je da bi imao ovaj divsufsort, a drugi je ako jupyter pravi problem kad se ucitava fasta"
   ]
  },
  {
   "cell_type": "code",
   "execution_count": null,
   "id": "82de6f80",
   "metadata": {},
   "outputs": [],
   "source": [
    "from pydivsufsort import divsufsort"
   ]
  },
  {
   "cell_type": "code",
   "execution_count": null,
   "id": "80d09d7f",
   "metadata": {},
   "outputs": [],
   "source": [
    "\"\"\" Return list of rotations of input string t \"\"\"\n",
    "def Rotations(t):\n",
    "    tt = t * 2\n",
    "    return [tt[i : i + len(t)] for i in range(0, len(t))]"
   ]
  },
  {
   "cell_type": "code",
   "execution_count": null,
   "id": "cb77247b",
   "metadata": {},
   "outputs": [],
   "source": [
    "\"\"\" Return lexicographically sorted list of t's rotations \"\"\"\n",
    "def BWM(t):\n",
    "    return sorted(Rotations(t))"
   ]
  },
  {
   "cell_type": "code",
   "execution_count": null,
   "id": "f786f0f2",
   "metadata": {},
   "outputs": [],
   "source": [
    "\"\"\" Given T, returns BWT(T) (last column) by creating BWM \"\"\"\n",
    "def BWTViaBWM(t):\n",
    "    return ''.join(map(lambda x: x[-1], BWM(t)))"
   ]
  },
  {
   "cell_type": "code",
   "execution_count": null,
   "id": "39f1be82",
   "metadata": {},
   "outputs": [],
   "source": [
    "\"\"\" Given T return suffix array SA(T) \"\"\"\n",
    "def DeprecatedSuffixArray(s):\n",
    "    satups = sorted([(s[i:], i) for i in range(len(s))])\n",
    "    # Extract and return just the offsets\n",
    "    return list(map(lambda x: x[1], satups))"
   ]
  },
  {
   "cell_type": "code",
   "execution_count": null,
   "id": "6c44b6f7",
   "metadata": {},
   "outputs": [],
   "source": [
    "\"\"\" Given text, return suffix array SA(text) \"\"\"\n",
    "def SuffixArray(text):\n",
    "    return list(divsufsort(text))"
   ]
  },
  {
   "cell_type": "code",
   "execution_count": null,
   "id": "f40f88a8",
   "metadata": {},
   "outputs": [],
   "source": [
    "\"\"\" Given T, returns BWT(T) (last column) by way of the suffix array \"\"\"\n",
    "def DeprecatedBWTViaSA(t):\n",
    "    bw = []\n",
    "    for si in SuffixArray(t):\n",
    "        if si == 0:\n",
    "            bw.append('$')\n",
    "        else:\n",
    "            bw.append(t[si - 1])\n",
    "    return ''.join(bw) # returns string version of list bw"
   ]
  },
  {
   "cell_type": "code",
   "execution_count": null,
   "id": "59abd216",
   "metadata": {},
   "outputs": [],
   "source": [
    "\"\"\" Given Suffix Array s and text t, return BWT(t) (last column)\"\"\"\n",
    "def BWTViaSA(text, suffixArray):\n",
    "    bw = []\n",
    "    for si in suffixArray:\n",
    "        if si == 0:\n",
    "            bw.append('$')\n",
    "        else:\n",
    "            bw.append(text[si - 1])\n",
    "    return ''.join(bw) # returns string version of list bw"
   ]
  },
  {
   "cell_type": "code",
   "execution_count": null,
   "id": "6944581d",
   "metadata": {},
   "outputs": [],
   "source": [
    "\"\"\" Given BWT string bw, return parallel list of B-ranks. Also\n",
    "    return tots: map from character to # times it appears. \"\"\"\n",
    "def RankBWT(bw):\n",
    "    tots = dict()\n",
    "    ranks = []\n",
    "    for c in bw:\n",
    "        if c not in tots:\n",
    "            tots[c] = 0\n",
    "        ranks.append(tots[c])\n",
    "        tots[c] += 1\n",
    "    return ranks, tots"
   ]
  },
  {
   "cell_type": "code",
   "execution_count": null,
   "id": "ba54991b",
   "metadata": {},
   "outputs": [],
   "source": [
    "\"\"\" Return map from character to the range of rows prefixed by \n",
    "    the character. \"\"\"\n",
    "def FirstColumn(tots):\n",
    "    first = {}\n",
    "    totc = 0\n",
    "    for c, count in sorted(tots.items()):\n",
    "        first[c] = (totc, totc + count)\n",
    "        totc += count\n",
    "    return first"
   ]
  },
  {
   "cell_type": "code",
   "execution_count": null,
   "id": "6983dcba",
   "metadata": {},
   "outputs": [],
   "source": [
    "\"\"\" Make T from BWT(T) \"\"\"\n",
    "def ReverseBWT(bw):\n",
    "    ranks, tots = RankBWT(bw)\n",
    "    first = FirstColumn(tots)\n",
    "    rowi = 0   # first row\n",
    "    t = '$'    # rightmost character\n",
    "    while bw[rowi] != '$':\n",
    "        c = bw[rowi]\n",
    "        t = c + t    # prepend to answer\n",
    "        # jump to row that starts with c of same rank\n",
    "        rowi = first[c][0] + ranks[rowi]\n",
    "    return t"
   ]
  },
  {
   "cell_type": "code",
   "execution_count": null,
   "id": "6b17d8d0",
   "metadata": {},
   "outputs": [],
   "source": [
    "\"\"\"Return the min and max ranks of a specified caracter from the BWT\"\"\"\n",
    "def setRank(ranks, lColumn, char, lowerIndex, higherIndex):\n",
    "    indexesOfChar = []\n",
    "    \n",
    "    for i in range(lowerIndex, higherIndex):#lower index is inclusive, higher is exclusive\n",
    "        if lColumn[i] == char:\n",
    "            indexesOfChar.append(i)\n",
    "        \n",
    "    lowerIndex = min(indexesOfChar)\n",
    "    higherIndex = max(indexesOfChar)\n",
    "    \n",
    "    return (ranks[lowerIndex], ranks[higherIndex])"
   ]
  },
  {
   "cell_type": "code",
   "execution_count": null,
   "id": "d51d4198",
   "metadata": {},
   "outputs": [],
   "source": [
    "\"\"\"Return the range of indexes for a specified caracter with given ranks from the First Column of BWM\"\"\"\n",
    "def setIndex(fColumn, char, lowerRank, higherRank):\n",
    "    lowerIndex = fColumn[char][0] + lowerRank\n",
    "    higherIndex = fColumn[char][0] + higherRank + 1 #+1 is to make higherIndex exclusive\n",
    "    return (lowerIndex, higherIndex)"
   ]
  },
  {
   "cell_type": "code",
   "execution_count": null,
   "id": "59d01fbf",
   "metadata": {},
   "outputs": [],
   "source": [
    "\"\"\"Return positions where the pattern matches the sequence, otherwise throw exception\"\"\"\n",
    "def DeprecatedSearch(seqence, pattern):\n",
    "    lColumn = BWTViaBWM(seqence)\n",
    "    ranks, tots = RankBWT(lColumn)\n",
    "    fColumn = FirstColumn(tots)\n",
    "    positions = SuffixArray(seqence)\n",
    "    \n",
    "    lowerIndex = 0\n",
    "    higherIndex = 0\n",
    "    lowerRank = 0\n",
    "    higherRank = 0\n",
    "    firstIteration = True\n",
    "    \n",
    "    for char in reversed(pattern):\n",
    "        if firstIteration:\n",
    "            firstIteration = False\n",
    "            (lowerIndex, higherIndex) = fColumn[char]\n",
    "            continue\n",
    "        (lowerRank, higherRank) = setRank(ranks, lColumn, char, lowerIndex, higherIndex)\n",
    "        (lowerIndex, higherIndex) = setIndex(fColumn, char, lowerRank, higherRank)\n",
    "    \n",
    "    return [positions[i] for i in range(lowerIndex, higherIndex)]"
   ]
  },
  {
   "cell_type": "code",
   "execution_count": null,
   "id": "41bb7ac3",
   "metadata": {},
   "outputs": [],
   "source": [
    "\"\"\"Return positions where the pattern matches the sequence, otherwise throw exception\"\"\"\n",
    "def Search(seqence, pattern):\n",
    "    positions = SuffixArray(seqence)\n",
    "    lColumn = BWTViaSA(seqence, positions)\n",
    "    ranks, tots = RankBWT(lColumn)\n",
    "    fColumn = FirstColumn(tots)\n",
    "    \n",
    "    lowerIndex = 0\n",
    "    higherIndex = 0\n",
    "    lowerRank = 0\n",
    "    higherRank = 0\n",
    "    firstIteration = True\n",
    "    \n",
    "    for char in reversed(pattern):\n",
    "        if firstIteration:\n",
    "            firstIteration = False\n",
    "            (lowerIndex, higherIndex) = fColumn[char]\n",
    "            continue\n",
    "        (lowerRank, higherRank) = setRank(ranks, lColumn, char, lowerIndex, higherIndex)\n",
    "        (lowerIndex, higherIndex) = setIndex(fColumn, char, lowerRank, higherRank)\n",
    "    \n",
    "    return [positions[i] for i in range(lowerIndex, higherIndex)]"
   ]
  },
  {
   "cell_type": "code",
   "execution_count": null,
   "id": "a404474c",
   "metadata": {},
   "outputs": [],
   "source": []
  }
 ],
 "metadata": {
  "kernelspec": {
   "display_name": "Python 3 (ipykernel)",
   "language": "python",
   "name": "python3"
  },
  "language_info": {
   "codemirror_mode": {
    "name": "ipython",
    "version": 3
   },
   "file_extension": ".py",
   "mimetype": "text/x-python",
   "name": "python",
   "nbconvert_exporter": "python",
   "pygments_lexer": "ipython3",
   "version": "3.9.7"
  }
 },
 "nbformat": 4,
 "nbformat_minor": 5
}
